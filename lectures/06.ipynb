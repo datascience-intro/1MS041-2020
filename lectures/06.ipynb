{
 "cells": [
  {
   "cell_type": "markdown",
   "metadata": {
    "deletable": false
   },
   "source": [
    "# [Introduction to Data Science: A Comp-Math-Stat Approach](https://lamastex.github.io/scalable-data-science/as/2019/)\n",
    "## 1MS041, 2020 \n",
    "&copy;2020 Raazesh Sainudiin, Benny Avelin. [Attribution 4.0 International (CC BY 4.0)](https://creativecommons.org/licenses/by/4.0/)"
   ]
  },
  {
   "cell_type": "markdown",
   "metadata": {},
   "source": [
    "# 06. Statistics from Data: Fetching New Zealand Earthquakes & Live Play with `data/`\n"
   ]
  },
  {
   "cell_type": "markdown",
   "metadata": {},
   "source": [
    "- Live Data-fetch of NZ EQ Data\n",
    "- More on Statistics\n",
    "- Sample Mean\n",
    "- Sample Variance\n",
    "- Order Statistics\n",
    "- Frequencies\n",
    "- Empirical Mass Function\n",
    "- Empirical Distribution Function\n",
    "- List Comprehensions\n",
    "- New Zealand Earthquakes\n",
    "- Live Play with `data/`\n",
    "  - Swedish election data\n",
    "  - Biergartens in Germany\n",
    " \n"
   ]
  },
  {
   "cell_type": "markdown",
   "metadata": {},
   "source": [
    "# Live Data-fetching Exercise Now\n",
    "\n",
    "Go to [https://quakesearch.geonet.org.nz/](https://quakesearch.geonet.org.nz/) and download data on NZ earthquakes.\n",
    "\n",
    "<img src = \"images/GeoNetQuakeSearchDownloadCSV.png\" width =800>"
   ]
  },
  {
   "cell_type": "markdown",
   "metadata": {},
   "source": [
    "In my attempt above to zoom out to include both islands of New Zealand (NZ) and get one year of data using the `Last Year` button choice from this site:\n",
    " - [https://quakesearch.geonet.org.nz/](https://quakesearch.geonet.org.nz/)\n",
    "and hitting `Search` box gave the following URLs for downloading data. I used the `DOWNLOAD` button to get my own data in Outpur Format `CSV` as chosen earlier.\n",
    "\n",
    "https://quakesearch.geonet.org.nz/csv?bbox=163.52051,-49.23912,182.19727,-32.36140&startdate=2017-06-01&enddate=2018-05-17T14:00:00\n",
    "https://quakesearch.geonet.org.nz/csv?bbox=163.52051,-49.23912,182.19727,-32.36140&startdate=2017-5-17T13:00:00&enddate=2017-06-01\n",
    "\n",
    "## What should you do now?\n",
    "\n",
    "Try to `DOWNLOAD` your own `CSV` data and store it in a file named **`my_earthquakes.csv`** (NOTE: rename the file when you download so you don't replace the file `earthquakes.csv`!) inside the folder named **`data`** that is inside the same directory that this notebook is in."
   ]
  },
  {
   "cell_type": "code",
   "execution_count": 1,
   "metadata": {},
   "outputs": [
    {
     "name": "stdout",
     "output_type": "stream",
     "text": [
      "/Users/avelin/git/datascience-in/master/jp\n"
     ]
    }
   ],
   "source": [
    "%%sh\n",
    "# print working directory\n",
    "pwd"
   ]
  },
  {
   "cell_type": "code",
   "execution_count": 2,
   "metadata": {},
   "outputs": [],
   "source": [
    "%%sh\n",
    "#s # list contents of working directory"
   ]
  },
  {
   "cell_type": "code",
   "execution_count": 3,
   "metadata": {},
   "outputs": [
    {
     "name": "stdout",
     "output_type": "stream",
     "text": [
      "NYPowerBall.csv\n",
      "co2_mm_mlo.txt\n",
      "earthquakes.csv\n",
      "earthquakes.csv.zip\n",
      "earthquakes.tgz\n",
      "earthquakes_small.csv\n",
      "final.csv\n",
      "final.csv.zip\n",
      "final.tgz\n",
      "pride_and_prejudice.txt\n",
      "rainfallInChristchurch.csv\n"
     ]
    }
   ],
   "source": [
    "%%sh\n",
    "# after download you should have the following file in directory named data\n",
    "ls data"
   ]
  },
  {
   "cell_type": "code",
   "execution_count": 4,
   "metadata": {},
   "outputs": [
    {
     "name": "stdout",
     "output_type": "stream",
     "text": [
      "publicid,eventtype,origintime,modificationtime,longitude, latitude, magnitude, depth,magnitudetype,depthtype,evaluationmethod,evaluationstatus,evaluationmode,earthmodel,usedphasecount,usedstationcount,magnitudestationcount,minimumdistance,azimuthalgap,originerror,magnitudeuncertainty\n",
      "2018p371534,,2018-05-18T11:13:48.826Z,2018-05-18T11:15:55.741Z,176.469659,-38.10063545,2.123583253,93.125,M,,NonLinLoc,,automatic,nz3drx,18,18,11,0.3996779802,94.08602902,1.036195008,0\n",
      "2018p371524,,2018-05-18T11:08:07.588Z,2018-05-18T11:11:14.319Z,176.4213445,-38.63584892,2.570467678,35.9375,M,,NonLinLoc,,automatic,nz3drx,22,22,11,0.3208135882,89.12864378,1.012353739,0\n"
     ]
    }
   ],
   "source": [
    "%%sh  \n",
    "# first three lines\n",
    "head -3 data/earthquakes_small.csv"
   ]
  },
  {
   "cell_type": "code",
   "execution_count": 5,
   "metadata": {},
   "outputs": [
    {
     "name": "stdout",
     "output_type": "stream",
     "text": [
      "2018p352775,,2018-05-11T12:38:54.732Z,2018-05-11T12:40:28.518Z,175.6063627,-40.81585537,1.835272336,13.671875,M,,NonLinLoc,,automatic,nz3drx,22,22,12,0.1097369199,84.14006379,0.3314536834,0\n",
      "2018p352725,,2018-05-11T12:12:36.343Z,2018-05-11T12:14:42.372Z,176.0372811,-38.78743116,2.103529946,76.25,M,,NonLinLoc,,automatic,nz3drx,17,17,4,0.4257033383,244.4056741,1.445270768,0\n",
      "2018p352684,,2018-05-11T11:50:06.019Z,2018-05-11T11:51:41.163Z,176.5437111,-40.07042442,1.503468463,13.671875,M,,NonLinLoc,,automatic,nz3drx,13,13,7,0.079302248,81.46123042,0.4485324555,0\n"
     ]
    }
   ],
   "source": [
    "%%sh \n",
    "# last three lines\n",
    "tail -3 data/earthquakes_small.csv"
   ]
  },
  {
   "cell_type": "code",
   "execution_count": 6,
   "metadata": {},
   "outputs": [
    {
     "name": "stdout",
     "output_type": "stream",
     "text": [
      "411 data/earthquakes_small.csv\n"
     ]
    }
   ],
   "source": [
    "%%sh  \n",
    "# number of lines in the file; menmonic from `man wc` is wc = word-count option=-l is for lines\n",
    "wc -l  data/earthquakes_small.csv"
   ]
  },
  {
   "cell_type": "code",
   "execution_count": 7,
   "metadata": {},
   "outputs": [],
   "source": [
    "#%%sh\n",
    "#man wc"
   ]
  },
  {
   "cell_type": "markdown",
   "metadata": {},
   "source": [
    "## Let's analyse the measured earth quakes in `data/earthquakes.csv`\n",
    "\n",
    "This will ensure we are all looking at the same file!\n",
    "\n",
    "But feel free to play with your own `data/my_earthquakes.csv` on the side."
   ]
  },
  {
   "cell_type": "markdown",
   "metadata": {
    "collapsed": true
   },
   "source": [
    "### Exercise:\n",
    "Grab lat, lon, magnitude"
   ]
  },
  {
   "cell_type": "code",
   "execution_count": 1,
   "metadata": {},
   "outputs": [],
   "source": [
    "with open(\"data/earthquakes_small.csv\") as f:\n",
    "    reader = f.read()\n",
    "    \n",
    "dataList = reader.split('\\n')"
   ]
  },
  {
   "cell_type": "code",
   "execution_count": 2,
   "metadata": {},
   "outputs": [
    {
     "data": {
      "text/plain": [
       "412"
      ]
     },
     "execution_count": 2,
     "metadata": {},
     "output_type": "execute_result"
    }
   ],
   "source": [
    "len(dataList)"
   ]
  },
  {
   "cell_type": "code",
   "execution_count": 3,
   "metadata": {},
   "outputs": [
    {
     "data": {
      "text/plain": [
       "'publicid,eventtype,origintime,modificationtime,longitude, latitude, magnitude, depth,magnitudetype,depthtype,evaluationmethod,evaluationstatus,evaluationmode,earthmodel,usedphasecount,usedstationcount,magnitudestationcount,minimumdistance,azimuthalgap,originerror,magnitudeuncertainty'"
      ]
     },
     "execution_count": 3,
     "metadata": {},
     "output_type": "execute_result"
    }
   ],
   "source": [
    "dataList[0]"
   ]
  },
  {
   "cell_type": "code",
   "execution_count": 4,
   "metadata": {},
   "outputs": [
    {
     "data": {
      "text/plain": [
       "''"
      ]
     },
     "execution_count": 4,
     "metadata": {},
     "output_type": "execute_result"
    }
   ],
   "source": [
    "dataList[-1] # Remember last line is empty"
   ]
  },
  {
   "cell_type": "code",
   "execution_count": 6,
   "metadata": {},
   "outputs": [],
   "source": [
    "myDataAccumulatorList =[]\n",
    "for data in dataList[1:-2]:\n",
    "    dataRow = data.split(',')\n",
    "    myData = [dataRow[4],dataRow[5],dataRow[6]]\n",
    "    myFloatData = tuple([float(x) for x in myData])\n",
    "    myDataAccumulatorList.append(myFloatData)"
   ]
  },
  {
   "cell_type": "code",
   "execution_count": 7,
   "metadata": {},
   "outputs": [
    {
     "data": {
      "text/html": [
       "\n",
       "<iframe srcdoc=\"<!DOCTYPE html>\n",
       "<html>\n",
       "<head>\n",
       "<title></title>\n",
       "<meta charset=&quot;utf-8&quot;>\n",
       "<meta name=viewport content=&quot;width=device-width, user-scalable=no, minimum-scale=1.0, maximum-scale=1.0&quot;>\n",
       "<style>\n",
       "\n",
       "    body { margin: 0px; overflow: hidden; }\n",
       "\n",
       "    #menu-container { position: absolute; bottom: 30px; right: 40px; cursor: default; }\n",
       "\n",
       "    #menu-message { position: absolute; bottom: 0px; right: 0px; white-space: nowrap;\n",
       "                    display: none; background-color: #F5F5F5; padding: 10px; }\n",
       "\n",
       "    #menu-content { position: absolute; bottom: 0px; right: 0px;\n",
       "                    display: none; background-color: #F5F5F5; border-bottom: 1px solid black;\n",
       "                    border-right: 1px solid black; border-left: 1px solid black; }\n",
       "\n",
       "    #menu-content div { border-top: 1px solid black; padding: 10px; white-space: nowrap; }\n",
       "\n",
       "    #menu-content div:hover { background-color: #FEFEFE;; }\n",
       "  \n",
       "</style>\n",
       "</head>\n",
       "\n",
       "<body>\n",
       "\n",
       "<script src=&quot;/nbextensions/threejs/build/three.min.js&quot;></script>\n",
       "<script src=&quot;/nbextensions/threejs/examples/js/controls/OrbitControls.js&quot;></script>\n",
       "<script>\n",
       "  if ( !window.THREE ) document.write(' \\\n",
       "<script src=&quot;https://cdn.jsdelivr.net/gh/mrdoob/three.js@r110/build/three.min.js&quot;><\\/script> \\\n",
       "<script src=&quot;https://cdn.jsdelivr.net/gh/mrdoob/three.js@r110/examples/js/controls/OrbitControls.js&quot;><\\/script> \\\n",
       "            ');\n",
       "</script>\n",
       "        \n",
       "<script>\n",
       "\n",
       "    var scene = new THREE.Scene();\n",
       "\n",
       "    var renderer = new THREE.WebGLRenderer( { antialias: true, preserveDrawingBuffer: true } );\n",
       "    renderer.setPixelRatio( window.devicePixelRatio );\n",
       "    renderer.setSize( window.innerWidth, window.innerHeight );\n",
       "    renderer.setClearColor( 0xffffff, 1 );\n",
       "    document.body.appendChild( renderer.domElement );\n",
       "\n",
       "    var options = {&quot;aspectRatio&quot;: [1.0, 1.0, 1.0], &quot;axes&quot;: false, &quot;axesLabels&quot;: [&quot;x&quot;, &quot;y&quot;, &quot;z&quot;], &quot;decimals&quot;: 2, &quot;frame&quot;: true, &quot;projection&quot;: &quot;perspective&quot;};\n",
       "\n",
       "    // When animations are supported by the viewer, the value 'false'\n",
       "    // will be replaced with an option set in Python by the user\n",
       "    var animate = false; // options.animate;\n",
       "\n",
       "    var b = [{&quot;x&quot;:166.9331123, &quot;y&quot;:-46.66042089, &quot;z&quot;:-0.2699063289}, {&quot;x&quot;:179.0771484, &quot;y&quot;:-36.16699219, &quot;z&quot;:4.642584558}]; // bounds\n",
       "\n",
       "    if ( b[0].x === b[1].x ) {\n",
       "        b[0].x -= 1;\n",
       "        b[1].x += 1;\n",
       "    }\n",
       "    if ( b[0].y === b[1].y ) {\n",
       "        b[0].y -= 1;\n",
       "        b[1].y += 1;\n",
       "    }\n",
       "    if ( b[0].z === b[1].z ) {\n",
       "        b[0].z -= 1;\n",
       "        b[1].z += 1;\n",
       "    }\n",
       "\n",
       "    var rRange = Math.sqrt( Math.pow( b[1].x - b[0].x, 2 )\n",
       "                            + Math.pow( b[1].y - b[0].y, 2 ) );\n",
       "    var xRange = b[1].x - b[0].x;\n",
       "    var yRange = b[1].y - b[0].y;\n",
       "    var zRange = b[1].z - b[0].z;\n",
       "\n",
       "    var ar = options.aspectRatio;\n",
       "    var a = [ ar[0], ar[1], ar[2] ]; // aspect multipliers\n",
       "    var autoAspect = 2.5;\n",
       "    if ( zRange > autoAspect * rRange && a[2] === 1 ) a[2] = autoAspect * rRange / zRange;\n",
       "\n",
       "    // Distance from (xMid,yMid,zMid) to any corner of the bounding box, after applying aspectRatio\n",
       "    var midToCorner = Math.sqrt( a[0]*a[0]*xRange*xRange + a[1]*a[1]*yRange*yRange + a[2]*a[2]*zRange*zRange ) / 2;\n",
       "\n",
       "    var xMid = ( b[0].x + b[1].x ) / 2;\n",
       "    var yMid = ( b[0].y + b[1].y ) / 2;\n",
       "    var zMid = ( b[0].z + b[1].z ) / 2;\n",
       "\n",
       "    var box = new THREE.Geometry();\n",
       "    box.vertices.push( new THREE.Vector3( a[0]*b[0].x, a[1]*b[0].y, a[2]*b[0].z ) );\n",
       "    box.vertices.push( new THREE.Vector3( a[0]*b[1].x, a[1]*b[1].y, a[2]*b[1].z ) );\n",
       "    var boxMesh = new THREE.Line( box );\n",
       "    if ( options.frame ) scene.add( new THREE.BoxHelper( boxMesh, 'black' ) );\n",
       "\n",
       "    if ( options.axesLabels ) {\n",
       "\n",
       "        var d = options.decimals; // decimals\n",
       "        var offsetRatio = 0.1;\n",
       "        var al = options.axesLabels;\n",
       "\n",
       "        var offset = offsetRatio * a[1]*( b[1].y - b[0].y );\n",
       "        var xm = xMid.toFixed(d);\n",
       "        if ( /^-0.?0*$/.test(xm) ) xm = xm.substr(1);\n",
       "        addLabel( al[0] + '=' + xm, a[0]*xMid, a[1]*b[1].y+offset, a[2]*b[0].z );\n",
       "        addLabel( ( b[0].x ).toFixed(d), a[0]*b[0].x, a[1]*b[1].y+offset, a[2]*b[0].z );\n",
       "        addLabel( ( b[1].x ).toFixed(d), a[0]*b[1].x, a[1]*b[1].y+offset, a[2]*b[0].z );\n",
       "\n",
       "        var offset = offsetRatio * a[0]*( b[1].x - b[0].x );\n",
       "        var ym = yMid.toFixed(d);\n",
       "        if ( /^-0.?0*$/.test(ym) ) ym = ym.substr(1);\n",
       "        addLabel( al[1] + '=' + ym, a[0]*b[1].x+offset, a[1]*yMid, a[2]*b[0].z );\n",
       "        addLabel( ( b[0].y ).toFixed(d), a[0]*b[1].x+offset, a[1]*b[0].y, a[2]*b[0].z );\n",
       "        addLabel( ( b[1].y ).toFixed(d), a[0]*b[1].x+offset, a[1]*b[1].y, a[2]*b[0].z );\n",
       "\n",
       "        var offset = offsetRatio * a[1]*( b[1].y - b[0].y );\n",
       "        var zm = zMid.toFixed(d);\n",
       "        if ( /^-0.?0*$/.test(zm) ) zm = zm.substr(1);\n",
       "        addLabel( al[2] + '=' + zm, a[0]*b[1].x, a[1]*b[0].y-offset, a[2]*zMid );\n",
       "        addLabel( ( b[0].z ).toFixed(d), a[0]*b[1].x, a[1]*b[0].y-offset, a[2]*b[0].z );\n",
       "        addLabel( ( b[1].z ).toFixed(d), a[0]*b[1].x, a[1]*b[0].y-offset, a[2]*b[1].z );\n",
       "\n",
       "    }\n",
       "\n",
       "    function addLabel( text, x, y, z, color='black', fontsize=14  ) {\n",
       "\n",
       "        var canvas = document.createElement( 'canvas' );\n",
       "        var pixelRatio = Math.round( window.devicePixelRatio );\n",
       "        canvas.width = 128 * pixelRatio;\n",
       "        canvas.height = 32 * pixelRatio; // powers of two\n",
       "        canvas.style.width = '128px';\n",
       "        canvas.style.height = '32px';\n",
       "\n",
       "        var context = canvas.getContext( '2d' );\n",
       "        context.scale( pixelRatio, pixelRatio );\n",
       "        context.fillStyle = color;\n",
       "        context.font = fontsize + 'px monospace';\n",
       "        context.textAlign = 'center';\n",
       "        context.textBaseline = 'middle';\n",
       "        context.fillText( text, canvas.width/2/pixelRatio, canvas.height/2/pixelRatio );\n",
       "\n",
       "        var texture = new THREE.Texture( canvas );\n",
       "        texture.needsUpdate = true;\n",
       "\n",
       "        var sprite = new THREE.Sprite( new THREE.SpriteMaterial( { map: texture } ) );\n",
       "        sprite.position.set( x, y, z );\n",
       "\n",
       "        // Set the initial scale based on plot size to accomodate orthographic projection.\n",
       "        // For other projections, the scale will get reset each frame based on camera distance.\n",
       "        var scale = midToCorner/2;\n",
       "        sprite.scale.set( scale, scale*.25, 1 ); // ratio of canvas width to height\n",
       "\n",
       "        scene.add( sprite );\n",
       "\n",
       "    }\n",
       "\n",
       "    if ( options.axes ) scene.add( new THREE.AxesHelper( Math.min( a[0]*b[1].x, a[1]*b[1].y, a[2]*b[1].z ) ) );\n",
       "\n",
       "    var camera = createCamera();\n",
       "    camera.up.set( 0, 0, 1 );\n",
       "    camera.position.set( a[0]*(xMid+xRange), a[1]*(yMid+yRange), a[2]*(zMid+zRange) );\n",
       "\n",
       "    function createCamera() {\n",
       "\n",
       "        var aspect = window.innerWidth / window.innerHeight;\n",
       "\n",
       "        if ( options.projection === 'orthographic' ) {\n",
       "            var camera = new THREE.OrthographicCamera( -1, 1, 1, -1, -1000, 1000 );\n",
       "            updateCameraAspect( camera, aspect );\n",
       "            return camera;\n",
       "        }\n",
       "\n",
       "        return new THREE.PerspectiveCamera( 45, aspect, 0.1, 1000 );\n",
       "\n",
       "    }\n",
       "\n",
       "    function updateCameraAspect( camera, aspect ) {\n",
       "\n",
       "        if ( camera.isPerspectiveCamera ) {\n",
       "            camera.aspect = aspect;\n",
       "        } else if ( camera.isOrthographicCamera ) {\n",
       "            // Fit the camera frustum to the bounding box's diagonal so that the entire plot fits\n",
       "            // within at the default zoom level and camera position.\n",
       "            if ( aspect > 1 ) { // Wide window\n",
       "                camera.top = midToCorner;\n",
       "                camera.right = midToCorner * aspect;\n",
       "            } else { // Tall or square window\n",
       "                camera.top = midToCorner / aspect;\n",
       "                camera.right = midToCorner;\n",
       "            }\n",
       "            camera.bottom = -camera.top;\n",
       "            camera.left = -camera.right;\n",
       "        }\n",
       "\n",
       "        camera.updateProjectionMatrix();\n",
       "\n",
       "    }\n",
       "\n",
       "    var lights = [{&quot;x&quot;:-5, &quot;y&quot;:3, &quot;z&quot;:0, &quot;color&quot;:&quot;#7f7f7f&quot;, &quot;parent&quot;:&quot;camera&quot;}];\n",
       "    for ( var i=0 ; i < lights.length ; i++ ) {\n",
       "        var light = new THREE.DirectionalLight( lights[i].color, 1 );\n",
       "        light.position.set( a[0]*lights[i].x, a[1]*lights[i].y, a[2]*lights[i].z );\n",
       "        if ( lights[i].parent === 'camera' ) {\n",
       "            light.target.position.set( a[0]*xMid, a[1]*yMid, a[2]*zMid );\n",
       "            scene.add( light.target );\n",
       "            camera.add( light );\n",
       "        } else scene.add( light );\n",
       "    }\n",
       "    scene.add( camera );\n",
       "\n",
       "    var ambient = {&quot;color&quot;:&quot;#7f7f7f&quot;};\n",
       "    scene.add( new THREE.AmbientLight( ambient.color, 1 ) );\n",
       "\n",
       "    var controls = new THREE.OrbitControls( camera, renderer.domElement );\n",
       "    controls.target.set( a[0]*xMid, a[1]*yMid, a[2]*zMid );\n",
       "    controls.addEventListener( 'change', function() { if ( !animate ) render(); } );\n",
       "\n",
       "    window.addEventListener( 'resize', function() {\n",
       "        \n",
       "        renderer.setSize( window.innerWidth, window.innerHeight );\n",
       "        updateCameraAspect( camera, window.innerWidth / window.innerHeight );\n",
       "        if ( !animate ) render();\n",
       "        \n",
       "    } );\n",
       "\n",
       "    var texts = [];\n",
       "    for ( var i=0 ; i < texts.length ; i++ )\n",
       "        addLabel( texts[i].text, a[0]*texts[i].x, a[1]*texts[i].y, a[2]*texts[i].z, texts[i].color );\n",
       "\n",
       "    var points = [{&quot;point&quot;: [176.469659, -38.10063545, 2.123583253], &quot;size&quot;: 5.0, &quot;color&quot;: &quot;#6666ff&quot;, &quot;opacity&quot;: 1.0}, {&quot;point&quot;: [176.4213445, -38.63584892, 2.570467678], &quot;size&quot;: 5.0, &quot;color&quot;: &quot;#6666ff&quot;, &quot;opacity&quot;: 1.0}, {&quot;point&quot;: [177.8005036, -37.53871863, 2.432240763], &quot;size&quot;: 5.0, &quot;color&quot;: &quot;#6666ff&quot;, &quot;opacity&quot;: 1.0}, {&quot;point&quot;: [176.6698303, -37.55683003, 2.93113372], &quot;size&quot;: 5.0, &quot;color&quot;: &quot;#6666ff&quot;, &quot;opacity&quot;: 1.0}, {&quot;point&quot;: [177.4013225, -37.57460592, 2.139610088], &quot;size&quot;: 5.0, &quot;color&quot;: &quot;#6666ff&quot;, &quot;opacity&quot;: 1.0}, {&quot;point&quot;: [175.7468805, -39.42125632, 0.3955827973], &quot;size&quot;: 5.0, &quot;color&quot;: &quot;#6666ff&quot;, &quot;opacity&quot;: 1.0}, {&quot;point&quot;: [171.4460281, -43.21087006, 2.541413851], &quot;size&quot;: 5.0, &quot;color&quot;: &quot;#6666ff&quot;, &quot;opacity&quot;: 1.0}, {&quot;point&quot;: [176.9200689, -39.56516813, 2.381120469], &quot;size&quot;: 5.0, &quot;color&quot;: &quot;#6666ff&quot;, &quot;opacity&quot;: 1.0}, {&quot;point&quot;: [175.3994568, -40.17857509, 1.977622091], &quot;size&quot;: 5.0, &quot;color&quot;: &quot;#6666ff&quot;, &quot;opacity&quot;: 1.0}, {&quot;point&quot;: [177.0876025, -38.64670882, 2.134910741], &quot;size&quot;: 5.0, &quot;color&quot;: &quot;#6666ff&quot;, &quot;opacity&quot;: 1.0}, {&quot;point&quot;: [176.2109804, -39.59036304, 2.424557835], &quot;size&quot;: 5.0, &quot;color&quot;: &quot;#6666ff&quot;, &quot;opacity&quot;: 1.0}, {&quot;point&quot;: [178.3761904, -37.60993433, 2.485882295], &quot;size&quot;: 5.0, &quot;color&quot;: &quot;#6666ff&quot;, &quot;opacity&quot;: 1.0}, {&quot;point&quot;: [175.6081371, -39.38453116, 0.6309914016], &quot;size&quot;: 5.0, &quot;color&quot;: &quot;#6666ff&quot;, &quot;opacity&quot;: 1.0}, {&quot;point&quot;: [170.8156614, -43.2896891, 1.763612547], &quot;size&quot;: 5.0, &quot;color&quot;: &quot;#6666ff&quot;, &quot;opacity&quot;: 1.0}, {&quot;point&quot;: [176.8043117, -39.86245557, 2.425779057], &quot;size&quot;: 5.0, &quot;color&quot;: &quot;#6666ff&quot;, &quot;opacity&quot;: 1.0}, {&quot;point&quot;: [176.3895967, -40.52413749, 1.894014576], &quot;size&quot;: 5.0, &quot;color&quot;: &quot;#6666ff&quot;, &quot;opacity&quot;: 1.0}, {&quot;point&quot;: [177.1675818, -37.01577308, 2.685497979], &quot;size&quot;: 5.0, &quot;color&quot;: &quot;#6666ff&quot;, &quot;opacity&quot;: 1.0}, {&quot;point&quot;: [174.8080042, -39.5620345, 1.951158803], &quot;size&quot;: 5.0, &quot;color&quot;: &quot;#6666ff&quot;, &quot;opacity&quot;: 1.0}, {&quot;point&quot;: [174.4923665, -41.53001352, 2.524355715], &quot;size&quot;: 5.0, &quot;color&quot;: &quot;#6666ff&quot;, &quot;opacity&quot;: 1.0}, {&quot;point&quot;: [176.0761892, -38.35686269, 3.628276704], &quot;size&quot;: 5.0, &quot;color&quot;: &quot;#6666ff&quot;, &quot;opacity&quot;: 1.0}, {&quot;point&quot;: [175.4519069, -40.90296739, 2.28030113], &quot;size&quot;: 5.0, &quot;color&quot;: &quot;#6666ff&quot;, &quot;opacity&quot;: 1.0}, {&quot;point&quot;: [173.710197, -41.98005361, 2.851407332], &quot;size&quot;: 5.0, &quot;color&quot;: &quot;#6666ff&quot;, &quot;opacity&quot;: 1.0}, {&quot;point&quot;: [173.7488261, -41.97117118, 2.164202167], &quot;size&quot;: 5.0, &quot;color&quot;: &quot;#6666ff&quot;, &quot;opacity&quot;: 1.0}, {&quot;point&quot;: [173.6996748, -41.96806513, 2.646070345], &quot;size&quot;: 5.0, &quot;color&quot;: &quot;#6666ff&quot;, &quot;opacity&quot;: 1.0}, {&quot;point&quot;: [173.7474475, -42.01952173, 3.57347188], &quot;size&quot;: 5.0, &quot;color&quot;: &quot;#6666ff&quot;, &quot;opacity&quot;: 1.0}, {&quot;point&quot;: [175.9166016, -40.49583951, 2.715850006], &quot;size&quot;: 5.0, &quot;color&quot;: &quot;#6666ff&quot;, &quot;opacity&quot;: 1.0}, {&quot;point&quot;: [175.2624664, -41.17365646, 1.544711243], &quot;size&quot;: 5.0, &quot;color&quot;: &quot;#6666ff&quot;, &quot;opacity&quot;: 1.0}, {&quot;point&quot;: [175.9009987, -38.93663354, 2.254410217], &quot;size&quot;: 5.0, &quot;color&quot;: &quot;#6666ff&quot;, &quot;opacity&quot;: 1.0}, {&quot;point&quot;: [176.0792452, -38.63201669, 2.54239538], &quot;size&quot;: 5.0, &quot;color&quot;: &quot;#6666ff&quot;, &quot;opacity&quot;: 1.0}, {&quot;point&quot;: [175.75938, -40.83541064, 2.166093333], &quot;size&quot;: 5.0, &quot;color&quot;: &quot;#6666ff&quot;, &quot;opacity&quot;: 1.0}, {&quot;point&quot;: [175.4535524, -39.09803674, 0.9061761627], &quot;size&quot;: 5.0, &quot;color&quot;: &quot;#6666ff&quot;, &quot;opacity&quot;: 1.0}, {&quot;point&quot;: [176.4741293, -38.79747548, 2.088411708], &quot;size&quot;: 5.0, &quot;color&quot;: &quot;#6666ff&quot;, &quot;opacity&quot;: 1.0}, {&quot;point&quot;: [174.2985434, -41.69530203, 1.732911571], &quot;size&quot;: 5.0, &quot;color&quot;: &quot;#6666ff&quot;, &quot;opacity&quot;: 1.0}, {&quot;point&quot;: [177.0311629, -38.93366975, 1.68598644], &quot;size&quot;: 5.0, &quot;color&quot;: &quot;#6666ff&quot;, &quot;opacity&quot;: 1.0}, {&quot;point&quot;: [174.4494688, -41.54960234, 2.130949012], &quot;size&quot;: 5.0, &quot;color&quot;: &quot;#6666ff&quot;, &quot;opacity&quot;: 1.0}, {&quot;point&quot;: [172.744156, -41.32075455, 1.511158355], &quot;size&quot;: 5.0, &quot;color&quot;: &quot;#6666ff&quot;, &quot;opacity&quot;: 1.0}, {&quot;point&quot;: [172.8037188, -41.91013401, 2.423969024], &quot;size&quot;: 5.0, &quot;color&quot;: &quot;#6666ff&quot;, &quot;opacity&quot;: 1.0}, {&quot;point&quot;: [176.5043204, -38.42172106, 2.481582789], &quot;size&quot;: 5.0, &quot;color&quot;: &quot;#6666ff&quot;, &quot;opacity&quot;: 1.0}, {&quot;point&quot;: [174.1527795, -41.67850925, 2.692654242], &quot;size&quot;: 5.0, &quot;color&quot;: &quot;#6666ff&quot;, &quot;opacity&quot;: 1.0}, {&quot;point&quot;: [175.2998837, -39.1833974, 1.262586439], &quot;size&quot;: 5.0, &quot;color&quot;: &quot;#6666ff&quot;, &quot;opacity&quot;: 1.0}, {&quot;point&quot;: [167.9251737, -44.3169138, 2.889620572], &quot;size&quot;: 5.0, &quot;color&quot;: &quot;#6666ff&quot;, &quot;opacity&quot;: 1.0}, {&quot;point&quot;: [176.6708558, -39.92842574, 1.628230861], &quot;size&quot;: 5.0, &quot;color&quot;: &quot;#6666ff&quot;, &quot;opacity&quot;: 1.0}, {&quot;point&quot;: [176.5197817, -37.54548961, 2.975689125], &quot;size&quot;: 5.0, &quot;color&quot;: &quot;#6666ff&quot;, &quot;opacity&quot;: 1.0}, {&quot;point&quot;: [174.4745574, -39.97396669, 2.376554601], &quot;size&quot;: 5.0, &quot;color&quot;: &quot;#6666ff&quot;, &quot;opacity&quot;: 1.0}, {&quot;point&quot;: [174.4008999, -40.91093381, 2.110493893], &quot;size&quot;: 5.0, &quot;color&quot;: &quot;#6666ff&quot;, &quot;opacity&quot;: 1.0}, {&quot;point&quot;: [172.7799169, -41.25503579, 1.728488265], &quot;size&quot;: 5.0, &quot;color&quot;: &quot;#6666ff&quot;, &quot;opacity&quot;: 1.0}, {&quot;point&quot;: [176.8201534, -39.65962908, 1.578445927], &quot;size&quot;: 5.0, &quot;color&quot;: &quot;#6666ff&quot;, &quot;opacity&quot;: 1.0}, {&quot;point&quot;: [178.4653957, -37.51944533, 2.209351541], &quot;size&quot;: 5.0, &quot;color&quot;: &quot;#6666ff&quot;, &quot;opacity&quot;: 1.0}, {&quot;point&quot;: [177.8775115, -37.46115663, 2.155154561], &quot;size&quot;: 5.0, &quot;color&quot;: &quot;#6666ff&quot;, &quot;opacity&quot;: 1.0}, {&quot;point&quot;: [173.2372626, -41.23518154, 2.253095604], &quot;size&quot;: 5.0, &quot;color&quot;: &quot;#6666ff&quot;, &quot;opacity&quot;: 1.0}, {&quot;point&quot;: [173.6257813, -42.31633991, 2.177032628], &quot;size&quot;: 5.0, &quot;color&quot;: &quot;#6666ff&quot;, &quot;opacity&quot;: 1.0}, {&quot;point&quot;: [174.0910246, -40.24770738, 2.795031407], &quot;size&quot;: 5.0, &quot;color&quot;: &quot;#6666ff&quot;, &quot;opacity&quot;: 1.0}, {&quot;point&quot;: [175.6727761, -40.52940002, 1.708278752], &quot;size&quot;: 5.0, &quot;color&quot;: &quot;#6666ff&quot;, &quot;opacity&quot;: 1.0}, {&quot;point&quot;: [174.1328694, -41.27668298, 2.553703193], &quot;size&quot;: 5.0, &quot;color&quot;: &quot;#6666ff&quot;, &quot;opacity&quot;: 1.0}, {&quot;point&quot;: [176.5342662, -39.21556944, 1.863846449], &quot;size&quot;: 5.0, &quot;color&quot;: &quot;#6666ff&quot;, &quot;opacity&quot;: 1.0}, {&quot;point&quot;: [174.4773123, -40.6763317, 1.94465695], &quot;size&quot;: 5.0, &quot;color&quot;: &quot;#6666ff&quot;, &quot;opacity&quot;: 1.0}, {&quot;point&quot;: [175.9142894, -39.51886238, 0.9931416739], &quot;size&quot;: 5.0, &quot;color&quot;: &quot;#6666ff&quot;, &quot;opacity&quot;: 1.0}, {&quot;point&quot;: [175.7296817, -40.92705602, 1.611725182], &quot;size&quot;: 5.0, &quot;color&quot;: &quot;#6666ff&quot;, &quot;opacity&quot;: 1.0}, {&quot;point&quot;: [173.1192602, -41.57886987, 2.733052778], &quot;size&quot;: 5.0, &quot;color&quot;: &quot;#6666ff&quot;, &quot;opacity&quot;: 1.0}, {&quot;point&quot;: [173.9425759, -41.92177594, 1.695553194], &quot;size&quot;: 5.0, &quot;color&quot;: &quot;#6666ff&quot;, &quot;opacity&quot;: 1.0}, {&quot;point&quot;: [173.0710935, -42.01644372, 2.788827576], &quot;size&quot;: 5.0, &quot;color&quot;: &quot;#6666ff&quot;, &quot;opacity&quot;: 1.0}, {&quot;point&quot;: [176.0619212, -38.27807169, 2.917908268], &quot;size&quot;: 5.0, &quot;color&quot;: &quot;#6666ff&quot;, &quot;opacity&quot;: 1.0}, {&quot;point&quot;: [173.9598766, -41.97066837, 2.240467828], &quot;size&quot;: 5.0, &quot;color&quot;: &quot;#6666ff&quot;, &quot;opacity&quot;: 1.0}, {&quot;point&quot;: [178.351671, -37.48925629, 2.442120869], &quot;size&quot;: 5.0, &quot;color&quot;: &quot;#6666ff&quot;, &quot;opacity&quot;: 1.0}, {&quot;point&quot;: [176.4600805, -40.19707717, 1.154893379], &quot;size&quot;: 5.0, &quot;color&quot;: &quot;#6666ff&quot;, &quot;opacity&quot;: 1.0}, {&quot;point&quot;: [176.7742352, -39.91820815, 1.705617406], &quot;size&quot;: 5.0, &quot;color&quot;: &quot;#6666ff&quot;, &quot;opacity&quot;: 1.0}, {&quot;point&quot;: [170.8292556, -43.27002766, 1.70545552], &quot;size&quot;: 5.0, &quot;color&quot;: &quot;#6666ff&quot;, &quot;opacity&quot;: 1.0}, {&quot;point&quot;: [172.2850054, -41.62276817, 2.14363649], &quot;size&quot;: 5.0, &quot;color&quot;: &quot;#6666ff&quot;, &quot;opacity&quot;: 1.0}, {&quot;point&quot;: [175.5624449, -41.13800521, 1.522713489], &quot;size&quot;: 5.0, &quot;color&quot;: &quot;#6666ff&quot;, &quot;opacity&quot;: 1.0}, {&quot;point&quot;: [177.5298457, -37.45031902, 2.430387228], &quot;size&quot;: 5.0, &quot;color&quot;: &quot;#6666ff&quot;, &quot;opacity&quot;: 1.0}, {&quot;point&quot;: [175.6812124, -38.60312374, 2.65876896], &quot;size&quot;: 5.0, &quot;color&quot;: &quot;#6666ff&quot;, &quot;opacity&quot;: 1.0}, {&quot;point&quot;: [168.3542773, -44.58163786, 2.107763397], &quot;size&quot;: 5.0, &quot;color&quot;: &quot;#6666ff&quot;, &quot;opacity&quot;: 1.0}, {&quot;point&quot;: [168.3380113, -44.59456486, 2.856148542], &quot;size&quot;: 5.0, &quot;color&quot;: &quot;#6666ff&quot;, &quot;opacity&quot;: 1.0}, {&quot;point&quot;: [168.3654404, -44.58864324, 2.77671881], &quot;size&quot;: 5.0, &quot;color&quot;: &quot;#6666ff&quot;, &quot;opacity&quot;: 1.0}, {&quot;point&quot;: [174.6174542, -39.12590199, 2.098115841], &quot;size&quot;: 5.0, &quot;color&quot;: &quot;#6666ff&quot;, &quot;opacity&quot;: 1.0}, {&quot;point&quot;: [168.3410392, -44.60803374, 3.037188098], &quot;size&quot;: 5.0, &quot;color&quot;: &quot;#6666ff&quot;, &quot;opacity&quot;: 1.0}, {&quot;point&quot;: [168.3277283, -44.57834625, 3.997621158], &quot;size&quot;: 5.0, &quot;color&quot;: &quot;#6666ff&quot;, &quot;opacity&quot;: 1.0}, {&quot;point&quot;: [173.051279, -41.1729264, 2.176193835], &quot;size&quot;: 5.0, &quot;color&quot;: &quot;#6666ff&quot;, &quot;opacity&quot;: 1.0}, {&quot;point&quot;: [175.932874, -38.96761587, 1.615262844], &quot;size&quot;: 5.0, &quot;color&quot;: &quot;#6666ff&quot;, &quot;opacity&quot;: 1.0}, {&quot;point&quot;: [176.2169465, -38.32244328, 1.808648377], &quot;size&quot;: 5.0, &quot;color&quot;: &quot;#6666ff&quot;, &quot;opacity&quot;: 1.0}, {&quot;point&quot;: [176.2287614, -38.32197402, 1.768708348], &quot;size&quot;: 5.0, &quot;color&quot;: &quot;#6666ff&quot;, &quot;opacity&quot;: 1.0}, {&quot;point&quot;: [171.054522, -43.31491458, 1.638111345], &quot;size&quot;: 5.0, &quot;color&quot;: &quot;#6666ff&quot;, &quot;opacity&quot;: 1.0}, {&quot;point&quot;: [176.6915906, -39.82156014, 2.19012772], &quot;size&quot;: 5.0, &quot;color&quot;: &quot;#6666ff&quot;, &quot;opacity&quot;: 1.0}, {&quot;point&quot;: [174.2914098, -41.70176553, 1.996139953], &quot;size&quot;: 5.0, &quot;color&quot;: &quot;#6666ff&quot;, &quot;opacity&quot;: 1.0}, {&quot;point&quot;: [176.6910451, -39.82654323, 2.250974348], &quot;size&quot;: 5.0, &quot;color&quot;: &quot;#6666ff&quot;, &quot;opacity&quot;: 1.0}, {&quot;point&quot;: [176.355288, -39.89975065, 1.563122482], &quot;size&quot;: 5.0, &quot;color&quot;: &quot;#6666ff&quot;, &quot;opacity&quot;: 1.0}, {&quot;point&quot;: [173.5109658, -42.48655844, 3.019321664], &quot;size&quot;: 5.0, &quot;color&quot;: &quot;#6666ff&quot;, &quot;opacity&quot;: 1.0}, {&quot;point&quot;: [173.0958853, -41.45967223, 2.706447275], &quot;size&quot;: 5.0, &quot;color&quot;: &quot;#6666ff&quot;, &quot;opacity&quot;: 1.0}, {&quot;point&quot;: [179.0771484, -36.16699219, 3.216330431], &quot;size&quot;: 5.0, &quot;color&quot;: &quot;#6666ff&quot;, &quot;opacity&quot;: 1.0}, {&quot;point&quot;: [178.5158813, -37.81911816, 2.280468839], &quot;size&quot;: 5.0, &quot;color&quot;: &quot;#6666ff&quot;, &quot;opacity&quot;: 1.0}, {&quot;point&quot;: [166.9331123, -45.42062479, 3.414617241], &quot;size&quot;: 5.0, &quot;color&quot;: &quot;#6666ff&quot;, &quot;opacity&quot;: 1.0}, {&quot;point&quot;: [177.2090501, -39.13821403, 1.430649647], &quot;size&quot;: 5.0, &quot;color&quot;: &quot;#6666ff&quot;, &quot;opacity&quot;: 1.0}, {&quot;point&quot;: [173.4143789, -40.66631541, 2.728642845], &quot;size&quot;: 5.0, &quot;color&quot;: &quot;#6666ff&quot;, &quot;opacity&quot;: 1.0}, {&quot;point&quot;: [175.4925422, -38.97750393, 1.684005287], &quot;size&quot;: 5.0, &quot;color&quot;: &quot;#6666ff&quot;, &quot;opacity&quot;: 1.0}, {&quot;point&quot;: [177.8393555, -42.59033203, 3.384618419], &quot;size&quot;: 5.0, &quot;color&quot;: &quot;#6666ff&quot;, &quot;opacity&quot;: 1.0}, {&quot;point&quot;: [172.6742415, -41.29865464, 2.586875463], &quot;size&quot;: 5.0, &quot;color&quot;: &quot;#6666ff&quot;, &quot;opacity&quot;: 1.0}, {&quot;point&quot;: [175.4264834, -40.67461092, 1.477275131], &quot;size&quot;: 5.0, &quot;color&quot;: &quot;#6666ff&quot;, &quot;opacity&quot;: 1.0}, {&quot;point&quot;: [174.1629764, -40.37499416, 2.277038947], &quot;size&quot;: 5.0, &quot;color&quot;: &quot;#6666ff&quot;, &quot;opacity&quot;: 1.0}, {&quot;point&quot;: [176.3650248, -38.45577038, 1.990204307], &quot;size&quot;: 5.0, &quot;color&quot;: &quot;#6666ff&quot;, &quot;opacity&quot;: 1.0}, {&quot;point&quot;: [175.9948336, -40.62736918, 2.00085224], &quot;size&quot;: 5.0, &quot;color&quot;: &quot;#6666ff&quot;, &quot;opacity&quot;: 1.0}, {&quot;point&quot;: [173.4865677, -42.44412951, 3.228442], &quot;size&quot;: 5.0, &quot;color&quot;: &quot;#6666ff&quot;, &quot;opacity&quot;: 1.0}, {&quot;point&quot;: [168.3542773, -44.58163786, 2.031426141], &quot;size&quot;: 5.0, &quot;color&quot;: &quot;#6666ff&quot;, &quot;opacity&quot;: 1.0}, {&quot;point&quot;: [175.6931065, -41.121866, 1.46710832], &quot;size&quot;: 5.0, &quot;color&quot;: &quot;#6666ff&quot;, &quot;opacity&quot;: 1.0}, {&quot;point&quot;: [176.0737487, -40.8580915, 2.260012015], &quot;size&quot;: 5.0, &quot;color&quot;: &quot;#6666ff&quot;, &quot;opacity&quot;: 1.0}, {&quot;point&quot;: [175.6877868, -39.46447853, 1.766683501], &quot;size&quot;: 5.0, &quot;color&quot;: &quot;#6666ff&quot;, &quot;opacity&quot;: 1.0}, {&quot;point&quot;: [178.0596984, -38.54368372, 2.626682693], &quot;size&quot;: 5.0, &quot;color&quot;: &quot;#6666ff&quot;, &quot;opacity&quot;: 1.0}, {&quot;point&quot;: [172.8885131, -41.4118245, 2.676428248], &quot;size&quot;: 5.0, &quot;color&quot;: &quot;#6666ff&quot;, &quot;opacity&quot;: 1.0}, {&quot;point&quot;: [176.8737699, -36.95322747, 2.514110596], &quot;size&quot;: 5.0, &quot;color&quot;: &quot;#6666ff&quot;, &quot;opacity&quot;: 1.0}, {&quot;point&quot;: [176.2312128, -38.32621691, 1.47183711], &quot;size&quot;: 5.0, &quot;color&quot;: &quot;#6666ff&quot;, &quot;opacity&quot;: 1.0}, {&quot;point&quot;: [176.2287614, -38.32197402, 2.126107416], &quot;size&quot;: 5.0, &quot;color&quot;: &quot;#6666ff&quot;, &quot;opacity&quot;: 1.0}, {&quot;point&quot;: [176.2427416, -38.3282392, 1.554053765], &quot;size&quot;: 5.0, &quot;color&quot;: &quot;#6666ff&quot;, &quot;opacity&quot;: 1.0}, {&quot;point&quot;: [176.7278609, -37.88196021, 2.549336933], &quot;size&quot;: 5.0, &quot;color&quot;: &quot;#6666ff&quot;, &quot;opacity&quot;: 1.0}, {&quot;point&quot;: [174.2724679, -41.78795856, 1.893695978], &quot;size&quot;: 5.0, &quot;color&quot;: &quot;#6666ff&quot;, &quot;opacity&quot;: 1.0}, {&quot;point&quot;: [178.6197102, -37.7640527, 2.221064802], &quot;size&quot;: 5.0, &quot;color&quot;: &quot;#6666ff&quot;, &quot;opacity&quot;: 1.0}, {&quot;point&quot;: [177.970333, -39.26966259, 3.004496134], &quot;size&quot;: 5.0, &quot;color&quot;: &quot;#6666ff&quot;, &quot;opacity&quot;: 1.0}, {&quot;point&quot;: [177.1903672, -37.87463632, 2.503146247], &quot;size&quot;: 5.0, &quot;color&quot;: &quot;#6666ff&quot;, &quot;opacity&quot;: 1.0}, {&quot;point&quot;: [178.360978, -37.51619405, 2.556180551], &quot;size&quot;: 5.0, &quot;color&quot;: &quot;#6666ff&quot;, &quot;opacity&quot;: 1.0}, {&quot;point&quot;: [177.7325128, -39.20079871, 1.953791703], &quot;size&quot;: 5.0, &quot;color&quot;: &quot;#6666ff&quot;, &quot;opacity&quot;: 1.0}, {&quot;point&quot;: [175.8573441, -40.63327127, 2.14418961], &quot;size&quot;: 5.0, &quot;color&quot;: &quot;#6666ff&quot;, &quot;opacity&quot;: 1.0}, {&quot;point&quot;: [172.6191747, -43.57174483, 1.441087815], &quot;size&quot;: 5.0, &quot;color&quot;: &quot;#6666ff&quot;, &quot;opacity&quot;: 1.0}, {&quot;point&quot;: [176.0664185, -40.25694141, 1.564592243], &quot;size&quot;: 5.0, &quot;color&quot;: &quot;#6666ff&quot;, &quot;opacity&quot;: 1.0}, {&quot;point&quot;: [177.1373852, -39.14102961, 2.631770536], &quot;size&quot;: 5.0, &quot;color&quot;: &quot;#6666ff&quot;, &quot;opacity&quot;: 1.0}, {&quot;point&quot;: [175.8357779, -40.43757585, 2.153863226], &quot;size&quot;: 5.0, &quot;color&quot;: &quot;#6666ff&quot;, &quot;opacity&quot;: 1.0}, {&quot;point&quot;: [176.5837271, -40.36161146, 2.795430304], &quot;size&quot;: 5.0, &quot;color&quot;: &quot;#6666ff&quot;, &quot;opacity&quot;: 1.0}, {&quot;point&quot;: [177.2313869, -37.81592294, 2.585247759], &quot;size&quot;: 5.0, &quot;color&quot;: &quot;#6666ff&quot;, &quot;opacity&quot;: 1.0}, {&quot;point&quot;: [176.6280255, -39.88047184, 1.648876265], &quot;size&quot;: 5.0, &quot;color&quot;: &quot;#6666ff&quot;, &quot;opacity&quot;: 1.0}, {&quot;point&quot;: [175.6524891, -39.30376395, 0.951551354], &quot;size&quot;: 5.0, &quot;color&quot;: &quot;#6666ff&quot;, &quot;opacity&quot;: 1.0}, {&quot;point&quot;: [175.9677277, -38.3769455, 4.257977298], &quot;size&quot;: 5.0, &quot;color&quot;: &quot;#6666ff&quot;, &quot;opacity&quot;: 1.0}, {&quot;point&quot;: [177.0075188, -37.8906303, 2.431592601], &quot;size&quot;: 5.0, &quot;color&quot;: &quot;#6666ff&quot;, &quot;opacity&quot;: 1.0}, {&quot;point&quot;: [175.5462506, -39.02249702, 2.215991486], &quot;size&quot;: 5.0, &quot;color&quot;: &quot;#6666ff&quot;, &quot;opacity&quot;: 1.0}, {&quot;point&quot;: [170.8195027, -43.28645735, 1.794371942], &quot;size&quot;: 5.0, &quot;color&quot;: &quot;#6666ff&quot;, &quot;opacity&quot;: 1.0}, {&quot;point&quot;: [176.8316546, -39.7199681, 1.898757701], &quot;size&quot;: 5.0, &quot;color&quot;: &quot;#6666ff&quot;, &quot;opacity&quot;: 1.0}, {&quot;point&quot;: [176.8888906, -38.90515943, 2.178577924], &quot;size&quot;: 5.0, &quot;color&quot;: &quot;#6666ff&quot;, &quot;opacity&quot;: 1.0}, {&quot;point&quot;: [175.9553398, -38.2847866, 2.776104583], &quot;size&quot;: 5.0, &quot;color&quot;: &quot;#6666ff&quot;, &quot;opacity&quot;: 1.0}, {&quot;point&quot;: [176.5401039, -40.31864065, 1.651942409], &quot;size&quot;: 5.0, &quot;color&quot;: &quot;#6666ff&quot;, &quot;opacity&quot;: 1.0}, {&quot;point&quot;: [177.3945589, -38.73817817, 2.823177759], &quot;size&quot;: 5.0, &quot;color&quot;: &quot;#6666ff&quot;, &quot;opacity&quot;: 1.0}, {&quot;point&quot;: [174.6410771, -41.26417767, 1.678360354], &quot;size&quot;: 5.0, &quot;color&quot;: &quot;#6666ff&quot;, &quot;opacity&quot;: 1.0}, {&quot;point&quot;: [176.6103565, -40.14908972, 2.04035446], &quot;size&quot;: 5.0, &quot;color&quot;: &quot;#6666ff&quot;, &quot;opacity&quot;: 1.0}, {&quot;point&quot;: [175.6887086, -39.48117916, 1.385655879], &quot;size&quot;: 5.0, &quot;color&quot;: &quot;#6666ff&quot;, &quot;opacity&quot;: 1.0}, {&quot;point&quot;: [176.5169151, -40.30961299, 1.490061706], &quot;size&quot;: 5.0, &quot;color&quot;: &quot;#6666ff&quot;, &quot;opacity&quot;: 1.0}, {&quot;point&quot;: [175.6085574, -38.42748641, 2.37620299], &quot;size&quot;: 5.0, &quot;color&quot;: &quot;#6666ff&quot;, &quot;opacity&quot;: 1.0}, {&quot;point&quot;: [176.0047431, -38.56304664, 3.371314224], &quot;size&quot;: 5.0, &quot;color&quot;: &quot;#6666ff&quot;, &quot;opacity&quot;: 1.0}, {&quot;point&quot;: [177.7444591, -39.23197937, 2.437035146], &quot;size&quot;: 5.0, &quot;color&quot;: &quot;#6666ff&quot;, &quot;opacity&quot;: 1.0}, {&quot;point&quot;: [176.0725057, -39.36946168, 1.831675741], &quot;size&quot;: 5.0, &quot;color&quot;: &quot;#6666ff&quot;, &quot;opacity&quot;: 1.0}, {&quot;point&quot;: [175.8112953, -39.48072944, 2.673224066], &quot;size&quot;: 5.0, &quot;color&quot;: &quot;#6666ff&quot;, &quot;opacity&quot;: 1.0}, {&quot;point&quot;: [174.4724443, -40.66784591, 2.695793028], &quot;size&quot;: 5.0, &quot;color&quot;: &quot;#6666ff&quot;, &quot;opacity&quot;: 1.0}, {&quot;point&quot;: [176.5245432, -40.05318191, 2.419576914], &quot;size&quot;: 5.0, &quot;color&quot;: &quot;#6666ff&quot;, &quot;opacity&quot;: 1.0}, {&quot;point&quot;: [177.810379, -39.27508163, 3.47860744], &quot;size&quot;: 5.0, &quot;color&quot;: &quot;#6666ff&quot;, &quot;opacity&quot;: 1.0}, {&quot;point&quot;: [170.818466, -43.29144044, 3.300388517], &quot;size&quot;: 5.0, &quot;color&quot;: &quot;#6666ff&quot;, &quot;opacity&quot;: 1.0}, {&quot;point&quot;: [175.673528, -39.04972526, 2.007808397], &quot;size&quot;: 5.0, &quot;color&quot;: &quot;#6666ff&quot;, &quot;opacity&quot;: 1.0}, {&quot;point&quot;: [177.9832098, -37.96084038, 2.197774451], &quot;size&quot;: 5.0, &quot;color&quot;: &quot;#6666ff&quot;, &quot;opacity&quot;: 1.0}, {&quot;point&quot;: [176.3312006, -39.06479174, 1.811914005], &quot;size&quot;: 5.0, &quot;color&quot;: &quot;#6666ff&quot;, &quot;opacity&quot;: 1.0}, {&quot;point&quot;: [175.8648227, -40.62182467, 1.573208176], &quot;size&quot;: 5.0, &quot;color&quot;: &quot;#6666ff&quot;, &quot;opacity&quot;: 1.0}, {&quot;point&quot;: [173.5756252, -41.578948, 1.860010191], &quot;size&quot;: 5.0, &quot;color&quot;: &quot;#6666ff&quot;, &quot;opacity&quot;: 1.0}, {&quot;point&quot;: [176.790795, -39.79289056, 2.11420693], &quot;size&quot;: 5.0, &quot;color&quot;: &quot;#6666ff&quot;, &quot;opacity&quot;: 1.0}, {&quot;point&quot;: [177.205007, -38.13336063, 1.744407237], &quot;size&quot;: 5.0, &quot;color&quot;: &quot;#6666ff&quot;, &quot;opacity&quot;: 1.0}, {&quot;point&quot;: [176.2876454, -38.97845348, 1.397183978], &quot;size&quot;: 5.0, &quot;color&quot;: &quot;#6666ff&quot;, &quot;opacity&quot;: 1.0}, {&quot;point&quot;: [176.5281725, -39.67163157, 2.005943175], &quot;size&quot;: 5.0, &quot;color&quot;: &quot;#6666ff&quot;, &quot;opacity&quot;: 1.0}, {&quot;point&quot;: [170.2553246, -43.54939949, 1.931400372], &quot;size&quot;: 5.0, &quot;color&quot;: &quot;#6666ff&quot;, &quot;opacity&quot;: 1.0}, {&quot;point&quot;: [173.5933069, -42.28535758, 2.569349924], &quot;size&quot;: 5.0, &quot;color&quot;: &quot;#6666ff&quot;, &quot;opacity&quot;: 1.0}, {&quot;point&quot;: [174.149266, -40.7966802, 3.401699066], &quot;size&quot;: 5.0, &quot;color&quot;: &quot;#6666ff&quot;, &quot;opacity&quot;: 1.0}, {&quot;point&quot;: [175.7082758, -39.03286261, 0.9805962581], &quot;size&quot;: 5.0, &quot;color&quot;: &quot;#6666ff&quot;, &quot;opacity&quot;: 1.0}, {&quot;point&quot;: [177.9930957, -37.94865358, 1.718730652], &quot;size&quot;: 5.0, &quot;color&quot;: &quot;#6666ff&quot;, &quot;opacity&quot;: 1.0}, {&quot;point&quot;: [176.6652248, -39.92492305, 1.938672333], &quot;size&quot;: 5.0, &quot;color&quot;: &quot;#6666ff&quot;, &quot;opacity&quot;: 1.0}, {&quot;point&quot;: [167.6193603, -45.21870879, 2.797975388], &quot;size&quot;: 5.0, &quot;color&quot;: &quot;#6666ff&quot;, &quot;opacity&quot;: 1.0}, {&quot;point&quot;: [176.3710839, -38.45428997, 1.829283699], &quot;size&quot;: 5.0, &quot;color&quot;: &quot;#6666ff&quot;, &quot;opacity&quot;: 1.0}, {&quot;point&quot;: [173.5349806, -42.26029687, 2.494221149], &quot;size&quot;: 5.0, &quot;color&quot;: &quot;#6666ff&quot;, &quot;opacity&quot;: 1.0}, {&quot;point&quot;: [170.0098517, -44.07980865, 2.123670523], &quot;size&quot;: 5.0, &quot;color&quot;: &quot;#6666ff&quot;, &quot;opacity&quot;: 1.0}, {&quot;point&quot;: [175.9736396, -38.7254665, 1.982908434], &quot;size&quot;: 5.0, &quot;color&quot;: &quot;#6666ff&quot;, &quot;opacity&quot;: 1.0}, {&quot;point&quot;: [177.101723, -38.652974, 1.576133803], &quot;size&quot;: 5.0, &quot;color&quot;: &quot;#6666ff&quot;, &quot;opacity&quot;: 1.0}, {&quot;point&quot;: [174.8084344, -40.41517445, 3.281354748], &quot;size&quot;: 5.0, &quot;color&quot;: &quot;#6666ff&quot;, &quot;opacity&quot;: 1.0}, {&quot;point&quot;: [175.3478543, -39.64509344, 1.903035179], &quot;size&quot;: 5.0, &quot;color&quot;: &quot;#6666ff&quot;, &quot;opacity&quot;: 1.0}, {&quot;point&quot;: [174.6089966, -41.25238751, 2.54196261], &quot;size&quot;: 5.0, &quot;color&quot;: &quot;#6666ff&quot;, &quot;opacity&quot;: 1.0}, {&quot;point&quot;: [174.5238606, -39.62515003, 2.125045254], &quot;size&quot;: 5.0, &quot;color&quot;: &quot;#6666ff&quot;, &quot;opacity&quot;: 1.0}, {&quot;point&quot;: [176.6265557, -40.30289808, 1.620799501], &quot;size&quot;: 5.0, &quot;color&quot;: &quot;#6666ff&quot;, &quot;opacity&quot;: 1.0}, {&quot;point&quot;: [177.7001193, -39.00907525, 1.801813015], &quot;size&quot;: 5.0, &quot;color&quot;: &quot;#6666ff&quot;, &quot;opacity&quot;: 1.0}, {&quot;point&quot;: [173.5627664, -42.39794648, 2.435375178], &quot;size&quot;: 5.0, &quot;color&quot;: &quot;#6666ff&quot;, &quot;opacity&quot;: 1.0}, {&quot;point&quot;: [177.0329673, -38.32134401, 1.401341949], &quot;size&quot;: 5.0, &quot;color&quot;: &quot;#6666ff&quot;, &quot;opacity&quot;: 1.0}, {&quot;point&quot;: [177.3247358, -39.17089463, 2.133976415], &quot;size&quot;: 5.0, &quot;color&quot;: &quot;#6666ff&quot;, &quot;opacity&quot;: 1.0}, {&quot;point&quot;: [167.5450571, -45.65682452, 2.90238224], &quot;size&quot;: 5.0, &quot;color&quot;: &quot;#6666ff&quot;, &quot;opacity&quot;: 1.0}, {&quot;point&quot;: [176.4823327, -38.4077103, 1.936424337], &quot;size&quot;: 5.0, &quot;color&quot;: &quot;#6666ff&quot;, &quot;opacity&quot;: 1.0}, {&quot;point&quot;: [170.8090152, -43.2911695, 1.979017644], &quot;size&quot;: 5.0, &quot;color&quot;: &quot;#6666ff&quot;, &quot;opacity&quot;: 1.0}, {&quot;point&quot;: [177.7851523, -37.951377, 1.730314923], &quot;size&quot;: 5.0, &quot;color&quot;: &quot;#6666ff&quot;, &quot;opacity&quot;: 1.0}, {&quot;point&quot;: [176.6988401, -39.89260555, 1.515761498], &quot;size&quot;: 5.0, &quot;color&quot;: &quot;#6666ff&quot;, &quot;opacity&quot;: 1.0}, {&quot;point&quot;: [175.0281679, -37.1170666, 1.295452275], &quot;size&quot;: 5.0, &quot;color&quot;: &quot;#6666ff&quot;, &quot;opacity&quot;: 1.0}, {&quot;point&quot;: [177.0682461, -39.46384703, 1.819728933], &quot;size&quot;: 5.0, &quot;color&quot;: &quot;#6666ff&quot;, &quot;opacity&quot;: 1.0}, {&quot;point&quot;: [177.3172155, -37.83358163, 2.164392333], &quot;size&quot;: 5.0, &quot;color&quot;: &quot;#6666ff&quot;, &quot;opacity&quot;: 1.0}, {&quot;point&quot;: [176.2491983, -38.38719697, 2.310063501], &quot;size&quot;: 5.0, &quot;color&quot;: &quot;#6666ff&quot;, &quot;opacity&quot;: 1.0}, {&quot;point&quot;: [174.2147522, -41.7623024, 4.0782966], &quot;size&quot;: 5.0, &quot;color&quot;: &quot;#6666ff&quot;, &quot;opacity&quot;: 1.0}, {&quot;point&quot;: [174.299005, -40.68936487, 1.990127465], &quot;size&quot;: 5.0, &quot;color&quot;: &quot;#6666ff&quot;, &quot;opacity&quot;: 1.0}, {&quot;point&quot;: [175.8795551, -40.45138829, 1.324764436], &quot;size&quot;: 5.0, &quot;color&quot;: &quot;#6666ff&quot;, &quot;opacity&quot;: 1.0}, {&quot;point&quot;: [176.0904147, -39.04077573, 1.307233103], &quot;size&quot;: 5.0, &quot;color&quot;: &quot;#6666ff&quot;, &quot;opacity&quot;: 1.0}, {&quot;point&quot;: [171.7280764, -41.92705548, 2.475664959], &quot;size&quot;: 5.0, &quot;color&quot;: &quot;#6666ff&quot;, &quot;opacity&quot;: 1.0}, {&quot;point&quot;: [170.818466, -43.29144044, 2.753761124], &quot;size&quot;: 5.0, &quot;color&quot;: &quot;#6666ff&quot;, &quot;opacity&quot;: 1.0}, {&quot;point&quot;: [174.2236786, -41.77553177, 3.449291908], &quot;size&quot;: 5.0, &quot;color&quot;: &quot;#6666ff&quot;, &quot;opacity&quot;: 1.0}, {&quot;point&quot;: [175.827528, -39.59292169, 1.394274564], &quot;size&quot;: 5.0, &quot;color&quot;: &quot;#6666ff&quot;, &quot;opacity&quot;: 1.0}, {&quot;point&quot;: [175.7339839, -39.47755077, 0.9352616609], &quot;size&quot;: 5.0, &quot;color&quot;: &quot;#6666ff&quot;, &quot;opacity&quot;: 1.0}, {&quot;point&quot;: [177.1709577, -37.60742623, 2.34635841], &quot;size&quot;: 5.0, &quot;color&quot;: &quot;#6666ff&quot;, &quot;opacity&quot;: 1.0}, {&quot;point&quot;: [174.9432127, -40.06980739, 2.075998675], &quot;size&quot;: 5.0, &quot;color&quot;: &quot;#6666ff&quot;, &quot;opacity&quot;: 1.0}, {&quot;point&quot;: [167.3297061, -45.22404946, 2.830775137], &quot;size&quot;: 5.0, &quot;color&quot;: &quot;#6666ff&quot;, &quot;opacity&quot;: 1.0}, {&quot;point&quot;: [176.1077764, -40.00980894, 2.808721496], &quot;size&quot;: 5.0, &quot;color&quot;: &quot;#6666ff&quot;, &quot;opacity&quot;: 1.0}, {&quot;point&quot;: [176.374578, -40.2053451, 2.043839084], &quot;size&quot;: 5.0, &quot;color&quot;: &quot;#6666ff&quot;, &quot;opacity&quot;: 1.0}, {&quot;point&quot;: [175.8807879, -38.61258712, 2.383659319], &quot;size&quot;: 5.0, &quot;color&quot;: &quot;#6666ff&quot;, &quot;opacity&quot;: 1.0}, {&quot;point&quot;: [178.2675891, -37.51994814, 2.679882556], &quot;size&quot;: 5.0, &quot;color&quot;: &quot;#6666ff&quot;, &quot;opacity&quot;: 1.0}, {&quot;point&quot;: [172.5158117, -42.55952295, 2.894765448], &quot;size&quot;: 5.0, &quot;color&quot;: &quot;#6666ff&quot;, &quot;opacity&quot;: 1.0}, {&quot;point&quot;: [173.4746478, -41.36236215, 1.666602427], &quot;size&quot;: 5.0, &quot;color&quot;: &quot;#6666ff&quot;, &quot;opacity&quot;: 1.0}, {&quot;point&quot;: [176.3894681, -40.28662764, 1.681912283], &quot;size&quot;: 5.0, &quot;color&quot;: &quot;#6666ff&quot;, &quot;opacity&quot;: 1.0}, {&quot;point&quot;: [176.0902109, -39.34582829, 1.315270518], &quot;size&quot;: 5.0, &quot;color&quot;: &quot;#6666ff&quot;, &quot;opacity&quot;: 1.0}, {&quot;point&quot;: [178.2112325, -37.63145329, 2.573492634], &quot;size&quot;: 5.0, &quot;color&quot;: &quot;#6666ff&quot;, &quot;opacity&quot;: 1.0}, {&quot;point&quot;: [175.6625755, -39.39076979, 1.428290524], &quot;size&quot;: 5.0, &quot;color&quot;: &quot;#6666ff&quot;, &quot;opacity&quot;: 1.0}, {&quot;point&quot;: [175.6732917, -39.53323072, 0.7067314663], &quot;size&quot;: 5.0, &quot;color&quot;: &quot;#6666ff&quot;, &quot;opacity&quot;: 1.0}, {&quot;point&quot;: [177.3172155, -37.83358163, 2.424102556], &quot;size&quot;: 5.0, &quot;color&quot;: &quot;#6666ff&quot;, &quot;opacity&quot;: 1.0}, {&quot;point&quot;: [168.2948169, -44.35913039, 2.522576544], &quot;size&quot;: 5.0, &quot;color&quot;: &quot;#6666ff&quot;, &quot;opacity&quot;: 1.0}, {&quot;point&quot;: [178.0146626, -38.25997132, 2.89460512], &quot;size&quot;: 5.0, &quot;color&quot;: &quot;#6666ff&quot;, &quot;opacity&quot;: 1.0}, {&quot;point&quot;: [168.3544397, -44.65692617, 2.844158741], &quot;size&quot;: 5.0, &quot;color&quot;: &quot;#6666ff&quot;, &quot;opacity&quot;: 1.0}, {&quot;point&quot;: [172.9264674, -41.25937083, 2.615456428], &quot;size&quot;: 5.0, &quot;color&quot;: &quot;#6666ff&quot;, &quot;opacity&quot;: 1.0}, {&quot;point&quot;: [178.1618224, -38.2237014, 1.67663412], &quot;size&quot;: 5.0, &quot;color&quot;: &quot;#6666ff&quot;, &quot;opacity&quot;: 1.0}, {&quot;point&quot;: [173.5475915, -42.53100965, 2.391231947], &quot;size&quot;: 5.0, &quot;color&quot;: &quot;#6666ff&quot;, &quot;opacity&quot;: 1.0}, {&quot;point&quot;: [173.5247077, -42.44023017, 2.451064285], &quot;size&quot;: 5.0, &quot;color&quot;: &quot;#6666ff&quot;, &quot;opacity&quot;: 1.0}, {&quot;point&quot;: [177.5026379, -37.72937234, 1.981738819], &quot;size&quot;: 5.0, &quot;color&quot;: &quot;#6666ff&quot;, &quot;opacity&quot;: 1.0}, {&quot;point&quot;: [177.4159736, -37.77999658, 2.330792837], &quot;size&quot;: 5.0, &quot;color&quot;: &quot;#6666ff&quot;, &quot;opacity&quot;: 1.0}, {&quot;point&quot;: [167.9537152, -46.66042089, 3.446656424], &quot;size&quot;: 5.0, &quot;color&quot;: &quot;#6666ff&quot;, &quot;opacity&quot;: 1.0}, {&quot;point&quot;: [175.769599, -40.4581032, 2.532839752], &quot;size&quot;: 5.0, &quot;color&quot;: &quot;#6666ff&quot;, &quot;opacity&quot;: 1.0}, {&quot;point&quot;: [177.8324512, -38.19771619, 3.425213843], &quot;size&quot;: 5.0, &quot;color&quot;: &quot;#6666ff&quot;, &quot;opacity&quot;: 1.0}, {&quot;point&quot;: [176.8306846, -38.45342958, 2.695591055], &quot;size&quot;: 5.0, &quot;color&quot;: &quot;#6666ff&quot;, &quot;opacity&quot;: 1.0}, {&quot;point&quot;: [172.7561326, -41.39456245, 2.447275826], &quot;size&quot;: 5.0, &quot;color&quot;: &quot;#6666ff&quot;, &quot;opacity&quot;: 1.0}, {&quot;point&quot;: [177.078247, -39.25253475, 1.620534802], &quot;size&quot;: 5.0, &quot;color&quot;: &quot;#6666ff&quot;, &quot;opacity&quot;: 1.0}, {&quot;point&quot;: [175.4386477, -39.22722711, 0.8749430475], &quot;size&quot;: 5.0, &quot;color&quot;: &quot;#6666ff&quot;, &quot;opacity&quot;: 1.0}, {&quot;point&quot;: [175.4281565, -39.01722345, 2.093804135], &quot;size&quot;: 5.0, &quot;color&quot;: &quot;#6666ff&quot;, &quot;opacity&quot;: 1.0}, {&quot;point&quot;: [177.5441231, -37.18419269, 2.998666986], &quot;size&quot;: 5.0, &quot;color&quot;: &quot;#6666ff&quot;, &quot;opacity&quot;: 1.0}, {&quot;point&quot;: [173.3724806, -41.38604863, 1.914474134], &quot;size&quot;: 5.0, &quot;color&quot;: &quot;#6666ff&quot;, &quot;opacity&quot;: 1.0}, {&quot;point&quot;: [173.2346913, -42.53028346, 2.323108412], &quot;size&quot;: 5.0, &quot;color&quot;: &quot;#6666ff&quot;, &quot;opacity&quot;: 1.0}, {&quot;point&quot;: [174.0771032, -41.68879947, 1.972342082], &quot;size&quot;: 5.0, &quot;color&quot;: &quot;#6666ff&quot;, &quot;opacity&quot;: 1.0}, {&quot;point&quot;: [177.7841234, -38.52605858, 1.33552282], &quot;size&quot;: 5.0, &quot;color&quot;: &quot;#6666ff&quot;, &quot;opacity&quot;: 1.0}, {&quot;point&quot;: [173.8860194, -42.0068852, 2.632552178], &quot;size&quot;: 5.0, &quot;color&quot;: &quot;#6666ff&quot;, &quot;opacity&quot;: 1.0}, {&quot;point&quot;: [177.7980064, -38.69306489, 1.51777297], &quot;size&quot;: 5.0, &quot;color&quot;: &quot;#6666ff&quot;, &quot;opacity&quot;: 1.0}, {&quot;point&quot;: [170.4225243, -45.0424565, 2.315208348], &quot;size&quot;: 5.0, &quot;color&quot;: &quot;#6666ff&quot;, &quot;opacity&quot;: 1.0}, {&quot;point&quot;: [173.2518218, -41.5602391, 2.117981195], &quot;size&quot;: 5.0, &quot;color&quot;: &quot;#6666ff&quot;, &quot;opacity&quot;: 1.0}, {&quot;point&quot;: [176.171212, -40.394267, 1.477694653], &quot;size&quot;: 5.0, &quot;color&quot;: &quot;#6666ff&quot;, &quot;opacity&quot;: 1.0}, {&quot;point&quot;: [176.7053065, -40.05361762, 2.555429761], &quot;size&quot;: 5.0, &quot;color&quot;: &quot;#6666ff&quot;, &quot;opacity&quot;: 1.0}, {&quot;point&quot;: [176.149307, -37.83067689, 2.298225877], &quot;size&quot;: 5.0, &quot;color&quot;: &quot;#6666ff&quot;, &quot;opacity&quot;: 1.0}, {&quot;point&quot;: [174.2392686, -41.63684006, 2.380993802], &quot;size&quot;: 5.0, &quot;color&quot;: &quot;#6666ff&quot;, &quot;opacity&quot;: 1.0}, {&quot;point&quot;: [176.8932095, -39.70516405, 1.601189915], &quot;size&quot;: 5.0, &quot;color&quot;: &quot;#6666ff&quot;, &quot;opacity&quot;: 1.0}, {&quot;point&quot;: [176.3286325, -40.3423076, 1.442625942], &quot;size&quot;: 5.0, &quot;color&quot;: &quot;#6666ff&quot;, &quot;opacity&quot;: 1.0}, {&quot;point&quot;: [176.6350748, -38.08908269, 2.739964148], &quot;size&quot;: 5.0, &quot;color&quot;: &quot;#6666ff&quot;, &quot;opacity&quot;: 1.0}, {&quot;point&quot;: [174.5717774, -41.12618449, 3.230716918], &quot;size&quot;: 5.0, &quot;color&quot;: &quot;#6666ff&quot;, &quot;opacity&quot;: 1.0}, {&quot;point&quot;: [173.1047452, -41.29468821, 2.001532542], &quot;size&quot;: 5.0, &quot;color&quot;: &quot;#6666ff&quot;, &quot;opacity&quot;: 1.0}, {&quot;point&quot;: [175.8601694, -40.63502261, 1.277220993], &quot;size&quot;: 5.0, &quot;color&quot;: &quot;#6666ff&quot;, &quot;opacity&quot;: 1.0}, {&quot;point&quot;: [176.3770377, -38.29779174, 2.534702677], &quot;size&quot;: 5.0, &quot;color&quot;: &quot;#6666ff&quot;, &quot;opacity&quot;: 1.0}, {&quot;point&quot;: [172.2125474, -42.84796152, 2.419010534], &quot;size&quot;: 5.0, &quot;color&quot;: &quot;#6666ff&quot;, &quot;opacity&quot;: 1.0}, {&quot;point&quot;: [170.8195027, -43.28645735, 2.379908505], &quot;size&quot;: 5.0, &quot;color&quot;: &quot;#6666ff&quot;, &quot;opacity&quot;: 1.0}, {&quot;point&quot;: [176.4342128, -39.25794252, 2.403477594], &quot;size&quot;: 5.0, &quot;color&quot;: &quot;#6666ff&quot;, &quot;opacity&quot;: 1.0}, {&quot;point&quot;: [178.4213739, -38.73048269, 1.996238991], &quot;size&quot;: 5.0, &quot;color&quot;: &quot;#6666ff&quot;, &quot;opacity&quot;: 1.0}, {&quot;point&quot;: [173.2009218, -41.15732907, 2.154845043], &quot;size&quot;: 5.0, &quot;color&quot;: &quot;#6666ff&quot;, &quot;opacity&quot;: 1.0}, {&quot;point&quot;: [175.6241964, -39.3274965, -0.2699063289], &quot;size&quot;: 5.0, &quot;color&quot;: &quot;#6666ff&quot;, &quot;opacity&quot;: 1.0}, {&quot;point&quot;: [177.7231967, -38.60914556, 1.958568963], &quot;size&quot;: 5.0, &quot;color&quot;: &quot;#6666ff&quot;, &quot;opacity&quot;: 1.0}, {&quot;point&quot;: [167.9158047, -45.08972926, 2.715468527], &quot;size&quot;: 5.0, &quot;color&quot;: &quot;#6666ff&quot;, &quot;opacity&quot;: 1.0}, {&quot;point&quot;: [174.4810981, -40.09760554, 2.099253587], &quot;size&quot;: 5.0, &quot;color&quot;: &quot;#6666ff&quot;, &quot;opacity&quot;: 1.0}, {&quot;point&quot;: [173.4092894, -41.23359497, 1.416101114], &quot;size&quot;: 5.0, &quot;color&quot;: &quot;#6666ff&quot;, &quot;opacity&quot;: 1.0}, {&quot;point&quot;: [177.740973, -39.111103, 1.930830572], &quot;size&quot;: 5.0, &quot;color&quot;: &quot;#6666ff&quot;, &quot;opacity&quot;: 1.0}, {&quot;point&quot;: [170.4006399, -45.02346265, 2.441957803], &quot;size&quot;: 5.0, &quot;color&quot;: &quot;#6666ff&quot;, &quot;opacity&quot;: 1.0}, {&quot;point&quot;: [176.8889624, -39.74502881, 2.051277247], &quot;size&quot;: 5.0, &quot;color&quot;: &quot;#6666ff&quot;, &quot;opacity&quot;: 1.0}, {&quot;point&quot;: [176.7117334, -39.88466165, 1.53870737], &quot;size&quot;: 5.0, &quot;color&quot;: &quot;#6666ff&quot;, &quot;opacity&quot;: 1.0}, {&quot;point&quot;: [170.7853048, -43.41998977, 2.574020545], &quot;size&quot;: 5.0, &quot;color&quot;: &quot;#6666ff&quot;, &quot;opacity&quot;: 1.0}, {&quot;point&quot;: [177.0165765, -37.63595057, 2.226117624], &quot;size&quot;: 5.0, &quot;color&quot;: &quot;#6666ff&quot;, &quot;opacity&quot;: 1.0}, {&quot;point&quot;: [177.0094289, -37.67655553, 2.075134864], &quot;size&quot;: 5.0, &quot;color&quot;: &quot;#6666ff&quot;, &quot;opacity&quot;: 1.0}, {&quot;point&quot;: [176.2541303, -38.1268931, 1.68271053], &quot;size&quot;: 5.0, &quot;color&quot;: &quot;#6666ff&quot;, &quot;opacity&quot;: 1.0}, {&quot;point&quot;: [174.4951526, -40.80697593, 2.07957307], &quot;size&quot;: 5.0, &quot;color&quot;: &quot;#6666ff&quot;, &quot;opacity&quot;: 1.0}, {&quot;point&quot;: [172.1205241, -43.59927204, 2.318830823], &quot;size&quot;: 5.0, &quot;color&quot;: &quot;#6666ff&quot;, &quot;opacity&quot;: 1.0}, {&quot;point&quot;: [177.0394977, -39.28134956, 1.646503653], &quot;size&quot;: 5.0, &quot;color&quot;: &quot;#6666ff&quot;, &quot;opacity&quot;: 1.0}, {&quot;point&quot;: [171.9469703, -43.12253457, 2.177539035], &quot;size&quot;: 5.0, &quot;color&quot;: &quot;#6666ff&quot;, &quot;opacity&quot;: 1.0}, {&quot;point&quot;: [173.5536346, -42.35747147, 2.749777035], &quot;size&quot;: 5.0, &quot;color&quot;: &quot;#6666ff&quot;, &quot;opacity&quot;: 1.0}, {&quot;point&quot;: [173.0628289, -41.10316307, 2.577030511], &quot;size&quot;: 5.0, &quot;color&quot;: &quot;#6666ff&quot;, &quot;opacity&quot;: 1.0}, {&quot;point&quot;: [175.0336742, -40.61036704, 2.310586817], &quot;size&quot;: 5.0, &quot;color&quot;: &quot;#6666ff&quot;, &quot;opacity&quot;: 1.0}, {&quot;point&quot;: [175.8967438, -38.53841782, 2.404514832], &quot;size&quot;: 5.0, &quot;color&quot;: &quot;#6666ff&quot;, &quot;opacity&quot;: 1.0}, {&quot;point&quot;: [174.1588745, -41.68335724, 3.134998316], &quot;size&quot;: 5.0, &quot;color&quot;: &quot;#6666ff&quot;, &quot;opacity&quot;: 1.0}, {&quot;point&quot;: [172.5555092, -40.88610244, 2.071558835], &quot;size&quot;: 5.0, &quot;color&quot;: &quot;#6666ff&quot;, &quot;opacity&quot;: 1.0}, {&quot;point&quot;: [175.714469, -39.92711309, 1.514467762], &quot;size&quot;: 5.0, &quot;color&quot;: &quot;#6666ff&quot;, &quot;opacity&quot;: 1.0}, {&quot;point&quot;: [173.174159, -41.47032554, 2.220113101], &quot;size&quot;: 5.0, &quot;color&quot;: &quot;#6666ff&quot;, &quot;opacity&quot;: 1.0}, {&quot;point&quot;: [174.9314672, -39.1346447, 1.850434781], &quot;size&quot;: 5.0, &quot;color&quot;: &quot;#6666ff&quot;, &quot;opacity&quot;: 1.0}, {&quot;point&quot;: [175.757986, -40.9203942, 1.659724542], &quot;size&quot;: 5.0, &quot;color&quot;: &quot;#6666ff&quot;, &quot;opacity&quot;: 1.0}, {&quot;point&quot;: [170.8649115, -43.31198732, 2.086825111], &quot;size&quot;: 5.0, &quot;color&quot;: &quot;#6666ff&quot;, &quot;opacity&quot;: 1.0}, {&quot;point&quot;: [178.284423, -37.59375605, 1.965350899], &quot;size&quot;: 5.0, &quot;color&quot;: &quot;#6666ff&quot;, &quot;opacity&quot;: 1.0}, {&quot;point&quot;: [177.3720647, -37.75197506, 1.899890356], &quot;size&quot;: 5.0, &quot;color&quot;: &quot;#6666ff&quot;, &quot;opacity&quot;: 1.0}, {&quot;point&quot;: [175.0736168, -41.08350968, 1.502137827], &quot;size&quot;: 5.0, &quot;color&quot;: &quot;#6666ff&quot;, &quot;opacity&quot;: 1.0}, {&quot;point&quot;: [167.5478146, -45.64685833, 2.147611218], &quot;size&quot;: 5.0, &quot;color&quot;: &quot;#6666ff&quot;, &quot;opacity&quot;: 1.0}, {&quot;point&quot;: [167.5263977, -45.63788605, 2.309536777], &quot;size&quot;: 5.0, &quot;color&quot;: &quot;#6666ff&quot;, &quot;opacity&quot;: 1.0}, {&quot;point&quot;: [176.0625523, -38.97491173, 2.061098954], &quot;size&quot;: 5.0, &quot;color&quot;: &quot;#6666ff&quot;, &quot;opacity&quot;: 1.0}, {&quot;point&quot;: [178.4084768, -37.77748252, 1.853421904], &quot;size&quot;: 5.0, &quot;color&quot;: &quot;#6666ff&quot;, &quot;opacity&quot;: 1.0}, {&quot;point&quot;: [174.1923538, -40.25742216, 2.551979714], &quot;size&quot;: 5.0, &quot;color&quot;: &quot;#6666ff&quot;, &quot;opacity&quot;: 1.0}, {&quot;point&quot;: [174.1477116, -41.69170719, 2.581019625], &quot;size&quot;: 5.0, &quot;color&quot;: &quot;#6666ff&quot;, &quot;opacity&quot;: 1.0}, {&quot;point&quot;: [177.437941, -37.79400734, 2.087588205], &quot;size&quot;: 5.0, &quot;color&quot;: &quot;#6666ff&quot;, &quot;opacity&quot;: 1.0}, {&quot;point&quot;: [175.8773158, -40.34546121, 1.551383945], &quot;size&quot;: 5.0, &quot;color&quot;: &quot;#6666ff&quot;, &quot;opacity&quot;: 1.0}, {&quot;point&quot;: [174.450616, -41.52044398, 2.699457661], &quot;size&quot;: 5.0, &quot;color&quot;: &quot;#6666ff&quot;, &quot;opacity&quot;: 1.0}, {&quot;point&quot;: [176.3731774, -39.29692185, 1.769795354], &quot;size&quot;: 5.0, &quot;color&quot;: &quot;#6666ff&quot;, &quot;opacity&quot;: 1.0}, {&quot;point&quot;: [176.0139597, -37.863986, 2.152373621], &quot;size&quot;: 5.0, &quot;color&quot;: &quot;#6666ff&quot;, &quot;opacity&quot;: 1.0}, {&quot;point&quot;: [176.1853075, -39.04200472, 2.541178746], &quot;size&quot;: 5.0, &quot;color&quot;: &quot;#6666ff&quot;, &quot;opacity&quot;: 1.0}, {&quot;point&quot;: [174.4412079, -41.45840454, 3.935731257], &quot;size&quot;: 5.0, &quot;color&quot;: &quot;#6666ff&quot;, &quot;opacity&quot;: 1.0}, {&quot;point&quot;: [176.7983001, -38.0974623, 1.993272644], &quot;size&quot;: 5.0, &quot;color&quot;: &quot;#6666ff&quot;, &quot;opacity&quot;: 1.0}, {&quot;point&quot;: [175.3933785, -39.12704987, 0.8761742323], &quot;size&quot;: 5.0, &quot;color&quot;: &quot;#6666ff&quot;, &quot;opacity&quot;: 1.0}, {&quot;point&quot;: [167.3269501, -45.273983, 3.093833813], &quot;size&quot;: 5.0, &quot;color&quot;: &quot;#6666ff&quot;, &quot;opacity&quot;: 1.0}, {&quot;point&quot;: [176.781745, -38.47025591, 1.902315448], &quot;size&quot;: 5.0, &quot;color&quot;: &quot;#6666ff&quot;, &quot;opacity&quot;: 1.0}, {&quot;point&quot;: [177.1102861, -39.57759231, 1.871209765], &quot;size&quot;: 5.0, &quot;color&quot;: &quot;#6666ff&quot;, &quot;opacity&quot;: 1.0}, {&quot;point&quot;: [177.847969, -38.56883107, 2.218527636], &quot;size&quot;: 5.0, &quot;color&quot;: &quot;#6666ff&quot;, &quot;opacity&quot;: 1.0}, {&quot;point&quot;: [176.1182937, -40.97109658, 1.722100686], &quot;size&quot;: 5.0, &quot;color&quot;: &quot;#6666ff&quot;, &quot;opacity&quot;: 1.0}, {&quot;point&quot;: [177.7278608, -39.12403, 1.875478299], &quot;size&quot;: 5.0, &quot;color&quot;: &quot;#6666ff&quot;, &quot;opacity&quot;: 1.0}, {&quot;point&quot;: [177.8140622, -38.55279802, 1.803149635], &quot;size&quot;: 5.0, &quot;color&quot;: &quot;#6666ff&quot;, &quot;opacity&quot;: 1.0}, {&quot;point&quot;: [174.3196259, -39.63598251, 2.647296169], &quot;size&quot;: 5.0, &quot;color&quot;: &quot;#6666ff&quot;, &quot;opacity&quot;: 1.0}, {&quot;point&quot;: [175.9003323, -38.64653026, 2.385987632], &quot;size&quot;: 5.0, &quot;color&quot;: &quot;#6666ff&quot;, &quot;opacity&quot;: 1.0}, {&quot;point&quot;: [174.2668053, -41.59677698, 1.490323765], &quot;size&quot;: 5.0, &quot;color&quot;: &quot;#6666ff&quot;, &quot;opacity&quot;: 1.0}, {&quot;point&quot;: [174.1860809, -39.7765274, 2.309351053], &quot;size&quot;: 5.0, &quot;color&quot;: &quot;#6666ff&quot;, &quot;opacity&quot;: 1.0}, {&quot;point&quot;: [174.2360723, -41.63758026, 2.056658613], &quot;size&quot;: 5.0, &quot;color&quot;: &quot;#6666ff&quot;, &quot;opacity&quot;: 1.0}, {&quot;point&quot;: [176.9649102, -37.51769146, 2.006367041], &quot;size&quot;: 5.0, &quot;color&quot;: &quot;#6666ff&quot;, &quot;opacity&quot;: 1.0}, {&quot;point&quot;: [177.0650612, -38.01239211, 2.393244107], &quot;size&quot;: 5.0, &quot;color&quot;: &quot;#6666ff&quot;, &quot;opacity&quot;: 1.0}, {&quot;point&quot;: [176.9195077, -39.65513478, 2.354507426], &quot;size&quot;: 5.0, &quot;color&quot;: &quot;#6666ff&quot;, &quot;opacity&quot;: 1.0}, {&quot;point&quot;: [174.3055295, -41.64796263, 2.229692236], &quot;size&quot;: 5.0, &quot;color&quot;: &quot;#6666ff&quot;, &quot;opacity&quot;: 1.0}, {&quot;point&quot;: [175.9814109, -38.85907154, 2.204502599], &quot;size&quot;: 5.0, &quot;color&quot;: &quot;#6666ff&quot;, &quot;opacity&quot;: 1.0}, {&quot;point&quot;: [175.4833121, -41.086476, 2.523233361], &quot;size&quot;: 5.0, &quot;color&quot;: &quot;#6666ff&quot;, &quot;opacity&quot;: 1.0}, {&quot;point&quot;: [177.6574743, -37.57424835, 2.53954562], &quot;size&quot;: 5.0, &quot;color&quot;: &quot;#6666ff&quot;, &quot;opacity&quot;: 1.0}, {&quot;point&quot;: [177.7952728, -39.25733185, 3.438839515], &quot;size&quot;: 5.0, &quot;color&quot;: &quot;#6666ff&quot;, &quot;opacity&quot;: 1.0}, {&quot;point&quot;: [176.8696555, -39.70111948, 2.060506047], &quot;size&quot;: 5.0, &quot;color&quot;: &quot;#6666ff&quot;, &quot;opacity&quot;: 1.0}, {&quot;point&quot;: [174.1387482, -41.68145752, 4.180682326], &quot;size&quot;: 5.0, &quot;color&quot;: &quot;#6666ff&quot;, &quot;opacity&quot;: 1.0}, {&quot;point&quot;: [176.7476888, -39.88574541, 1.542939854], &quot;size&quot;: 5.0, &quot;color&quot;: &quot;#6666ff&quot;, &quot;opacity&quot;: 1.0}, {&quot;point&quot;: [178.3531827, -37.67417269, 1.745826367], &quot;size&quot;: 5.0, &quot;color&quot;: &quot;#6666ff&quot;, &quot;opacity&quot;: 1.0}, {&quot;point&quot;: [173.5470734, -42.28474045, 2.621458063], &quot;size&quot;: 5.0, &quot;color&quot;: &quot;#6666ff&quot;, &quot;opacity&quot;: 1.0}, {&quot;point&quot;: [175.8563486, -40.61657064, 1.836853345], &quot;size&quot;: 5.0, &quot;color&quot;: &quot;#6666ff&quot;, &quot;opacity&quot;: 1.0}, {&quot;point&quot;: [174.2626394, -41.52074847, 1.724277347], &quot;size&quot;: 5.0, &quot;color&quot;: &quot;#6666ff&quot;, &quot;opacity&quot;: 1.0}, {&quot;point&quot;: [173.0218474, -42.27206197, 2.453951216], &quot;size&quot;: 5.0, &quot;color&quot;: &quot;#6666ff&quot;, &quot;opacity&quot;: 1.0}, {&quot;point&quot;: [173.2073702, -41.56811039, 1.94920491], &quot;size&quot;: 5.0, &quot;color&quot;: &quot;#6666ff&quot;, &quot;opacity&quot;: 1.0}, {&quot;point&quot;: [174.5007782, -37.85586929, 2.573706513], &quot;size&quot;: 5.0, &quot;color&quot;: &quot;#6666ff&quot;, &quot;opacity&quot;: 1.0}, {&quot;point&quot;: [178.2070931, -38.94876128, 2.261946479], &quot;size&quot;: 5.0, &quot;color&quot;: &quot;#6666ff&quot;, &quot;opacity&quot;: 1.0}, {&quot;point&quot;: [178.2250842, -37.54027717, 2.014037422], &quot;size&quot;: 5.0, &quot;color&quot;: &quot;#6666ff&quot;, &quot;opacity&quot;: 1.0}, {&quot;point&quot;: [177.5556411, -37.78433163, 1.348524186], &quot;size&quot;: 5.0, &quot;color&quot;: &quot;#6666ff&quot;, &quot;opacity&quot;: 1.0}, {&quot;point&quot;: [174.292124, -41.63422281, 1.786171427], &quot;size&quot;: 5.0, &quot;color&quot;: &quot;#6666ff&quot;, &quot;opacity&quot;: 1.0}, {&quot;point&quot;: [170.8146243, -43.29467219, 2.225925852], &quot;size&quot;: 5.0, &quot;color&quot;: &quot;#6666ff&quot;, &quot;opacity&quot;: 1.0}, {&quot;point&quot;: [177.7965549, -37.70518305, 2.47964342], &quot;size&quot;: 5.0, &quot;color&quot;: &quot;#6666ff&quot;, &quot;opacity&quot;: 1.0}, {&quot;point&quot;: [178.4101792, -37.75755014, 1.594687711], &quot;size&quot;: 5.0, &quot;color&quot;: &quot;#6666ff&quot;, &quot;opacity&quot;: 1.0}, {&quot;point&quot;: [176.0364864, -38.59402897, 2.502592152], &quot;size&quot;: 5.0, &quot;color&quot;: &quot;#6666ff&quot;, &quot;opacity&quot;: 1.0}, {&quot;point&quot;: [174.2456169, -41.76047891, 1.984160102], &quot;size&quot;: 5.0, &quot;color&quot;: &quot;#6666ff&quot;, &quot;opacity&quot;: 1.0}, {&quot;point&quot;: [174.0354704, -40.17429612, 2.077183607], &quot;size&quot;: 5.0, &quot;color&quot;: &quot;#6666ff&quot;, &quot;opacity&quot;: 1.0}, {&quot;point&quot;: [173.855065, -42.32634517, 2.493839664], &quot;size&quot;: 5.0, &quot;color&quot;: &quot;#6666ff&quot;, &quot;opacity&quot;: 1.0}, {&quot;point&quot;: [173.8478785, -40.93454215, 2.259579824], &quot;size&quot;: 5.0, &quot;color&quot;: &quot;#6666ff&quot;, &quot;opacity&quot;: 1.0}, {&quot;point&quot;: [177.7697601, -36.97972488, 2.994188], &quot;size&quot;: 5.0, &quot;color&quot;: &quot;#6666ff&quot;, &quot;opacity&quot;: 1.0}, {&quot;point&quot;: [176.2707051, -40.2155627, 1.374211019], &quot;size&quot;: 5.0, &quot;color&quot;: &quot;#6666ff&quot;, &quot;opacity&quot;: 1.0}, {&quot;point&quot;: [177.6723328, -38.15284348, 3.099523991], &quot;size&quot;: 5.0, &quot;color&quot;: &quot;#6666ff&quot;, &quot;opacity&quot;: 1.0}, {&quot;point&quot;: [175.6252257, -40.98064107, 1.370683474], &quot;size&quot;: 5.0, &quot;color&quot;: &quot;#6666ff&quot;, &quot;opacity&quot;: 1.0}, {&quot;point&quot;: [172.2544666, -42.96271795, 2.252863051], &quot;size&quot;: 5.0, &quot;color&quot;: &quot;#6666ff&quot;, &quot;opacity&quot;: 1.0}, {&quot;point&quot;: [175.0470637, -40.05958979, 2.073953254], &quot;size&quot;: 5.0, &quot;color&quot;: &quot;#6666ff&quot;, &quot;opacity&quot;: 1.0}, {&quot;point&quot;: [174.1042084, -41.67291166, 1.699876288], &quot;size&quot;: 5.0, &quot;color&quot;: &quot;#6666ff&quot;, &quot;opacity&quot;: 1.0}, {&quot;point&quot;: [176.39328, -40.31878281, 2.749328298], &quot;size&quot;: 5.0, &quot;color&quot;: &quot;#6666ff&quot;, &quot;opacity&quot;: 1.0}, {&quot;point&quot;: [175.6113797, -40.87269171, 1.345092419], &quot;size&quot;: 5.0, &quot;color&quot;: &quot;#6666ff&quot;, &quot;opacity&quot;: 1.0}, {&quot;point&quot;: [177.1147477, -39.41860253, 1.723951955], &quot;size&quot;: 5.0, &quot;color&quot;: &quot;#6666ff&quot;, &quot;opacity&quot;: 1.0}, {&quot;point&quot;: [178.3482292, -37.52912105, 1.90847131], &quot;size&quot;: 5.0, &quot;color&quot;: &quot;#6666ff&quot;, &quot;opacity&quot;: 1.0}, {&quot;point&quot;: [170.9004066, -43.17098025, 1.733193585], &quot;size&quot;: 5.0, &quot;color&quot;: &quot;#6666ff&quot;, &quot;opacity&quot;: 1.0}, {&quot;point&quot;: [173.6201015, -42.31283722, 2.196424639], &quot;size&quot;: 5.0, &quot;color&quot;: &quot;#6666ff&quot;, &quot;opacity&quot;: 1.0}, {&quot;point&quot;: [176.5344457, -40.31513796, 1.587781057], &quot;size&quot;: 5.0, &quot;color&quot;: &quot;#6666ff&quot;, &quot;opacity&quot;: 1.0}, {&quot;point&quot;: [176.5420966, -40.32786664, 2.310033113], &quot;size&quot;: 5.0, &quot;color&quot;: &quot;#6666ff&quot;, &quot;opacity&quot;: 1.0}, {&quot;point&quot;: [177.2560165, -39.35041176, 2.142266615], &quot;size&quot;: 5.0, &quot;color&quot;: &quot;#6666ff&quot;, &quot;opacity&quot;: 1.0}, {&quot;point&quot;: [177.7430765, -39.12032899, 2.236931248], &quot;size&quot;: 5.0, &quot;color&quot;: &quot;#6666ff&quot;, &quot;opacity&quot;: 1.0}, {&quot;point&quot;: [172.8921671, -42.66558125, 2.401521168], &quot;size&quot;: 5.0, &quot;color&quot;: &quot;#6666ff&quot;, &quot;opacity&quot;: 1.0}, {&quot;point&quot;: [175.7249549, -38.96959909, 2.370922642], &quot;size&quot;: 5.0, &quot;color&quot;: &quot;#6666ff&quot;, &quot;opacity&quot;: 1.0}, {&quot;point&quot;: [173.8335266, -42.28655243, 4.642584558], &quot;size&quot;: 5.0, &quot;color&quot;: &quot;#6666ff&quot;, &quot;opacity&quot;: 1.0}, {&quot;point&quot;: [176.6383487, -38.05918412, 1.970785104], &quot;size&quot;: 5.0, &quot;color&quot;: &quot;#6666ff&quot;, &quot;opacity&quot;: 1.0}, {&quot;point&quot;: [176.8919738, -39.49182949, 1.542405157], &quot;size&quot;: 5.0, &quot;color&quot;: &quot;#6666ff&quot;, &quot;opacity&quot;: 1.0}, {&quot;point&quot;: [174.2035254, -41.73171719, 1.978802947], &quot;size&quot;: 5.0, &quot;color&quot;: &quot;#6666ff&quot;, &quot;opacity&quot;: 1.0}, {&quot;point&quot;: [176.3860973, -40.26319257, 1.379566857], &quot;size&quot;: 5.0, &quot;color&quot;: &quot;#6666ff&quot;, &quot;opacity&quot;: 1.0}, {&quot;point&quot;: [174.1963782, -41.73818069, 1.696977282], &quot;size&quot;: 5.0, &quot;color&quot;: &quot;#6666ff&quot;, &quot;opacity&quot;: 1.0}, {&quot;point&quot;: [174.2214808, -41.75643434, 2.041495926], &quot;size&quot;: 5.0, &quot;color&quot;: &quot;#6666ff&quot;, &quot;opacity&quot;: 1.0}, {&quot;point&quot;: [174.247879, -41.77088547, 2.990602393], &quot;size&quot;: 5.0, &quot;color&quot;: &quot;#6666ff&quot;, &quot;opacity&quot;: 1.0}, {&quot;point&quot;: [174.2325134, -41.77952194, 3.905952985], &quot;size&quot;: 5.0, &quot;color&quot;: &quot;#6666ff&quot;, &quot;opacity&quot;: 1.0}, {&quot;point&quot;: [174.1923828, -41.76799393, 4.109037783], &quot;size&quot;: 5.0, &quot;color&quot;: &quot;#6666ff&quot;, &quot;opacity&quot;: 1.0}, {&quot;point&quot;: [174.2127578, -41.73198813, 2.183594933], &quot;size&quot;: 5.0, &quot;color&quot;: &quot;#6666ff&quot;, &quot;opacity&quot;: 1.0}, {&quot;point&quot;: [175.7373699, -39.47431902, 0.9603917234], &quot;size&quot;: 5.0, &quot;color&quot;: &quot;#6666ff&quot;, &quot;opacity&quot;: 1.0}, {&quot;point&quot;: [176.597733, -40.04538324, 1.739797349], &quot;size&quot;: 5.0, &quot;color&quot;: &quot;#6666ff&quot;, &quot;opacity&quot;: 1.0}, {&quot;point&quot;: [174.2033807, -41.75340092, 2.386573383], &quot;size&quot;: 5.0, &quot;color&quot;: &quot;#6666ff&quot;, &quot;opacity&quot;: 1.0}, {&quot;point&quot;: [174.2321472, -41.76473618, 3.002242677], &quot;size&quot;: 5.0, &quot;color&quot;: &quot;#6666ff&quot;, &quot;opacity&quot;: 1.0}, {&quot;point&quot;: [174.2335358, -41.8275528, 3.81986383], &quot;size&quot;: 5.0, &quot;color&quot;: &quot;#6666ff&quot;, &quot;opacity&quot;: 1.0}, {&quot;point&quot;: [177.5335199, -37.53207082, 1.964762129], &quot;size&quot;: 5.0, &quot;color&quot;: &quot;#6666ff&quot;, &quot;opacity&quot;: 1.0}, {&quot;point&quot;: [175.4235556, -39.24052421, 0.6390283332], &quot;size&quot;: 5.0, &quot;color&quot;: &quot;#6666ff&quot;, &quot;opacity&quot;: 1.0}, {&quot;point&quot;: [174.9502823, -40.10671134, 2.170966686], &quot;size&quot;: 5.0, &quot;color&quot;: &quot;#6666ff&quot;, &quot;opacity&quot;: 1.0}, {&quot;point&quot;: [175.9307703, -39.08424935, 1.82395874], &quot;size&quot;: 5.0, &quot;color&quot;: &quot;#6666ff&quot;, &quot;opacity&quot;: 1.0}, {&quot;point&quot;: [175.4917271, -39.2313443, 0.7520011432], &quot;size&quot;: 5.0, &quot;color&quot;: &quot;#6666ff&quot;, &quot;opacity&quot;: 1.0}, {&quot;point&quot;: [174.9071221, -40.75835996, 2.166691931], &quot;size&quot;: 5.0, &quot;color&quot;: &quot;#6666ff&quot;, &quot;opacity&quot;: 1.0}, {&quot;point&quot;: [177.1017303, -37.72788239, 2.777018169], &quot;size&quot;: 5.0, &quot;color&quot;: &quot;#6666ff&quot;, &quot;opacity&quot;: 1.0}, {&quot;point&quot;: [167.4271698, -45.33985138, 2.810443216], &quot;size&quot;: 5.0, &quot;color&quot;: &quot;#6666ff&quot;, &quot;opacity&quot;: 1.0}, {&quot;point&quot;: [172.1194763, -41.99822235, 2.652697299], &quot;size&quot;: 5.0, &quot;color&quot;: &quot;#6666ff&quot;, &quot;opacity&quot;: 1.0}, {&quot;point&quot;: [178.9440002, -37.1522789, 2.818801235], &quot;size&quot;: 5.0, &quot;color&quot;: &quot;#6666ff&quot;, &quot;opacity&quot;: 1.0}, {&quot;point&quot;: [175.6461639, -40.94324493, 1.927530328], &quot;size&quot;: 5.0, &quot;color&quot;: &quot;#6666ff&quot;, &quot;opacity&quot;: 1.0}, {&quot;point&quot;: [174.8108978, -41.02418137, 2.90249862], &quot;size&quot;: 5.0, &quot;color&quot;: &quot;#6666ff&quot;, &quot;opacity&quot;: 1.0}, {&quot;point&quot;: [173.7710468, -41.43285167, 1.610412956], &quot;size&quot;: 5.0, &quot;color&quot;: &quot;#6666ff&quot;, &quot;opacity&quot;: 1.0}, {&quot;point&quot;: [176.0037235, -40.47760539, 2.438300195], &quot;size&quot;: 5.0, &quot;color&quot;: &quot;#6666ff&quot;, &quot;opacity&quot;: 1.0}, {&quot;point&quot;: [175.6716264, -40.70859313, 2.019536173], &quot;size&quot;: 5.0, &quot;color&quot;: &quot;#6666ff&quot;, &quot;opacity&quot;: 1.0}, {&quot;point&quot;: [177.476562, -38.6257345, 2.197669096], &quot;size&quot;: 5.0, &quot;color&quot;: &quot;#6666ff&quot;, &quot;opacity&quot;: 1.0}, {&quot;point&quot;: [173.7799224, -40.97924477, 2.060332202], &quot;size&quot;: 5.0, &quot;color&quot;: &quot;#6666ff&quot;, &quot;opacity&quot;: 1.0}, {&quot;point&quot;: [175.300686, -39.3618503, 1.667100492], &quot;size&quot;: 5.0, &quot;color&quot;: &quot;#6666ff&quot;, &quot;opacity&quot;: 1.0}, {&quot;point&quot;: [176.4065989, -40.56131238, 1.908522156], &quot;size&quot;: 5.0, &quot;color&quot;: &quot;#6666ff&quot;, &quot;opacity&quot;: 1.0}, {&quot;point&quot;: [176.7622732, -37.56304212, 2.192023661], &quot;size&quot;: 5.0, &quot;color&quot;: &quot;#6666ff&quot;, &quot;opacity&quot;: 1.0}, {&quot;point&quot;: [176.2876659, -40.90695037, 1.852495644], &quot;size&quot;: 5.0, &quot;color&quot;: &quot;#6666ff&quot;, &quot;opacity&quot;: 1.0}, {&quot;point&quot;: [176.1171642, -39.11660591, 2.148310973], &quot;size&quot;: 5.0, &quot;color&quot;: &quot;#6666ff&quot;, &quot;opacity&quot;: 1.0}, {&quot;point&quot;: [177.3735657, -36.53502655, 3.2059885], &quot;size&quot;: 5.0, &quot;color&quot;: &quot;#6666ff&quot;, &quot;opacity&quot;: 1.0}, {&quot;point&quot;: [167.7959004, -45.04957403, 2.796012142], &quot;size&quot;: 5.0, &quot;color&quot;: &quot;#6666ff&quot;, &quot;opacity&quot;: 1.0}, {&quot;point&quot;: [174.048172, -38.85905457, 2.894070302], &quot;size&quot;: 5.0, &quot;color&quot;: &quot;#6666ff&quot;, &quot;opacity&quot;: 1.0}, {&quot;point&quot;: [175.6784119, -40.94637391, 2.025926405], &quot;size&quot;: 5.0, &quot;color&quot;: &quot;#6666ff&quot;, &quot;opacity&quot;: 1.0}, {&quot;point&quot;: [177.8277637, -38.43744663, 1.52910079], &quot;size&quot;: 5.0, &quot;color&quot;: &quot;#6666ff&quot;, &quot;opacity&quot;: 1.0}, {&quot;point&quot;: [174.8188411, -40.22951784, 2.161129176], &quot;size&quot;: 5.0, &quot;color&quot;: &quot;#6666ff&quot;, &quot;opacity&quot;: 1.0}, {&quot;point&quot;: [173.9752216, -39.24646283, 2.538856994], &quot;size&quot;: 5.0, &quot;color&quot;: &quot;#6666ff&quot;, &quot;opacity&quot;: 1.0}, {&quot;point&quot;: [175.3757242, -39.10233271, 1.547483691], &quot;size&quot;: 5.0, &quot;color&quot;: &quot;#6666ff&quot;, &quot;opacity&quot;: 1.0}, {&quot;point&quot;: [175.6063627, -40.81585537, 1.835272336], &quot;size&quot;: 5.0, &quot;color&quot;: &quot;#6666ff&quot;, &quot;opacity&quot;: 1.0}, {&quot;point&quot;: [176.0372811, -38.78743116, 2.103529946], &quot;size&quot;: 5.0, &quot;color&quot;: &quot;#6666ff&quot;, &quot;opacity&quot;: 1.0}];\n",
       "    for ( var i=0 ; i < points.length ; i++ ) addPoint( points[i] );\n",
       "\n",
       "    function addPoint( json ) {\n",
       "\n",
       "        var geometry = new THREE.Geometry();\n",
       "        var v = json.point;\n",
       "        geometry.vertices.push( new THREE.Vector3( a[0]*v[0], a[1]*v[1], a[2]*v[2] ) );\n",
       "\n",
       "        var canvas = document.createElement( 'canvas' );\n",
       "        canvas.width = 128;\n",
       "        canvas.height = 128;\n",
       "\n",
       "        var context = canvas.getContext( '2d' );\n",
       "        context.arc( 64, 64, 64, 0, 2 * Math.PI );\n",
       "        context.fillStyle = json.color;\n",
       "        context.fill();\n",
       "\n",
       "        var texture = new THREE.Texture( canvas );\n",
       "        texture.needsUpdate = true;\n",
       "\n",
       "        var transparent = json.opacity < 1 ? true : false;\n",
       "        var size = camera.isOrthographicCamera ? json.size : json.size/100;\n",
       "        var material = new THREE.PointsMaterial( { size: size, map: texture,\n",
       "                                                   transparent: transparent, opacity: json.opacity,\n",
       "                                                   alphaTest: .1 } );\n",
       "\n",
       "        var c = new THREE.Vector3();\n",
       "        geometry.computeBoundingBox();\n",
       "        geometry.boundingBox.getCenter( c );\n",
       "        geometry.translate( -c.x, -c.y, -c.z );\n",
       "\n",
       "        var mesh = new THREE.Points( geometry, material );\n",
       "        mesh.position.set( c.x, c.y, c.z );\n",
       "        scene.add( mesh );\n",
       "\n",
       "    }\n",
       "\n",
       "    var lines = [];\n",
       "    for ( var i=0 ; i < lines.length ; i++ ) addLine( lines[i] );\n",
       "\n",
       "    function addLine( json ) {\n",
       "\n",
       "        var geometry = new THREE.Geometry();\n",
       "        for ( var i=0 ; i < json.points.length ; i++ ) {\n",
       "            var v = json.points[i];\n",
       "            geometry.vertices.push( new THREE.Vector3( a[0]*v[0], a[1]*v[1], a[2]*v[2] ) );\n",
       "        }\n",
       "\n",
       "        var transparent = json.opacity < 1 ? true : false;\n",
       "        var material = new THREE.LineBasicMaterial( { color: json.color, linewidth: json.linewidth,\n",
       "                                                      transparent: transparent, opacity: json.opacity } );\n",
       "\n",
       "        var c = new THREE.Vector3();\n",
       "        geometry.computeBoundingBox();\n",
       "        geometry.boundingBox.getCenter( c );\n",
       "        geometry.translate( -c.x, -c.y, -c.z );\n",
       "\n",
       "        var mesh = new THREE.Line( geometry, material );\n",
       "        mesh.position.set( c.x, c.y, c.z );\n",
       "        scene.add( mesh );\n",
       "\n",
       "    }\n",
       "\n",
       "    var surfaces = [];\n",
       "    for ( var i=0 ; i < surfaces.length ; i++ ) addSurface( surfaces[i] );\n",
       "\n",
       "    function addSurface( json ) {\n",
       "\n",
       "        var useFaceColors = 'faceColors' in json ? true : false;\n",
       "\n",
       "        var geometry = new THREE.Geometry();\n",
       "        for ( var i=0 ; i < json.vertices.length ; i++ ) {\n",
       "            var v = json.vertices[i];\n",
       "            geometry.vertices.push( new THREE.Vector3( a[0]*v.x, a[1]*v.y, a[2]*v.z ) );\n",
       "        }\n",
       "        for ( var i=0 ; i < json.faces.length ; i++ ) {\n",
       "            var f = json.faces[i];\n",
       "            for ( var j=0 ; j < f.length - 2 ; j++ ) {\n",
       "                var face = new THREE.Face3( f[0], f[j+1], f[j+2] );\n",
       "                if ( useFaceColors ) face.color.set( json.faceColors[i] );\n",
       "                geometry.faces.push( face );\n",
       "            }\n",
       "        }\n",
       "        geometry.computeVertexNormals();\n",
       "\n",
       "        var side = json.singleSide ? THREE.FrontSide : THREE.DoubleSide;\n",
       "        var transparent = json.opacity < 1 ? true : false;\n",
       "\n",
       "        var material = new THREE.MeshPhongMaterial( { side: side,\n",
       "                                     color: useFaceColors ? 'white' : json.color,\n",
       "                                     vertexColors: useFaceColors ? THREE.FaceColors : THREE.NoColors,\n",
       "                                     transparent: transparent, opacity: json.opacity,\n",
       "                                     shininess: 20, flatShading: json.useFlatShading } );\n",
       "\n",
       "        var c = new THREE.Vector3();\n",
       "        geometry.computeBoundingBox();\n",
       "        geometry.boundingBox.getCenter( c );\n",
       "        geometry.translate( -c.x, -c.y, -c.z );\n",
       "\n",
       "        var mesh = new THREE.Mesh( geometry, material );\n",
       "        mesh.position.set( c.x, c.y, c.z );\n",
       "        if ( transparent && json.renderOrder ) mesh.renderOrder = json.renderOrder;\n",
       "        scene.add( mesh );\n",
       "\n",
       "        if ( json.showMeshGrid ) {\n",
       "\n",
       "            var geometry = new THREE.Geometry();\n",
       "\n",
       "            for ( var i=0 ; i < json.faces.length ; i++ ) {\n",
       "                var f = json.faces[i];\n",
       "                for ( var j=0 ; j < f.length ; j++ ) {\n",
       "                    var k = j === f.length-1 ? 0 : j+1;\n",
       "                    var v1 = json.vertices[f[j]];\n",
       "                    var v2 = json.vertices[f[k]];\n",
       "                    // vertices in opposite directions on neighboring faces\n",
       "                    var nudge = f[j] < f[k] ? .0005*zRange : -.0005*zRange;\n",
       "                    geometry.vertices.push( new THREE.Vector3( a[0]*v1.x, a[1]*v1.y, a[2]*(v1.z+nudge) ) );\n",
       "                    geometry.vertices.push( new THREE.Vector3( a[0]*v2.x, a[1]*v2.y, a[2]*(v2.z+nudge) ) );\n",
       "                }\n",
       "            }\n",
       "\n",
       "            var material = new THREE.LineBasicMaterial( { color: 'black', linewidth: 1 } );\n",
       "\n",
       "            var c = new THREE.Vector3();\n",
       "            geometry.computeBoundingBox();\n",
       "            geometry.boundingBox.getCenter( c );\n",
       "            geometry.translate( -c.x, -c.y, -c.z );\n",
       "\n",
       "            var mesh = new THREE.LineSegments( geometry, material );\n",
       "            mesh.position.set( c.x, c.y, c.z );\n",
       "            scene.add( mesh );\n",
       "\n",
       "        }\n",
       "\n",
       "    }\n",
       "\n",
       "    var scratch = new THREE.Vector3();\n",
       "\n",
       "    function render() {\n",
       "\n",
       "        if ( animate ) requestAnimationFrame( render );\n",
       "        renderer.render( scene, camera );\n",
       "\n",
       "        // Resize text based on distance from camera.\n",
       "        // Not neccessary for orthographic due to the nature of the projection (preserves sizes).\n",
       "        if ( !camera.isOrthographicCamera ) {\n",
       "            for ( var i=0 ; i < scene.children.length ; i++ ) {\n",
       "                if ( scene.children[i].type === 'Sprite' ) {\n",
       "                    var sprite = scene.children[i];\n",
       "                    var adjust = scratch.addVectors( sprite.position, scene.position )\n",
       "                                    .sub( camera.position ).length() / 5;\n",
       "                    sprite.scale.set( adjust, .25*adjust, 1 ); // ratio of canvas width to height\n",
       "                }\n",
       "            }\n",
       "        }\n",
       "    }\n",
       "    \n",
       "    render();\n",
       "    controls.update();\n",
       "    if ( !animate ) render();\n",
       "\n",
       "\n",
       "    // menu functions\n",
       "\n",
       "    function toggleMenu() {\n",
       "\n",
       "        var m = document.getElementById( 'menu-content' );\n",
       "        if ( m.style.display === 'block' ) m.style.display = 'none'\n",
       "        else m.style.display = 'block';\n",
       "\n",
       "    }\n",
       "\n",
       "\n",
       "    function saveAsPNG() {\n",
       "\n",
       "        var a = document.body.appendChild( document.createElement( 'a' ) );\n",
       "        a.href = renderer.domElement.toDataURL( 'image/png' );\n",
       "        a.download = 'screenshot';\n",
       "        a.click();\n",
       "\n",
       "    }\n",
       "\n",
       "    function saveAsHTML() {\n",
       "\n",
       "        toggleMenu(); // otherwise visible in output\n",
       "        event.stopPropagation();\n",
       "\n",
       "        var blob = new Blob( [ '<!DOCTYPE html>\\n' + document.documentElement.outerHTML ] );\n",
       "        var a = document.body.appendChild( document.createElement( 'a' ) );\n",
       "        a.href = window.URL.createObjectURL( blob );\n",
       "        a.download = 'graphic.html';\n",
       "        a.click();\n",
       "\n",
       "    }\n",
       "\n",
       "    function getViewpoint() {\n",
       "\n",
       "        function roundTo( x, n ) { return +x.toFixed(n); }\n",
       "\n",
       "        var v = camera.quaternion.inverse();\n",
       "        var r = Math.sqrt( v.x*v.x + v.y*v.y + v.z*v.z );\n",
       "        var axis = [ roundTo( v.x / r, 4 ), roundTo( v.y / r, 4 ), roundTo( v.z / r, 4 ) ];\n",
       "        var angle = roundTo( 2 * Math.atan2( r, v.w ) * 180 / Math.PI, 2 );\n",
       "\n",
       "        var textArea = document.createElement( 'textarea' );\n",
       "        textArea.textContent = JSON.stringify( axis ) + ',' + angle;\n",
       "        textArea.style.csstext = 'position: absolute; top: -100%';\n",
       "        document.body.append( textArea );\n",
       "        textArea.select();\n",
       "        document.execCommand( 'copy' );\n",
       "\n",
       "        var m = document.getElementById( 'menu-message' );\n",
       "        m.innerHTML = 'Viewpoint copied to clipboard';\n",
       "        m.style.display = 'block';\n",
       "        setTimeout( function() { m.style.display = 'none'; }, 2000 );\n",
       "\n",
       "    }\n",
       "\n",
       "</script>\n",
       "\n",
       "<div id=&quot;menu-container&quot; onclick=&quot;toggleMenu()&quot;>&#x24d8;\n",
       "<div id=&quot;menu-message&quot;></div>\n",
       "<div id=&quot;menu-content&quot;>\n",
       "<div onclick=&quot;saveAsPNG()&quot;>Save as PNG</div>\n",
       "<div onclick=&quot;saveAsHTML()&quot;>Save as HTML</div>\n",
       "<div onclick=&quot;getViewpoint()&quot;>Get Viewpoint</div>\n",
       "<div>Close Menu</div>\n",
       "</div></div>\n",
       "\n",
       "</body>\n",
       "</html>\n",
       "\"\n",
       "        width=\"100%\"\n",
       "        height=\"400\"\n",
       "        style=\"border: 0;\">\n",
       "</iframe>\n"
      ],
      "text/plain": [
       "Graphics3d Object"
      ]
     },
     "execution_count": 7,
     "metadata": {},
     "output_type": "execute_result"
    }
   ],
   "source": [
    "points(myDataAccumulatorList)"
   ]
  },
  {
   "cell_type": "markdown",
   "metadata": {},
   "source": [
    "# More on Statistics\n",
    "\n",
    "Recall that a statistic is any measureable function of the data: $T(x): \\mathbb{X} \\rightarrow \\mathbb{T}$.\n",
    "\n",
    "Thus, a statistic $T$ is also an RV that takes values in the space $\\mathbb{T}$.\n",
    "\n",
    "When $x \\in \\mathbb{X}$ is the observed data, $T(x)=t$ is the observed statistic of the observed data $x$.\n"
   ]
  },
  {
   "cell_type": "markdown",
   "metadata": {
    "collapsed": true
   },
   "source": [
    "# Let's Play Live with other datasets, shall we?"
   ]
  },
  {
   "cell_type": "markdown",
   "metadata": {},
   "source": [
    "# Swedish 2018 National Election Data\n",
    "\n"
   ]
  },
  {
   "cell_type": "markdown",
   "metadata": {},
   "source": [
    "## Swedish Election Outcomes 2018\n",
    "\n",
    "See: [http://www.lamastex.org/datasets/public/elections/2018/sv/README](http://www.lamastex.org/datasets/public/elections/2018/sv/README)!\n",
    "\n",
    "This was obtained by processing using the scripts at:\n",
    "\n",
    "- https://gitlab.com/tilo.wiklund/swedis-election-data-scraping\n",
    "\n",
    "You already have this dataset in your `/data` directory."
   ]
  },
  {
   "cell_type": "code",
   "execution_count": 33,
   "metadata": {},
   "outputs": [
    {
     "name": "stdout",
     "output_type": "stream",
     "text": [
      "total 13564\n",
      "drwxr-xr-x 13 sage sage     416 Jul 31 06:51 .\n",
      "drwxr-xr-x 22 sage sage     704 Jul 31 07:36 ..\n",
      "-rw-r--r--  1 sage sage   29002 Jul 31 06:51 NYPowerBall.csv\n",
      "-rw-r--r--  1 sage sage   50555 Jun 22 08:00 co2_mm_mlo.txt\n",
      "-rw-r--r--  1 sage sage 4085555 Jun 22 08:00 earthquakes.csv\n",
      "-rw-r--r--  1 sage sage 1344114 Jun 22 08:00 earthquakes.csv.zip\n",
      "-rw-r--r--  1 sage sage 1344959 Jun 22 08:00 earthquakes.tgz\n",
      "-rw-r--r--  1 sage sage   77786 Jun 22 08:00 earthquakes_small.csv\n",
      "-rw-r--r--  1 sage sage 4894689 Nov  9  2018 final.csv\n",
      "-rw-r--r--  1 sage sage  467572 Jun 22 08:00 final.csv.zip\n",
      "-rw-r--r--  1 sage sage  467611 Jun 22 08:00 final.tgz\n",
      "-rw-r--r--  1 sage sage  724725 Jun 22 08:00 pride_and_prejudice.txt\n",
      "-rw-r--r--  1 sage sage  376954 Jun 22 08:00 rainfallInChristchurch.csv\n"
     ]
    }
   ],
   "source": [
    "%%sh\n",
    "cd data\n",
    "# if you don't see final.csv in data/ below\n",
    "# then either uncomment and try the next line in linux/Mac OSX\n",
    "#tar -zxvf final.tgz\n",
    "# or try the next line after uncommenting it to extract final.csv\n",
    "# unzip final.csv.zip\n",
    "ls -al"
   ]
  },
  {
   "cell_type": "code",
   "execution_count": 34,
   "metadata": {},
   "outputs": [
    {
     "name": "stdout",
     "output_type": "stream",
     "text": [
      "  82226  461865 4894689 data/final.csv\n",
      "region,municipality,district,party,votes\r\n",
      "Blekinge län,Karlshamn,0 - Centrala Asarum,S,519\r\n",
      "Blekinge län,Karlshamn,0 - Centrala Asarum,SD,311\r\n",
      "Blekinge län,Karlshamn,0 - Centrala Asarum,M,162\r\n",
      "Blekinge län,Karlshamn,0 - Centrala Asarum,V,82\r\n",
      "Blekinge län,Karlshamn,0 - Centrala Asarum,KD,53\r\n",
      "Blekinge län,Karlshamn,0 - Centrala Asarum,C,37\r\n",
      "Blekinge län,Karlshamn,0 - Centrala Asarum,L,37\r\n",
      "Blekinge län,Karlshamn,0 - Centrala Asarum,MP,32\r\n",
      "Blekinge län,Karlshamn,0 - Centrala Asarum,BLANK,13\r\n"
     ]
    }
   ],
   "source": [
    "%%sh\n",
    "wc data/final.csv\n",
    "head data/final.csv"
   ]
  },
  {
   "cell_type": "markdown",
   "metadata": {},
   "source": [
    "## Counting total votes per party\n",
    "Let's quickly load the data using [`csv.reader`](https://docs.python.org/2/library/csv.html) and count the number of votes for each party over all of Sweden next."
   ]
  },
  {
   "cell_type": "code",
   "execution_count": 43,
   "metadata": {},
   "outputs": [
    {
     "name": "stdout",
     "output_type": "stream",
     "text": [
      "lines read =  82225\n"
     ]
    }
   ],
   "source": [
    "import csv, sys\n",
    "\n",
    "filename = 'data/final.csv'\n",
    "linesAlreadyRead=0\n",
    "partyVotesDict={}\n",
    "with open(filename, 'r') as f:\n",
    "    reader = csv.reader(f,delimiter=',',quotechar='\"',)\n",
    "    headers = next(reader) # skip first line of header\n",
    "    try:\n",
    "        for row in reader:\n",
    "            linesAlreadyRead+=1\n",
    "            party=row[3] # convert str to unicode\n",
    "            votes=int(row[4])\n",
    "            if party in partyVotesDict: # the data value already exists as a key\n",
    "                partyVotesDict[party] = partyVotesDict[party] + votes # add 1 to the count\n",
    "            else: # the data value does not exist as a key value\n",
    "                # add a new key-value pair for this new data value, frequency 1\n",
    "                partyVotesDict[party] = votes\n",
    "    except csv.Error as e:\n",
    "        sys.exit('file %s, line %d: %s' % (filename, reader.line_num, e))\n",
    "\n",
    "print(\"lines read = \", linesAlreadyRead)"
   ]
  },
  {
   "cell_type": "code",
   "execution_count": 44,
   "metadata": {},
   "outputs": [
    {
     "name": "stdout",
     "output_type": "stream",
     "text": [
      "party  S \thas a total of votes =\t 1830386\n",
      "party  SD \thas a total of votes =\t 1135627\n",
      "party  M \thas a total of votes =\t 1284698\n",
      "party  V \thas a total of votes =\t 518454\n",
      "party  KD \thas a total of votes =\t 409478\n",
      "party  C \thas a total of votes =\t 557500\n",
      "party  L \thas a total of votes =\t 355546\n",
      "party  MP \thas a total of votes =\t 285899\n",
      "party  BLANK \thas a total of votes =\t 53084\n",
      "party  ÖVR \thas a total of votes =\t 69472\n",
      "party  FI \thas a total of votes =\t 29665\n",
      "party  OGEJ \thas a total of votes =\t 2120\n",
      "party  OG \thas a total of votes =\t 3342\n"
     ]
    }
   ],
   "source": [
    "# fancy printing of non-ASCII string\n",
    "for kv in partyVotesDict.items():\n",
    "    print(\"party \",kv[0], \"\\thas a total of votes =\\t\", kv[1])"
   ]
  },
  {
   "cell_type": "code",
   "execution_count": 45,
   "metadata": {},
   "outputs": [
    {
     "name": "stdout",
     "output_type": "stream",
     "text": [
      "S \t 1830386\n",
      "M \t 1284698\n",
      "SD \t 1135627\n",
      "C \t 557500\n",
      "V \t 518454\n",
      "KD \t 409478\n",
      "L \t 355546\n",
      "MP \t 285899\n",
      "ÖVR \t 69472\n",
      "BLANK \t 53084\n",
      "FI \t 29665\n",
      "OG \t 3342\n",
      "OGEJ \t 2120\n"
     ]
    }
   ],
   "source": [
    "# let's sort by descending order of votes\n",
    "for party in sorted(partyVotesDict, key=partyVotesDict.get, reverse=True):\n",
    "  print(party, \"\\t\", partyVotesDict[party])"
   ]
  },
  {
   "cell_type": "code",
   "execution_count": 46,
   "metadata": {},
   "outputs": [
    {
     "data": {
      "text/plain": [
       "{'S': 1830386,\n",
       " 'M': 1284698,\n",
       " 'SD': 1135627,\n",
       " 'C': 557500,\n",
       " 'V': 518454,\n",
       " 'KD': 409478,\n",
       " 'L': 355546,\n",
       " 'MP': 285899,\n",
       " 'ÖVR': 69472,\n",
       " 'BLANK': 53084,\n",
       " 'FI': 29665,\n",
       " 'OG': 3342,\n",
       " 'OGEJ': 2120}"
      ]
     },
     "execution_count": 46,
     "metadata": {},
     "output_type": "execute_result"
    }
   ],
   "source": [
    "# To get a dictionary back with the top K=3 most popular parties\n",
    "top3PartiesDict={} # make an empty dict\n",
    "for party in sorted(partyVotesDict, key=partyVotesDict.get, reverse=True):\n",
    "    top3PartiesDict[party]=partyVotesDict[party]\n",
    "top3PartiesDict"
   ]
  },
  {
   "cell_type": "markdown",
   "metadata": {
    "lx_assignment_number": "2",
    "lx_problem_cell_type": "PROBLEM"
   },
   "source": [
    "---\n",
    "## Assignment 2, PROBLEM 1\n",
    "Maximum Points = 1"
   ]
  },
  {
   "cell_type": "markdown",
   "metadata": {
    "deletable": false,
    "lx_assignment_number": "2",
    "lx_assignment_type": "ASSIGNMENT",
    "lx_assignment_type2print": "Assignment",
    "lx_problem_cell_type": "PROBLEM",
    "lx_problem_number": "1",
    "lx_problem_points": "1"
   },
   "source": [
    "\n",
    "Recall how we downloaded *Pride and Prejudice* and processed it as a String and split it by `Chapter`s. These code snippets are at our disposal now - all we need to do is copy-paste the right set of cells from earlier into the cells below here to have the string from that Book for more refined processing.\n",
    "\n",
    "Think about what algorithmic constructs and methods one will need to `split` each sentence by the **English words** it contains and then count the number of each distinct word.\n",
    "\n",
    "Now that you have understood `for` loops, `list` comprehensions and anonymous `function`s, and can learn about the needed methods on strings for splitting (which you can search by adding a `.` after a `srt` and hitting the `Tab` button to look through existing methods and followed by `?` for their docstrings), the `dictionary` data structure, and already seen how to count the number of ball labels, you are ready for this problem stated below. If you attended the lab then you have an advantage if you tried to work on this with some help from your instructors.\n",
    "\n",
    "**Problem:** Process the English words in a text file, such as those in the book *Pride and Prejudice* by Jane Austin, and obtain the top `K` most frequent *words that are longer than* a given parameter `wordLongerThan` which can be any value in $\\mathbb{Z}_+ := \\{ 0, 1, 2, 3, 4, \\ldots \\}$, i.e., *words that are longer than* `wordLongerThan` many characters in length. \n",
    "\n",
    "Your function must be generic and named as follows including input parameter order and names: \n",
    "\n",
    "- `frequencyOftheKMostCommonWordsIn(thisTextFile, wordLongerThan, K)`\n",
    "\n",
    "This function must be capable of:\n",
    "- reading any available text file in the `data/` directory that can be passed as the parameter `thisTextFile` \n",
    "- and return a `dict` type whose:\n",
    "  - key is the word whose character length is longer than the parameter `wordlongerThan` and \n",
    "  - value is the frequency of this word in the text file. \n",
    "  - Yor returned `dict` should only contain the top `K` most frequent words longer than `wordLongerThan` and be already sorted in descending order of in frequency.\n",
    "\n",
    "Use the next cell to submit your answer and for rough-work use more cells as needed in order to copy-paste code snippets from earlier content to get this working. But please remove the cells for rough-work when done.\n",
    "\n",
    "*Note: that you may not import libraries that have not been introduced in the course so far.*"
   ]
  },
  {
   "cell_type": "code",
   "execution_count": 47,
   "metadata": {
    "deletable": false,
    "lx_assignment_number": "2",
    "lx_assignment_type": "ASSIGNMENT",
    "lx_assignment_type2print": "Assignment",
    "lx_problem_cell_type": "PROBLEM",
    "lx_problem_number": "1",
    "lx_problem_points": "1"
   },
   "outputs": [],
   "source": [
    "\n",
    "# Report these variables so the exam can be calibrated fairly - your report will be used to justify exam-difficulty\n",
    "timeToCompleteThisProblemInMinutes = 0 # replace 0 by a positive integer if it applies\n",
    "\n",
    "# Do NOT change the name of the function and names of paramaters !\n",
    "\n",
    "thisTextFile = 'data/someTextFilename' # try a text file in data/ directory\n",
    "wordLongerThan = 0 # this can be any larger integer also\n",
    "K = 20 # this can be any integer larger than 0 also\n",
    "\n",
    "def frequencyOftheKMostCommonWordsIn(thisTextFile, wordLongerThan, K):\n",
    "    '''explain what the function is supposed to do briefly'''\n",
    "    # write the body of the function and replace 'None' with the correct return value\n",
    "    # ...\n",
    "    # ...\n",
    "    return None"
   ]
  },
  {
   "cell_type": "markdown",
   "metadata": {},
   "source": [
    "# Geospatial adventures\n",
    "\n",
    "Say you want to visit some places of interest in Germany. This tutorial on [Open Street Map's Overpass API](https://janakiev.com/blog/openstreetmap-with-python-and-overpass-api/) shows you how to get the locations of `\"amenity\"=\"biergarten\"` in Germany.\n",
    "\n",
    "We may come back to [https://www.openstreetmap.org](https://www.openstreetmap.org) later. If we don't then you know where to go for openly available data for geospatial statistical analysis."
   ]
  },
  {
   "cell_type": "code",
   "execution_count": 57,
   "metadata": {},
   "outputs": [],
   "source": [
    "import requests\n",
    "import json\n",
    "\n",
    "overpass_url = \"http://overpass-api.de/api/interpreter\"\n",
    "overpass_query = \"\"\"\n",
    "[out:json];\n",
    "area[\"ISO3166-1\"=\"DE\"][admin_level=2];\n",
    "(node[\"amenity\"=\"biergarten\"](area);\n",
    " way[\"amenity\"=\"biergarten\"](area);\n",
    " rel[\"amenity\"=\"biergarten\"](area);\n",
    ");\n",
    "out center;\n",
    "\"\"\"\n",
    "response = requests.get(overpass_url, \n",
    "                        params={'data': overpass_query})\n",
    "data = response.json()"
   ]
  },
  {
   "cell_type": "code",
   "execution_count": 59,
   "metadata": {},
   "outputs": [
    {
     "data": {
      "image/png": "[encoded data removed]",
      "text/plain": [
       "Graphics object consisting of 2 graphics primitives"
      ]
     },
     "metadata": {},
     "output_type": "display_data"
    }
   ],
   "source": [
    "import numpy as np\n",
    "\n",
    "# Collect coords into list\n",
    "coords = []\n",
    "for element in data['elements']:\n",
    "  if element['type'] == 'node':\n",
    "    lon = element['lon']\n",
    "    lat = element['lat']\n",
    "    coords.append((lon, lat))\n",
    "  elif 'center' in element:\n",
    "    lon = element['center']['lon']\n",
    "    lat = element['center']['lat']\n",
    "    coords.append((lon, lat))\n",
    "\n",
    "# Convert coordinates into numpy array\n",
    "X = np.array(coords)\n",
    "\n",
    "p = points(zip(X[:, 0], X[:, 1]))\n",
    "p += text('Biergarten in Germany',(12,56))\n",
    "p.axes_labels(['Longitude','Latitude'])\n",
    "#plt.axis('equal')\n",
    "p.show()"
   ]
  },
  {
   "cell_type": "markdown",
   "metadata": {},
   "source": [
    "## Pubs in Sweden\n",
    "With a minor modification to the above code we can view `amenity=pub` in Sweden."
   ]
  },
  {
   "cell_type": "code",
   "execution_count": 63,
   "metadata": {},
   "outputs": [
    {
     "data": {
      "image/png": "[encoded data removed]",
      "text/plain": [
       "Graphics object consisting of 2 graphics primitives"
      ]
     },
     "metadata": {},
     "output_type": "display_data"
    }
   ],
   "source": [
    "import requests\n",
    "import json\n",
    "\n",
    "overpass_url = \"http://overpass-api.de/api/interpreter\"\n",
    "overpass_query = \"\"\"\n",
    "[out:json];\n",
    "area[\"ISO3166-1\"=\"SE\"][admin_level=2];\n",
    "(node[\"amenity\"=\"pub\"](area);\n",
    " way[\"amenity\"=\"pub\"](area);\n",
    " rel[\"amenity\"=\"pub\"](area);\n",
    ");\n",
    "out center;\n",
    "\"\"\"\n",
    "response = requests.get(overpass_url, \n",
    "                        params={'data': overpass_query})\n",
    "data = response.json()\n",
    "\n",
    "import numpy as np\n",
    "\n",
    "# Collect coords into list\n",
    "coords = []\n",
    "for element in data['elements']:\n",
    "  if element['type'] == 'node':\n",
    "    lon = element['lon']\n",
    "    lat = element['lat']\n",
    "    coords.append((lon, lat))\n",
    "  elif 'center' in element:\n",
    "    lon = element['center']['lon']\n",
    "    lat = element['center']['lat']\n",
    "    coords.append((lon, lat))\n",
    "\n",
    "# Convert coordinates into numpy array\n",
    "X = np.array(coords)\n",
    "\n",
    "p = points(zip(X[:, 0], X[:, 1]))\n",
    "p += text('Pubar i Sverige',(14,68))\n",
    "p.axes_labels(['Longitude','Latitude'])\n",
    "#plt.axis('equal')\n",
    "p.show()"
   ]
  },
  {
   "cell_type": "markdown",
   "metadata": {
    "lx_assignment_number": "2",
    "lx_problem_cell_type": "PROBLEM"
   },
   "source": [
    "---\n",
    "## Assignment 2, PROBLEM 2\n",
    "Maximum Points = 1"
   ]
  },
  {
   "cell_type": "markdown",
   "metadata": {
    "deletable": false,
    "lx_assignment_number": "2",
    "lx_assignment_type": "ASSIGNMENT",
    "lx_assignment_type2print": "Assignment",
    "lx_problem_cell_type": "PROBLEM",
    "lx_problem_number": "2",
    "lx_problem_points": "1"
   },
   "source": [
    "\n",
    "Recall the problem above on counting the number of votes by party across all of Sweden from the **Swedish 2018 National Election Data**.\n",
    "\n",
    "Your task is to adapt the code snippets there and others we have encountered thus far to count the total number of votes by each **district** and return a `list` of `Integers` giving the number of votes for the top `K` districts with the most votes. Your function `numberOfVotesInKMostVotedDistrictsInSE('data/final.csv', K)` should work for any valid integer `K`. \n",
    "\n",
    "*Note: that you may not import libraries that have not been introduced in the course so far.*\n",
    "\n",
    "---\n",
    "*unzip issues:* If you are unable to call `unzip final.csv.zip` on your windows laptop. You can either do it in the computer lab or do the following with internet access to download the large `final.csv` file from the internet:\n",
    "\n",
    "```\n",
    "%%sh\n",
    "cd data\n",
    " \n",
    "curl -O http://lamastex.org/datasets/public/elections/2018/sv/final.csv\n",
    "```\n",
    "\n",
    "Then you should have the needed `data/final.csv` file.\n",
    "\n",
    "---"
   ]
  },
  {
   "cell_type": "code",
   "execution_count": 64,
   "metadata": {
    "deletable": false,
    "lx_assignment_number": "2",
    "lx_assignment_type": "ASSIGNMENT",
    "lx_assignment_type2print": "Assignment",
    "lx_problem_cell_type": "PROBLEM",
    "lx_problem_number": "2",
    "lx_problem_points": "1"
   },
   "outputs": [],
   "source": [
    "\n",
    "# Report these variables so the exam can be calibrated fairly - your report will be used to justify exam-difficulty\n",
    "timeToCompleteThisProblemInMinutes = 0 # replace 0 by a positive integer if it applies\n",
    "\n",
    "# Do NOT change the name of the function and names of paramaters !\n",
    "\n",
    "K = 20 # this can be any integer larger than 0 also, change K and make sure your function works\n",
    "filename = 'data/final.csv' # this has to be a csv file with the same structure as out final.csv\n",
    "\n",
    "def numberOfVotesInKMostVotedDistrictsInSE(filename, K):\n",
    "    '''explain what the function is supposed to do briefly'''\n",
    "    # write the body of the function and replace 'None' with the correct return value\n",
    "    # ...\n",
    "    # ...\n",
    "    return None"
   ]
  },
  {
   "cell_type": "markdown",
   "metadata": {
    "lx_assignment_number": "2",
    "lx_problem_cell_type": "Test"
   },
   "source": [
    "---\n",
    "#### Local Test for Assignment 2, PROBLEM 2\n",
    "Evaluate cell below to make sure your answer is valid.                         You **should not** modify anything in the cell below when evaluating it to do a local test of                         your solution.\n",
    "You may need to include and evaluate code snippets from lecture notebooks in cells above to make the local test work correctly sometimes (see error messages for clues). This is meant to help you become efficient at recalling materials covered in lectures that relate to this problem. Such local tests will generally not be available in the exam."
   ]
  },
  {
   "cell_type": "code",
   "execution_count": 68,
   "metadata": {
    "deletable": false,
    "lx_assignment_number": "2",
    "lx_assignment_type": "ASSIGNMENT",
    "lx_assignment_type2print": "Assignment",
    "lx_problem_cell_type": "Test",
    "lx_problem_number": "2",
    "lx_problem_points": "1"
   },
   "outputs": [
    {
     "name": "stdout",
     "output_type": "stream",
     "text": [
      "Your answer is correct for two test cases with K=3 and K=1. Hopefully it works correctly for any K\n"
     ]
    }
   ],
   "source": [
    "# test that your answer is indeed a probability by evaluating this cell after you replaced XXX above and evaluated it.\n",
    "try:\n",
    "    assert(numberOfVotesInKMostVotedDistrictsInSE('data/final.csv', 3) == [13435, 10625, 7910])\n",
    "    assert(numberOfVotesInKMostVotedDistrictsInSE('data/final.csv', 1) == [13435])\n",
    "    print(\"Your answer is correct for two test cases with K=3 and K=1. Hopefully it works correctly for any K\")\n",
    "except AssertionError:\n",
    "    print(\"Try again! and make sure you are actually producing what is expected of you.\")"
   ]
  }
 ],
 "metadata": {
  "kernelspec": {
   "display_name": "SageMath 9.1",
   "language": "sage",
   "name": "sagemath"
  },
  "language_info": {
   "codemirror_mode": {
    "name": "ipython",
    "version": 3
   },
   "file_extension": ".py",
   "mimetype": "text/x-python",
   "name": "python",
   "nbconvert_exporter": "python",
   "pygments_lexer": "ipython3",
   "version": "3.7.8"
  },
  "lx_course_instance": "2020",
  "lx_course_name": "Introduction to Data Science: A Comp-Math-Stat Approach",
  "lx_course_number": "1MS041"
 },
 "nbformat": 4,
 "nbformat_minor": 2
}
