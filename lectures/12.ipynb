{
 "cells": [
  {
   "cell_type": "markdown",
   "metadata": {
    "deletable": false
   },
   "source": [
    "# [Introduction to Data Science: A Comp-Math-Stat Approach](https://lamastex.github.io/scalable-data-science/as/2019/)\n",
    "## 1MS041, 2020 \n",
    "&copy;2020 Raazesh Sainudiin, Benny Avelin. [Attribution 4.0 International (CC BY 4.0)](https://creativecommons.org/licenses/by/4.0/)"
   ]
  },
  {
   "cell_type": "markdown",
   "metadata": {},
   "source": [
    "# 12. Linear Regression\n",
    "\n",
    "- Regression \n",
    "  - linear models and their least-squares estimators\n",
    "  - assessing fit using diagnostic plots (residual analysis)\n",
    "  - multiple linear regression - not covered in detail and won't be on exam\n",
    "  - prediction; not covered - not covered and won't be on exam\n",
    "  - prelude to statistical ML - not covered and won't be on exam\n",
    "- Introduction to R in SageMath Jupyter IPython Notebook - SageMath/R\n"
   ]
  },
  {
   "cell_type": "markdown",
   "metadata": {},
   "source": [
    "# Introduction\n",
    "**Regression** is a method for studying the relationship between a **response variable** $Y$ and a **covariate** $X$. \n",
    "The covariate is also called a **feature** or a **predictor** variable.\n",
    "\n",
    "A simple way to summarise the relationship between $X$ and $Y$ is through the regression function $r(x)$:\n",
    "\n",
    "$$\n",
    "r(x) = E(Y | X=x) = \\int y \\, f(y|x) dy\n",
    "$$\n",
    "\n",
    "Our objective is to estimate the regression function $r(x)$ from data of the form:\n",
    "\n",
    "$$\n",
    "(Y_1,X_1),(Y_2,X_2),\\ldots,(Y_n,X_n) \\overset{IID}{\\sim} F_{X,Y}\n",
    "$$\n",
    "\n",
    "We assume that $F_{X,Y}$, the joint distribution of $X$ and $Y$, is parametric and $r$ is linear."
   ]
  },
  {
   "cell_type": "markdown",
   "metadata": {},
   "source": [
    "# Simple Linear Regression\n",
    "\n",
    "The **simple linear regression model** is when $X_i$ is real-valued (one-dimensional) and $r(x)$ is assumed to be linear:\n",
    "\n",
    "$$\n",
    "r(x) = \\beta_0 + \\beta_1 x, \\qquad \\text{and } \\quad V(Y | X=x)=\\sigma^2 \\, \\text{ is independent of } x\n",
    "$$\n",
    "\n",
    "Thus simple linear regression model is the following:\n",
    "\n",
    "$$\n",
    "\\boxed{\n",
    "Y_i = \\beta_0 + \\beta_1 X_i + \\epsilon_i, \\qquad \\text{ where, } \\quad E(\\epsilon_i | X_i)=0 \\text{ and } V(\\epsilon_i | X_i)=\\sigma^2\n",
    "}\n",
    "$$\n",
    "\n",
    "The unknown parameters and their estimates in the model are:\n",
    "\n",
    "- the intercept $\\beta_0$ and its estimate $\\widehat{\\beta}_0$,\n",
    "- the slope $\\beta_1$ and its estimate $\\widehat{\\beta}_1$ and\n",
    "- the variance $\\sigma^2$ and its estimate $\\widehat{\\sigma}^2$\n",
    "\n",
    "The **fitted line** is:\n",
    "$$\n",
    "\\widehat{r}(x) = \\widehat{\\beta}_0 + \\widehat{\\beta}_1 x\n",
    "$$\n",
    "\n",
    "The **fitted or predicted values** are:\n",
    "$$\n",
    "\\widehat{Y}_i = \\widehat{r}(X_i) \n",
    "$$\n",
    "\n",
    "The **residuals** are:\n",
    "$$\n",
    "\\widehat{\\epsilon}_i = Y_i-\\widehat{Y}_i=Y_i-\\left(\\widehat{\\beta}_0 + \\widehat{\\beta}_1 X_i\\right)\n",
    "$$\n",
    "\n",
    "The **residual sum of squares** or **RSS**, that measures how well the line fits the data, is defined by\n",
    "$$\n",
    "RSS = \\sum_{i=1}^n \\widehat{\\epsilon}_i^2\n",
    "$$\n",
    "\n",
    "The **least squares estimates** are the values $\\widehat{\\beta}_0$ and $\\widehat{\\beta}_1$ that minimise $RSS$ and they are given by:\n",
    "\n",
    "$$\n",
    "\\boxed{\n",
    "\\widehat{\\beta}_1 = \\displaystyle{\\frac{\\sum_{i=1}^n(X_i-\\overline{X}_n)(Y_i-\\overline{Y}_n)}{\\sum_{i=1}^n(X_i-\\overline{X}_n)^2}}\n",
    "\\, , \\qquad\n",
    "\\widehat{\\beta}_0 = \\displaystyle{\\overline{Y}_n - \\widehat{\\beta}_1 \\overline{X}_n}\n",
    "\\, , \\qquad \n",
    "\\widehat{\\sigma}^2 = \\displaystyle{\\left(\\frac{1}{n-2}\\right) \\sum_{i=1}^n \\widehat{\\epsilon}_i^2}\n",
    "}\n",
    "$$"
   ]
  },
  {
   "cell_type": "markdown",
   "metadata": {},
   "source": [
    "## Interactive Animations for Regression\n",
    "\n",
    "Check out:\n",
    "- [http://setosa.io/ev/ordinary-least-squares-regression/](http://setosa.io/ev/ordinary-least-squares-regression/)"
   ]
  },
  {
   "cell_type": "markdown",
   "metadata": {},
   "source": [
    "# Least Squares and Maximum Likelihood\n",
    "\n",
    "Suppose we add the assumption about the model's noise that \n",
    "\n",
    "$$\\boxed{\\displaystyle{\\epsilon_i | X_i \\sim Normal(0,\\sigma^2) \\quad \\text{ i.e., }\\quad Y_i|X_i \\sim Normal(\\mu_i,\\sigma^2), \\quad \\text{ where } \\quad \\mu_i = \\beta_0+\\beta_1 X_i }}$$\n",
    "\n",
    "Then, the likelihood function is:\n",
    "\n",
    "$$\n",
    "\\begin{align}\n",
    "\\displaystyle{\\prod_{i=1}^n f(X_i,Y_i)} \\,\n",
    "&= \\displaystyle{\\prod_{i=1}^n f_X(X_i) \\, f_{Y|X}(Y_i|X_i)}\\\\ \n",
    "&= \\displaystyle{\\prod_{i=1}^n f_X(X_i) \\, \\prod_{i=1}^n f_{Y|X}(Y_i|X_i)}\\\\\n",
    "&=: L_{n,X} \\, L_{n,Y|X}\n",
    "\\end{align}\n",
    "$$\n",
    "\n",
    "where, $L_{n,X}:=\\prod_{i=1}^n f_X(X_i)$ is the marginal likelihood of $X_1,\\ldots,X_n$ that does not depend on the parameters $(\\beta_0,\\beta_1,\\sigma)$, and $L_{n,Y|X}:=\\prod_{i=1}^n f_{Y|X}(Y_i|X_i)$ is the *conditional likelihood* that does depend on the parameters. Therefore the likelihood function is given by the conditional likelihood:\n",
    "\n",
    "$$\n",
    "\\begin{align}\n",
    "L(\\beta_0,\\beta_1,\\sigma) \\quad\n",
    "&\\propto \\quad \\displaystyle{\\prod_{i=1}^n f(X_i,Y_i)}  \\\\\n",
    "&\\propto \\quad L_{n,Y|X}  = \\displaystyle{\\prod_{i=1}^n f_{Y|X}(Y_i|X_i)}\\\\\n",
    "&\\propto \\quad \\displaystyle{\\sigma^{-n} \\exp\\left(-\\frac{1}{2 \\sigma^2}\\sum_{i=1}^n\\left(Y_i-\\mu_i\\right)^2 \\right)}\\\\\n",
    "\\end{align}\n",
    "$$\n",
    "\n",
    "and the conditional log-likelihood is:\n",
    "\n",
    "$$\n",
    "\\boxed{\n",
    "l(\\beta_0,\\beta_1,\\sigma) \\quad =\\quad \\displaystyle{-n \\log(\\sigma) -\\frac{1}{2 \\sigma^2} \\sum_{i=1}^n\\left(Y_i-\\mu_i\\right)^2 }\n",
    "}\n",
    "$$\n",
    "\n",
    "To find the MLE of $(\\beta_0,\\beta_1)$ we need to maximise $\\ell(\\beta_0,\\beta_1,\\sigma)$ for a given $\\sigma$. From the above expresion it is clear that maximising the log-likelihood is equivalent to minimising the *residual sum of squares* or *RSS* given by\n",
    "\n",
    "$$\n",
    "\\boxed{\n",
    "\\sum_{i=1}^n\\left(Y_i-\\mu_i\\right)^2\n",
    "}\n",
    "$$\n",
    "\n",
    "Therefore, we have shown the following Theorem.\n",
    "\n",
    "### Theorem [MLE is LSE] \n",
    "\n",
    "> Under the assumption of normally distributed noise, the maximum likelihood estimator (MLE) is the least squares estimator (LSE).\n",
    "\n",
    "We can maximise $l(\\beta_0,\\beta_1,\\sigma)$ over $\\sigma$ and obtain the MLE for $\\sigma$ as follows:\n",
    "\n",
    "$$\n",
    "\\widehat{\\sigma}^2  =  \\frac{1}{n} \\sum_{i=1}^n \\ \\widehat{\\epsilon}^2 \\, .\n",
    "$$\n",
    "\n",
    "But it is more common in practise to use the unbiased estimator, with $E(\\widehat{\\sigma}^2)=\\sigma^2$, that we saw earlier for sample size $n>2$:\n",
    "\n",
    "$$\n",
    "\\widehat{\\sigma}^2 = \\displaystyle{\\left(\\frac{1}{n-2}\\right) \\sum_{i=1}^n \\widehat{\\epsilon}_i^2} \\, .\n",
    "$$\n",
    "\n",
    "## Properties of the Least Squares Estimator (LSE)\n",
    "\n",
    "It's finally time to obtain the standard errors and limititng distribution of the least quares estimator (also the MLE).\n",
    "\n",
    "In regression we are interested in the properties of the estimators conditional on the covariates \n",
    "\n",
    "$$X_{1:n}:= (X_1,X_2,\\ldots,X_n)$$\n",
    "\n",
    "### Conditional Mean and Variance of LSE\n",
    "\n",
    "Let $\\widehat{\\beta}^T=(\\widehat{\\beta}_0,\\widehat{\\beta}_1)^T$ denote the least squares estimators (which is also the MLE). Then\n",
    "\n",
    "$$\n",
    "\\begin{align}\n",
    "E \\left(\\widehat{\\beta} \\, | \\, X_{1:n} \\right) \n",
    "&=  \\displaystyle{\\left( {\\begin{array}{c}\n",
    "   \\beta_0 \\\\\n",
    "   \\beta_1 \\\\\n",
    "  \\end{array} } \\right)}\\\\\n",
    "V \\left(\\widehat{\\beta} \\, | \\, X_{1:n} \\right) \n",
    "&= \\displaystyle{\\frac{\\sigma^2}{n s_X^2} \n",
    "\\left( {\\begin{array}{cc}\n",
    "   \\frac{1}{n}\\sum_{i=1}^n X_i^2 & -\\overline{X}_n \\\\\n",
    "   -\\overline{X}_n & 1\\\\\n",
    "  \\end{array} } \\right)}\n",
    "\\end{align}\n",
    "$$\n",
    "\n",
    "where, \n",
    "\n",
    "$$\n",
    "s_X^2 = \\frac{1}{n} \\sum_{i=1}^n \\left(X_i -\\overline{X}_n\\right)^2\n",
    "$$\n",
    "\n",
    "### Estimated Standard Errors\n",
    "\n",
    "The estimated standard errors for $\\widehat{\\beta}_0$ and $\\widehat{\\beta}_1$, or more precisely, the estimated standard errors conditional on the covariates, are given by the square-root of the diagonal terms of the variance-covariance matrix $V \\left(\\widehat{\\beta} \\, | \\, X_{1:n} \\right) $ and substituting the estimate $\\widehat{\\sigma}$ for $\\sigma$, as follows:\n",
    "\n",
    "$$\n",
    "\\begin{align}\n",
    "\\widehat{se}\\left(\\widehat{\\beta}_0\\right) := \\widehat{se}\\left(\\widehat{\\beta}_0 \\, | \\, X_{1:n} \\right) \\, \n",
    "&= \\, \\frac{\\widehat{\\sigma}}{s_X \\sqrt{n}} \\sqrt{\\frac{\\sum_{i=1}^nX_i^2}{n}}\\\\\n",
    "\\widehat{se}\\left(\\widehat{\\beta}_1\\right) := \\widehat{se}\\left(\\widehat{\\beta}_0 \\, | \\, X_{1:n}\\right) \\, \n",
    "&= \\, \\frac{\\widehat{\\sigma}}{s_X \\sqrt{n}}\n",
    "\\end{align}\n",
    "$$\n",
    "\n",
    "Thus under appropriate modeling assumptions in simple leinear regression we have the following four properties.\n",
    "\n",
    "### Four Asymptotic Properties of the LSE\n",
    "\n",
    "#### 1. Asymptotic Consistency\n",
    "\n",
    "As $n \\to \\infty$, the LSE, i.e. $\\widehat{\\beta}_0$ and $\\widehat{\\beta}_1$, converges in probability to the parameters, i.e., $\\beta_0,\\beta_1$, generating the data $(Y_1,X_1),(Y_2,X_2),\\ldots,(Y_n,X_n)$ as summarised below.\n",
    "\n",
    "$$\n",
    "\\boxed{\n",
    "\\widehat{\\beta}_0 \\overset{P}{\\to} \\beta_0 \\quad \\text{ and } \\quad \\widehat{\\beta}_1 \\overset{P}{\\to} \\beta_1\n",
    "}\n",
    "$$\n",
    "\n",
    "#### 2. Asymptotic Normality\n",
    "\n",
    "As $n \\to \\infty$, the LSE, i.e. $\\widehat{\\beta}_0$ and $\\widehat{\\beta}_1$, converges in distribution to the parameters, i.e., $\\beta_0,\\beta_1$, generating the data $(Y_1,X_1),(Y_2,X_2),\\ldots,(Y_n,X_n)$ as summarised below.\n",
    "\n",
    "$$\n",
    "\\boxed{\n",
    "\\frac{\\widehat{\\beta}_0 - \\beta_0}{\\widehat{se}\\left(\\widehat{\\beta}_0\\right)} \\overset{d}{\\to} Normal(0,1) \\quad \\text{ and } \\quad \\frac{\\widehat{\\beta}_1 - \\beta_1}{\\widehat{se}\\left(\\widehat{\\beta}_1\\right)} \\overset{d}{\\to} Normal(0,1) \n",
    "}\n",
    "$$\n",
    "\n",
    "#### 3. Approximate $1-\\alpha$ Confidence Interval\n",
    "\n",
    "The $1-\\alpha$ confidence interval for $\\beta_0$ and $\\beta_1$ that is obtained from the approximately normal distribution as $n$ gets large is:\n",
    "\n",
    "$$\n",
    "\\boxed{\n",
    "\\widehat{\\beta}_0 \\, \\pm \\, z_{\\alpha/2} \\, \\widehat{se}\\left(\\widehat{\\beta}_0\\right) \\quad \\text{ and } \\quad\n",
    "\\widehat{\\beta}_1 \\, \\pm \\, z_{\\alpha/2} \\, \\widehat{se}\\left(\\widehat{\\beta}_1\\right) \n",
    "}\n",
    "$$\n",
    "\n",
    "#### 4. The Wald Test\n",
    "\n",
    "Recall Wald test statistic for testing the null hypothesis with the null value $\\beta^{(0)}$:\n",
    "\n",
    "$$\n",
    "H_0: \\beta = \\beta^{(0)} \\quad \\text{ versus } \\quad H_1: \\beta \\neq \\beta^{(0)} \\quad { is } \\quad W = \\frac{\\left(\\widehat{\\beta}-\\beta^{(0)}\\right)}{\\widehat{se}\\left(\\widehat{\\beta}\\right)}\n",
    "$$\n",
    "\n",
    "Thus the Wald test for testing $H_0: \\beta_1=0$ versus $H_1: \\beta_1 \\neq 0$ is to \n",
    "reject $H_0$ if $|W| > z_{\\alpha/2}$ where $W=\\frac{\\widehat{\\beta}_1}{\\widehat{se}\\left(\\widehat{\\beta}_1\\right)}$."
   ]
  },
  {
   "cell_type": "markdown",
   "metadata": {},
   "source": [
    "# Implementing Simple Linear Regression from Scratch\n",
    "\n",
    "Using the above formulas we can implement Python functions to calculate the **least squares estimates**,\n",
    "$\\widehat{\\beta}_0$ and $\\widehat{\\beta}_1$, that minimise $RSS$."
   ]
  },
  {
   "cell_type": "code",
   "execution_count": 1,
   "metadata": {},
   "outputs": [],
   "source": [
    "import numpy as np \n",
    "import matplotlib.pyplot as plt\n",
    "\n",
    "def estimate_coefficients(x, y): \n",
    "    # size of the dataset  \n",
    "    n = np.size(x) \n",
    "    # mean of x and y\n",
    "    mean_x, mean_y = np.mean(x), np.mean(y) \n",
    "    # xy cross-deviation and xx deviation\n",
    "    SS_xy = np.sum(y*x - n*mean_y*mean_x) \n",
    "    SS_xx = np.sum(x*x - n*mean_x*mean_x)  \n",
    "    # calculating LSE of regression coefficients \n",
    "    b1_hat = SS_xy / SS_xx \n",
    "    b0_hat = mean_y - b1_hat*mean_x \n",
    "    sigma_hat2 = np.mean((y - (b0_hat + b1_hat * x))^2)\n",
    "    if n>2:\n",
    "        sigma_hat2 = sigma_hat2*n/(n-2)\n",
    "    sigma_hat=np.sqrt(sigma_hat2)\n",
    "    return(b0_hat, b1_hat, sigma_hat)\n",
    "\n",
    "def standard_errors(x,y):\n",
    "    n = np.size(x) \n",
    "    b0_hat,b1_hat,s_hat = estimate_coefficients(x,y)\n",
    "    mean_x = np.mean(x)\n",
    "    s2X = np.mean( (x-mean_x)^2 )\n",
    "    se_b1 = s_hat/np.sqrt(s2X*n)\n",
    "    se_b0 = se_b1*np.sqrt(np.mean(x^2))\n",
    "    return (se_b0, se_b1)\n",
    "\n",
    "def plot_regression_line(x, y, b): \n",
    "    # plotting the data points on a graph\n",
    "    plt.scatter(x, y, color = \"m\",marker = \"o\", s = 10) \n",
    "    # predicted response vector \n",
    "    y_pred = b[0] + b[1]*x \n",
    "    # plotting the fitted regression line\n",
    "    plt.plot(x, y_pred, color = \"b\")\n",
    "    # putting generic labels for x and y axis\n",
    "    plt.xlabel('x') \n",
    "    plt.ylabel('y') \n",
    "    # function to show plotted graph\n",
    "    plt.show()\n",
    "\n",
    "def SimpleLinearRegression(x,y): \n",
    "    # estimating coefficients \n",
    "    b = estimate_coefficients(x, y) \n",
    "    print(\"Estimated coefficients:\\nb0_hat = {} \\nb1_hat = {}\\nsigma_hat = {}\".format(b[0], b[1],b[2])) \n",
    "    # plotting fitted regression line  with data\n",
    "    plot_regression_line(x, y, b)"
   ]
  },
  {
   "cell_type": "code",
   "execution_count": 2,
   "metadata": {},
   "outputs": [
    {
     "name": "stdout",
     "output_type": "stream",
     "text": [
      "Estimated coefficients:\n",
      "b0_hat = -0.0001939322150610323 \n",
      "b1_hat = 0.005266871277568405\n",
      "sigma_hat = 0.2873360875562685\n"
     ]
    },
    {
     "data": {
      "image/png": "[encoded data removed]",
      "text/plain": [
       "<Figure size 432x288 with 1 Axes>"
      ]
     },
     "metadata": {},
     "output_type": "display_data"
    }
   ],
   "source": [
    "# Datasets for x and y \n",
    "LSAT=np.array([576, 635, 558, 578, 666, 580, 555, 661, 651, 605, 653, 575, 545, 572, 594]) # LSAT data\n",
    "GPA=np.array([3.39, 3.30, 2.81, 3.03, 3.44, 3.07, 3.00, 3.43, 3.36, 3.13, 3.12, 2.74, 2.76, 2.88, 3.96]) # GPA data\n",
    "\n",
    "SimpleLinearRegression(LSAT,GPA)\n"
   ]
  },
  {
   "cell_type": "markdown",
   "metadata": {},
   "source": [
    "We can look at the residuals of the fitted line as follows."
   ]
  },
  {
   "cell_type": "code",
   "execution_count": 3,
   "metadata": {},
   "outputs": [
    {
     "name": "stderr",
     "output_type": "stream",
     "text": [
      "<input>:6: DeprecationWarning: invalid escape sequence \\e\n",
      "<input>:6: DeprecationWarning: invalid escape sequence \\e\n",
      "<input>:6: DeprecationWarning: invalid escape sequence \\e\n",
      "<input>:6: DeprecationWarning: invalid escape sequence \\e\n",
      "<ipython-input-3-8a46c565a343>:6: DeprecationWarning: invalid escape sequence \\e\n",
      "  plt.ylabel('$\\epsilon_i$')\n"
     ]
    },
    {
     "data": {
      "image/png": "[encoded data removed]",
      "text/plain": [
       "<Figure size 432x288 with 1 Axes>"
      ]
     },
     "metadata": {},
     "output_type": "display_data"
    }
   ],
   "source": [
    "predictedGPA = -0.000193932215061 + 0.00526687127757*LSAT\n",
    "residuals = GPA - predictedGPA\n",
    "plt.scatter(LSAT, residuals, color = \"k\",marker = \"o\", s = 10) \n",
    "plt.axhline()\n",
    "# putting generic labels for x and y axis\n",
    "plt.ylabel('$\\epsilon_i$') \n",
    "plt.xlabel('LSAT') # draw a y=0 line\n",
    "plt.show()\n",
    "# in general we want residuals to be Normally distributes about 0 with the same variance"
   ]
  },
  {
   "cell_type": "markdown",
   "metadata": {},
   "source": [
    "### Residual Analysis\n",
    "\n",
    "Looking at the residuals $\\epsilon_i$'s in the above plot we can notice how just $4$ of the $15$ datapoints are abov $0$. If $\\epsilon_i$ were truly IID $Normal(0,\\sigma^2)$, we would expect roughly the same number of points to be spread above and below zero, i.e., the $x$-axis, in an equally likely manner. Also, we would expect more points to be closer to zero and fewer points to be further away.\n",
    "\n",
    "In conclusion, the residuals of the linear regression of LSAT and GPA do not look like they are normall distributed.\n",
    "\n",
    "We could try different approaches to improve the model. For example, we could try to increase the sample size or standardise the scales by subtracting the sample mean and dividing by the the sample standard deviation for the $x$ and $y$ values separately and doing regression with the standardised data, etc.\n",
    "\n",
    "The [real wiki](http://reliawiki.org/index.php/Simple_Linear_Regression_Analysis) page has some simple examples of residual plots and they are useful for insights:\n",
    "\n",
    "> Examples of residual plots are shown in the following figure. (a) is a satisfactory plot with the residuals falling in a horizontal band with no systematic pattern. Such a plot indicates an appropriate regression model. (b) shows residuals falling in a funnel shape. Such a plot indicates increase in variance of residuals and the assumption of constant variance is violated here. Transformation on  may be helpful in this case (see Transformations). If the residuals follow the pattern of (c) or (d), then this is an indication that the linear regression model is not adequate. Addition of higher order terms to the regression model or transformation on  or  may be required in such cases. A plot of residuals may also show a pattern as seen in (e), indicating that the residuals increase (or decrease) as the run order sequence or time progresses. This may be due to factors such as operator-learning or instrument-creep and should be investigated further.)\n",
    "\n",
    "<img src=\"http://reliawiki.org/images/e/ee/Doe4.13.png\">"
   ]
  },
  {
   "cell_type": "markdown",
   "metadata": {},
   "source": [
    "We can finally obtain 95% confidence intervals for the fitted parameters in the simple linear regression model and do a Wald test as follows."
   ]
  },
  {
   "cell_type": "code",
   "execution_count": 6,
   "metadata": {},
   "outputs": [
    {
     "name": "stdout",
     "output_type": "stream",
     "text": [
      "Estimated standard errors for beta_0_hat and beta_1_hat are:\n",
      "1.1054305503607234 0.0018374136245919459\n",
      "and the approximate 95% confidence intervals for beta_0_hat is:\n",
      "          [  -2.2110550329365077  ,  2.2106671685063857  ]\n",
      "and the approximate 95% confidence intervals for beta_1_hat is:\n",
      "          [  0.0015920440283845134  ,  0.008941698526752296  ]\n",
      "The Wald test for the null hypothesis H0 that beta_1 = 0 is:\n",
      "Reject H0 that beta_1=0 at alpha=0.05, since W =  2.8664592485200906\n"
     ]
    }
   ],
   "source": [
    "b0_hat, b1_hat, s_hat = estimate_coefficients(LSAT,GPA)\n",
    "se_b0,se_b1 = standard_errors(LSAT,GPA)\n",
    "print (\"Estimated standard errors for beta_0_hat and beta_1_hat are:\")\n",
    "print (se_b0,se_b1 )\n",
    "print (\"and the approximate 95% confidence intervals for beta_0_hat is:\")\n",
    "print (\"          [ \", b0_hat-2*se_b0,\" , \", b0_hat+2*se_b0, \" ]\")\n",
    "print (\"and the approximate 95% confidence intervals for beta_1_hat is:\")\n",
    "print (\"          [ \", b1_hat-2*se_b1,\" , \", b1_hat+2*se_b1, \" ]\")\n",
    "print (\"The Wald test for the null hypothesis H0 that beta_1 = 0 is:\")\n",
    "W = (b1_hat-0)/se_b1\n",
    "if abs(W > 2):\n",
    "    print (\"Reject H0 that beta_1=0 at alpha=0.05, since W = \",W)\n",
    "else:\n",
    "    print (\"fail to reject H0 that beta_1=0 at alpha=0.05, since W = \",W)"
   ]
  },
  {
   "cell_type": "markdown",
   "metadata": {},
   "source": [
    "# Multiple Regression\n",
    "### This is just as simple, except we have more than one covariate\n",
    "\n",
    "Now, let's suppose that the covariate, feature, predictor or dependent variable is a vector of length $k$. So our data for regression is of the following form:\n",
    "\n",
    "$$\n",
    "(Y_1,X_1), (Y_2,X_2), \\ldots, (Y_i,X_i), \\ldots, (Y_n,X_n)\n",
    "$$\n",
    "\n",
    "where, $X_i$ is a vector of length $k$ for the $i$-th observation or datapoint $(Y_i,X_i)$. \n",
    "\n",
    "$$\n",
    "X_i = (X_{i,1},X_{i,2},\\ldots,X_{i,k}) \\, .\n",
    "$$\n",
    "\n",
    "Then the linear regression model is:\n",
    "\n",
    "$$\n",
    "Y_i = \\displaystyle{\\sum_{j=0}^k \\beta_j X_{i,j} + \\epsilon_i, \\quad \\text{ for } i \\in \\{1,2,\\ldots,n\\} }\n",
    "$$\n",
    "\n",
    "where $\\beta_0$ is the intercept term with $X_{i,0}=1$ for each $i \\in \\{1,2,\\ldots,n\\}$ and\n",
    "\n",
    "$$\n",
    "E \\left( \\epsilon_i | X_{1,i}, X_{2,i}, \\ldots, X_{k,i} \\right) = 0.\n",
    "$$\n",
    "\n",
    "We can denote the model using matrices and vectors more conveniently as follows:\n",
    "\n",
    "$$\n",
    "Y \n",
    "= \\displaystyle{\\left( {\\begin{array}{c}\n",
    "   Y_1 \\\\\n",
    "   Y_2 \\\\\n",
    "   \\vdots \\\\\n",
    "   Y_n\n",
    "  \\end{array} } \\right)} \\, ,\n",
    "\\qquad \n",
    "X \n",
    "=  \\displaystyle{\\left( {\\begin{array}{cccc}\n",
    "   1& X_{1,1}& \\ldots& X_{1,k} \\\\\n",
    "   1& X_{2,1}& \\ldots& X_{2,k} \\\\\n",
    "   \\vdots & \\vdots & \\vdots & \\vdots\\\\\n",
    "   1& X_{n,1}& \\ldots& X_{n,k} \n",
    "  \\end{array} } \\right)} \\, ,\n",
    "\\qquad\n",
    "\\beta \n",
    "= \\displaystyle{\\left( {\\begin{array}{c}\n",
    "   \\beta_0 \\\\\n",
    "   \\beta_1 \\\\\n",
    "   \\vdots \\\\\n",
    "   \\beta_k\n",
    "  \\end{array} } \\right)} \\, ,\n",
    "\\qquad \n",
    "\\epsilon \n",
    "= \\displaystyle{\\left( {\\begin{array}{c}\n",
    "   \\epsilon_1 \\\\\n",
    "   \\epsilon_2 \\\\\n",
    "   \\vdots \\\\\n",
    "   \\epsilon_n\n",
    "  \\end{array} } \\right)} \\, .\n",
    "$$\n",
    "\n",
    "With $X \\in \\mathbb{R}^{n \\times (k+1)}$, i.e., $X$ being a $n \\times (k+1)$ matrix, $\\beta \\in \\mathbb{R}^{(k+1) \\times 1}$, i.e., $\\beta$ being a a column vector with $k+1$ rows, and $\\epsilon \\in \\mathbb{R}^{n \\times 1}$, i.e., $\\epsilon$ being a column vector with $n$ rows, we obtain the multiple regression model:\n",
    "\n",
    "$$\n",
    "\\boxed{\n",
    "Y = X \\beta + \\epsilon \\, .\n",
    "}\n",
    "$$\n",
    "\n",
    "Just as in the 1D case with $k=1$, the least sqaures estimate is as follows, under the assumption that $X^T X$ is invertible:\n",
    "\n",
    "$$\n",
    "\\boxed{\n",
    "\\begin{align}\n",
    "\\widehat{\\beta} &= \\left( X^T X\\right)^{-1} X^T Y\\\\\n",
    "V\\left(\\widehat{\\beta} | X_{1:n} \\right) &= \\sigma^2 \\left( X^T X \\right)^{-1} \\\\\n",
    "\\widehat{\\beta} &\\approx Normal \\left(\\beta, \\sigma^2 \\left( X^T X\\right)^{-1} \\right)\n",
    "\\end{align} \\, .\n",
    "}\n",
    "$$\n",
    "\n",
    "The estimate of the regression function is:\n",
    "\n",
    "$$\n",
    "\\boxed{\n",
    "\\widehat{r}(x) = \\sum_{j=0}^k \\widehat{\\beta}_j \\, x_j \\, .\n",
    "}\n",
    "$$\n",
    "\n",
    "An unbiased estimate of $\\sigma^2$ is:\n",
    "\n",
    "$$\n",
    "\\widehat{\\sigma}^2 = \\left( \\frac{1}{n-k} \\right) \\sum_{i=1}^n \\widehat{\\epsilon}_i^2 \\, \n",
    "$$\n",
    "\n",
    "where $\\widehat{\\epsilon}$ is the vector of residuals:\n",
    "\n",
    "$$\n",
    "\\boxed{\n",
    "\\widehat{\\epsilon}=X \\widehat{\\beta} - Y\n",
    "} \\ , \\text{ i.e.,} \\quad\n",
    "\\widehat{\\epsilon}  = \\displaystyle{\\left( {\\begin{array}{c}\n",
    "   \\widehat{\\epsilon}_1 \\\\\n",
    "   \\widehat{\\epsilon}_2 \\\\\n",
    "   \\vdots \\\\\n",
    "   \\widehat{\\epsilon}_n\n",
    "  \\end{array} } \\right)} = \\displaystyle{\\left( {\\begin{array}{cccc}\n",
    "   1& X_{1,1}& \\ldots& X_{1,k} \\\\\n",
    "   1& X_{2,1}& \\ldots& X_{2,k} \\\\\n",
    "   \\vdots & \\vdots & \\vdots & \\vdots\\\\\n",
    "   1& X_{n,1}& \\ldots& X_{n,k} \n",
    "  \\end{array} } \\right)} \\ \n",
    "  \\displaystyle{\\left( {\\begin{array}{c}\n",
    "   \\widehat{\\beta}_0 \\\\\n",
    "   \\widehat{\\beta}_1 \\\\\n",
    "   \\vdots \\\\\n",
    "   \\widehat{\\beta}_k\n",
    "  \\end{array} } \\right)} \\ - \\displaystyle{\\left( {\\begin{array}{c}\n",
    "   Y_1 \\\\\n",
    "   Y_2 \\\\\n",
    "   \\vdots \\\\\n",
    "   Y_n\n",
    "  \\end{array} } \\right)}\n",
    "$$\n",
    "\n",
    "An approximate $1-\\alpha$ confidence interval for $\\beta_j$ is\n",
    "\n",
    "$$\n",
    "\\boxed{\n",
    "\\widehat{\\beta}_j \\pm z_{\\alpha/2} \\widehat{se}(\\widehat{\\beta}_j)\n",
    "}\n",
    "$$\n",
    "where $\\left(\\widehat{se}(\\widehat{\\beta}_j)\\right)^2$ is the $j$-th diagonal entry of the matrix  $\\widehat{\\sigma}^2 (X^T X)^{-1}$."
   ]
  },
  {
   "cell_type": "markdown",
   "metadata": {},
   "source": [
    "## Solving Least Squares Using Numerical Linear Algebra Routine in scipy\n",
    "\n",
    "We can use [scipy.linalg.lstsq](https://docs.scipy.org/doc/scipy/reference/generated/scipy.linalg.lstsq.html#scipy.linalg.lstsq) to get the least squares solution to our regression problems quite easily, including generalisation to multiple linear regression when the covariates are in more than 1 dimension.\n",
    "\n",
    "Let us try to understand the code in the previous cell by learning how to do a least squares fit by setting up the right design matrix."
   ]
  },
  {
   "cell_type": "markdown",
   "metadata": {},
   "source": [
    "### Example 1: Fitting a Line is Simple Linear Regression"
   ]
  },
  {
   "cell_type": "code",
   "execution_count": 7,
   "metadata": {},
   "outputs": [
    {
     "data": {
      "text/plain": [
       "array([[1. , 1. ],\n",
       "       [1. , 2.5],\n",
       "       [1. , 3.5],\n",
       "       [1. , 4. ],\n",
       "       [1. , 5. ],\n",
       "       [1. , 7. ],\n",
       "       [1. , 8.5]])"
      ]
     },
     "execution_count": 7,
     "metadata": {},
     "output_type": "execute_result"
    }
   ],
   "source": [
    "from scipy.linalg import lstsq\n",
    "import matplotlib.pyplot as plt\n",
    "import numpy as np\n",
    "\n",
    "# suppose we have the following data\n",
    "x = np.array([1, 2.5, 3.5, 4, 5, 7, 8.5])\n",
    "y = np.array([0.3, 1.1, 1.5, 2.0, 3.2, 6.6, 8.6])\n",
    "\n",
    "#We want to fit a line of the form y = a + b*x to this data. We first form the \n",
    "#“design matrix” M, with a constant column of 1s and a column containing x\n",
    "M1 = x[:, np.newaxis]^[0, 1]\n",
    "M1"
   ]
  },
  {
   "cell_type": "code",
   "execution_count": 8,
   "metadata": {},
   "outputs": [
    {
     "data": {
      "text/plain": [
       "array([-1.93080357,  1.16875   ])"
      ]
     },
     "execution_count": 8,
     "metadata": {},
     "output_type": "execute_result"
    }
   ],
   "source": [
    "#We want to find the least-squares solution to \n",
    "#M1.dot(p) = y, where p is a vector with length 2 that holds the parameters a and b.\n",
    "p, res, rnk, s = lstsq(M1, y)\n",
    "p"
   ]
  },
  {
   "cell_type": "code",
   "execution_count": 9,
   "metadata": {},
   "outputs": [
    {
     "data": {
      "image/png": "[encoded data removed]",
      "text/plain": [
       "<Figure size 432x288 with 1 Axes>"
      ]
     },
     "metadata": {},
     "output_type": "display_data"
    }
   ],
   "source": [
    "plt.plot(x, y, 'o', label='data')\n",
    "xx = np.linspace(0, 9, 101)\n",
    "yy = p[0] + p[1]*xx\n",
    "plt.plot(xx, yy, label='least squares fit, $y = a + bx$')\n",
    "plt.xlabel('x')\n",
    "plt.ylabel('y')\n",
    "plt.legend(framealpha=1, shadow=True)\n",
    "plt.grid(alpha=0.25)\n",
    "plt.show()"
   ]
  },
  {
   "cell_type": "markdown",
   "metadata": {},
   "source": [
    "### Example 2: Fitting a Quadratic is also Simple Linear Regresssion\n",
    "Suppose we want to fit a quadratic polynomial of the form $y = a + b*x^2$ to the same data. \n",
    "Then we first form the design matrix `M2`, with a constant column of `1`s and a column containing `x^2` as follows:"
   ]
  },
  {
   "cell_type": "code",
   "execution_count": 10,
   "metadata": {},
   "outputs": [
    {
     "data": {
      "text/plain": [
       "array([[ 1.  ,  1.  ],\n",
       "       [ 1.  ,  6.25],\n",
       "       [ 1.  , 12.25],\n",
       "       [ 1.  , 16.  ],\n",
       "       [ 1.  , 25.  ],\n",
       "       [ 1.  , 49.  ],\n",
       "       [ 1.  , 72.25]])"
      ]
     },
     "execution_count": 10,
     "metadata": {},
     "output_type": "execute_result"
    }
   ],
   "source": [
    "M2 = x[:, np.newaxis]^[0, 2]\n",
    "M2"
   ]
  },
  {
   "cell_type": "code",
   "execution_count": 11,
   "metadata": {},
   "outputs": [
    {
     "data": {
      "image/png": "[encoded data removed]",
      "text/plain": [
       "<Figure size 432x288 with 1 Axes>"
      ]
     },
     "metadata": {},
     "output_type": "display_data"
    }
   ],
   "source": [
    "# least square solution with M2\n",
    "p, res, rnk, s = lstsq(M2, y)\n",
    "plt.plot(x, y, 'o', label='data')\n",
    "xx = np.linspace(0, 9, 101)\n",
    "yy = p[0] + p[1]*xx^2\n",
    "plt.plot(xx, yy, label='least squares fit, $y = a + bx$')\n",
    "plt.xlabel('x')\n",
    "plt.ylabel('y')\n",
    "plt.legend(framealpha=1, shadow=True)\n",
    "plt.grid(alpha=0.25)\n",
    "plt.show()"
   ]
  },
  {
   "cell_type": "markdown",
   "metadata": {},
   "source": [
    "### Example 3: Fitting a 3rd Order Polynomial is Multiple Linear Regresssion\n",
    "Suppose we want to fit a degree-3 polynomial of the form $y = \\beta_0 + \\beta_1 x + \\beta_2 x^2+ \\beta_3 x^3$ to the same data. \n",
    "Then we first form the design matrix `M3`, with a constant column of `1`s with `x^0` and three additional columns containing `x^1`, `x^2` and `x^3` as follows:"
   ]
  },
  {
   "cell_type": "code",
   "execution_count": 12,
   "metadata": {},
   "outputs": [
    {
     "data": {
      "text/plain": [
       "array([[  1.   ,   1.   ,   1.   ,   1.   ],\n",
       "       [  1.   ,   2.5  ,   6.25 ,  15.625],\n",
       "       [  1.   ,   3.5  ,  12.25 ,  42.875],\n",
       "       [  1.   ,   4.   ,  16.   ,  64.   ],\n",
       "       [  1.   ,   5.   ,  25.   , 125.   ],\n",
       "       [  1.   ,   7.   ,  49.   , 343.   ],\n",
       "       [  1.   ,   8.5  ,  72.25 , 614.125]])"
      ]
     },
     "execution_count": 12,
     "metadata": {},
     "output_type": "execute_result"
    }
   ],
   "source": [
    "# Fitting a cubic polynolial is the same idea\n",
    "M3 = x[:, np.newaxis]^[0, 1, 2, 3]\n",
    "M3"
   ]
  },
  {
   "cell_type": "code",
   "execution_count": 13,
   "metadata": {},
   "outputs": [
    {
     "data": {
      "image/png": "[encoded data removed]",
      "text/plain": [
       "<Figure size 432x288 with 1 Axes>"
      ]
     },
     "metadata": {},
     "output_type": "display_data"
    }
   ],
   "source": [
    "p, res, rnk, s = lstsq(M3, y)\n",
    "plt.plot(x, y, 'o', label='data')\n",
    "xx = np.linspace(0, 9, 101)\n",
    "yy = p[0] + p[1]*xx + p[2]*xx^2 + p[3]*xx^3\n",
    "plt.plot(xx, yy, label='least squares fit, $y = a + bx$')\n",
    "plt.xlabel('x')\n",
    "plt.ylabel('y')\n",
    "plt.legend(framealpha=1, shadow=True)\n",
    "plt.grid(alpha=0.25)\n",
    "plt.show()"
   ]
  },
  {
   "cell_type": "markdown",
   "metadata": {},
   "source": [
    "# Sample Exam Problem 8\n",
    "\n",
    "Using the `lstsq` method shown above, and data arrays `x` and `y` in the next cell that contain log light intensity and log surface temperature in a give range of measurements from nearby stars, compute the least squares estimates of $\\beta_0$ and $\\beta_1$ under the simple linear regression model with an intercept and a slope term. Make a plot similar to the one above with the data points and the fitted regression line."
   ]
  },
  {
   "cell_type": "code",
   "execution_count": 14,
   "metadata": {},
   "outputs": [
    {
     "ename": "NameError",
     "evalue": "name 'ZZZ' is not defined",
     "output_type": "error",
     "traceback": [
      "\u001b[0;31m---------------------------------------------------------------------------\u001b[0m",
      "\u001b[0;31mNameError\u001b[0m                                 Traceback (most recent call last)",
      "\u001b[0;32m<ipython-input-14-6a4cd5f4215d>\u001b[0m in \u001b[0;36m<module>\u001b[0;34m()\u001b[0m\n\u001b[1;32m     16\u001b[0m \u001b[0;34m\u001b[0m\u001b[0m\n\u001b[1;32m     17\u001b[0m \u001b[0;31m# Replace only ZZZ by the right values\u001b[0m\u001b[0;34m\u001b[0m\u001b[0;34m\u001b[0m\u001b[0;34m\u001b[0m\u001b[0m\n\u001b[0;32m---> 18\u001b[0;31m \u001b[0mM1\u001b[0m \u001b[0;34m=\u001b[0m \u001b[0mZZZ\u001b[0m \u001b[0;31m# design matrix M1\u001b[0m\u001b[0;34m\u001b[0m\u001b[0;34m\u001b[0m\u001b[0m\n\u001b[0m\u001b[1;32m     19\u001b[0m \u001b[0mb\u001b[0m\u001b[0;34m,\u001b[0m \u001b[0mres\u001b[0m\u001b[0;34m,\u001b[0m \u001b[0mrnk\u001b[0m\u001b[0;34m,\u001b[0m \u001b[0ms\u001b[0m \u001b[0;34m=\u001b[0m \u001b[0mlstsq\u001b[0m\u001b[0;34m(\u001b[0m\u001b[0mZZZ\u001b[0m\u001b[0;34m,\u001b[0m\u001b[0mZZZ\u001b[0m\u001b[0;34m)\u001b[0m\u001b[0;34m\u001b[0m\u001b[0;34m\u001b[0m\u001b[0m\n\u001b[1;32m     20\u001b[0m \u001b[0mplt\u001b[0m\u001b[0;34m.\u001b[0m\u001b[0mplot\u001b[0m\u001b[0;34m(\u001b[0m\u001b[0mx\u001b[0m\u001b[0;34m,\u001b[0m \u001b[0my\u001b[0m\u001b[0;34m,\u001b[0m \u001b[0;34m'o'\u001b[0m\u001b[0;34m,\u001b[0m \u001b[0mlabel\u001b[0m\u001b[0;34m=\u001b[0m\u001b[0;34m'data'\u001b[0m\u001b[0;34m)\u001b[0m\u001b[0;34m\u001b[0m\u001b[0;34m\u001b[0m\u001b[0m\n",
      "\u001b[0;31mNameError\u001b[0m: name 'ZZZ' is not defined"
     ]
    }
   ],
   "source": [
    "# Sample Exam Problem 8 \n",
    "# do not change this import and data block ########################\n",
    "from scipy.linalg import lstsq\n",
    "import matplotlib.pyplot as plt\n",
    "import numpy as np\n",
    "logLightIntens_logSurfTemp=[(4.37,5.23),(4.56,5.74),\n",
    "(4.26,4.93),(4.56,5.74),(4.30,5.19),(4.46,5.46),(3.84,4.65),(4.57,5.27),(4.26,5.57),(4.37,5.12),(3.49,5.73),\n",
    "(4.43,5.45),(4.48,5.42),(4.01,4.05),(4.29,4.26),(4.42,4.58),(4.23,3.94),(4.42,4.18),(4.23,4.18),(3.49,5.89),\n",
    "(4.29,4.38),(4.29,4.22),(4.42,4.42),(4.49,4.85),(4.38,5.02),(4.42,4.66),(4.29,4.66),(4.38,4.90),(4.22,4.39),\n",
    "(3.48,6.05),(4.38,4.42),(4.56,5.10),(4.45,5.22),(3.49,6.29),(4.23,4.34),(4.62,5.62),(4.53,5.10),(4.45,5.22),\n",
    "(4.53,5.18),(4.43,5.57),(4.38,4.62),(4.45,5.06),(4.50,5.34),(4.45,5.34),(4.55,5.54),(4.45,4.98),(4.42,4.50)]\n",
    "CleanedlogLightIntens_logSurfTemp=\\\n",
    "np.array([yx for yx in logLightIntens_logSurfTemp if yx[1]<5.9 and yx[0]>4]) # data range constraint\n",
    "x=CleanedlogLightIntens_logSurfTemp[:,1]\n",
    "y=CleanedlogLightIntens_logSurfTemp[:,0]\n",
    "########### end of import and data block ##########################\n",
    "\n",
    "# Replace only ZZZ by the right values\n",
    "M1 = ZZZ # design matrix M1\n",
    "b, res, rnk, s = lstsq(ZZZ,ZZZ)\n",
    "plt.plot(x, y, 'o', label='data')\n",
    "xx = np.linspace(ZZZ, ZZZ, 101)\n",
    "yy = ZZZ *xx\n",
    "plt.plot(xx, yy, label='least squares fit')\n",
    "plt.xlabel('log light intensity (X)')\n",
    "plt.ylabel('log surface temperature (Y)')\n",
    "plt.legend(framealpha=1, shadow=True)\n",
    "plt.grid(alpha=0.25)\n",
    "plt.text(4, 4.7, r'$\\widehat{r}(x) = \\widehat{\\beta}_0 + \\widehat{\\beta}_1 x, \\quad \\\n",
    "\\widehat{\\beta}_0 = $ %(b0)0.3f , $\\widehat{\\beta}_1 = $ %(b1)0.3f' % {'b0': b[0], 'b1': b[1]} )\n",
    "plt.show()"
   ]
  },
  {
   "cell_type": "code",
   "execution_count": 15,
   "metadata": {},
   "outputs": [
    {
     "data": {
      "image/png": "[encoded data removed]",
      "text/plain": [
       "<Figure size 432x288 with 1 Axes>"
      ]
     },
     "metadata": {},
     "output_type": "display_data"
    }
   ],
   "source": [
    "# Sample Exam Problem 8 Solution\n",
    "logLightIntens_logSurfTemp=[(4.37,5.23),(4.56,5.74),\n",
    "(4.26,4.93),(4.56,5.74),(4.30,5.19),(4.46,5.46),(3.84,4.65),(4.57,5.27),(4.26,5.57),(4.37,5.12),(3.49,5.73),\n",
    "(4.43,5.45),(4.48,5.42),(4.01,4.05),(4.29,4.26),(4.42,4.58),(4.23,3.94),(4.42,4.18),(4.23,4.18),(3.49,5.89),\n",
    "(4.29,4.38),(4.29,4.22),(4.42,4.42),(4.49,4.85),(4.38,5.02),(4.42,4.66),(4.29,4.66),(4.38,4.90),(4.22,4.39),\n",
    "(3.48,6.05),(4.38,4.42),(4.56,5.10),(4.45,5.22),(3.49,6.29),(4.23,4.34),(4.62,5.62),(4.53,5.10),(4.45,5.22),\n",
    "(4.53,5.18),(4.43,5.57),(4.38,4.62),(4.45,5.06),(4.50,5.34),(4.45,5.34),(4.55,5.54),(4.45,4.98),(4.42,4.50)]\n",
    "CleanedlogLightIntens_logSurfTemp=\\\n",
    "np.array([yx for yx in logLightIntens_logSurfTemp if yx[1]<5.9 and yx[0]>4]) # data range constraint\n",
    "x=CleanedlogLightIntens_logSurfTemp[:,1]\n",
    "y=CleanedlogLightIntens_logSurfTemp[:,0]\n",
    "\n",
    "from scipy.linalg import lstsq\n",
    "import matplotlib.pyplot as plt\n",
    "import numpy as np\n",
    "M1 = x[:, np.newaxis]^[0, 1]\n",
    "b, res, rnk, s = lstsq(M1, y)\n",
    "plt.plot(x, y, 'o', label='data')\n",
    "xx = np.linspace(3.9, 5.8, 101)\n",
    "yy = b[0] + b[1]*xx\n",
    "plt.plot(xx, yy, label='least squares fit')\n",
    "plt.xlabel('log light intensity (X)')\n",
    "plt.ylabel('log surface temperature (Y)')\n",
    "plt.legend(framealpha=1, shadow=True)\n",
    "plt.grid(alpha=0.25)\n",
    "plt.text(4, 4.7, r'$\\widehat{r}(x) = \\widehat{\\beta}_0 + \\widehat{\\beta}_1 x, \\quad \\\n",
    "\\widehat{\\beta}_0 = $ %(b0)0.3f , $\\widehat{\\beta}_1 = $ %(b1)0.3f' % {'b0': b[0], 'b1': b[1]} )\n",
    "plt.show()"
   ]
  },
  {
   "cell_type": "markdown",
   "metadata": {},
   "source": [
    "# Prediction\n",
    "\n",
    "Let's consider the 1D setting for simplicity of notation. \n",
    "Suppose we have estimated a regression model:\n",
    "$$\\widehat{r}(x) = \\widehat{\\beta}_0 + \\widehat{\\beta}_1 x $$\n",
    "from data $(X_1,Y_1), (X_2,Y_2), \\ldots, (X_n,Y_n)$.\n",
    "\n",
    "Now suppose we observe the value $X=x_*$ of the covariate of a new observarion but *do not* observe the response $Y_*$ and want to **predict** it. An estimate of $Y_*$ is\n",
    "\n",
    "$$\n",
    "\\boxed{\n",
    "\\widehat{Y}_* = \\widehat{\\beta}_0 + \\widehat{\\beta}_1 x_* \\, .\n",
    "}\n",
    "$$\n",
    "\n",
    "By the formula for the variance of the sum of two random variables:\n",
    "\n",
    "$$\n",
    "V(\\widehat{Y}_*) = V(\\widehat{\\beta}_0 + \\widehat{\\beta}_1 x_*) \n",
    "= V(\\widehat{\\beta}_0) + x_*^2 V(\\widehat{\\beta}_1 ) + 2 x_* Cov (\\widehat{\\beta}_0,\\widehat{\\beta}_1)\n",
    "$$\n",
    "\n",
    "We have all the needed terms to compute $V(\\widehat{Y}_*)$ from the earlier result on the conditional variance of the least squares estimate:\n",
    "\n",
    "$$\n",
    "V \\left( \\widehat{\\beta} \\, | \\, X_{1:n} \\right) \n",
    "= \\frac{\\sigma^2}{n s_X^2} \n",
    "\\left( \n",
    "{\\begin{array}{cc}\n",
    "   \\frac{1}{n}\\sum_{i=1}^n X_i^2 & -\\overline{X}_n \\\\\n",
    "   -\\overline{X}_n & 1\\\\\n",
    "  \\end{array}} \n",
    "  \\right)\n",
    "$$\n",
    "\n",
    "The estimated standard error $\\widehat{se}(\\widehat{Y}_*)$ is just $\\sqrt{V(\\widehat{Y}_*)}$ with $\\widehat{\\sigma}^2$ substituted in for $\\sigma^2$. An approximate $1-alpha$ confidence interval for $Y^*$ is called an **approximate $1-\\alpha$ prediction interval for $Y_*$** and is given by\n",
    "\n",
    "$$\n",
    "\\boxed{\n",
    "\\widehat{Y}_* \\pm z_{\\alpha/2} \\widehat{\\xi}_n \\, , \\quad \\text{ where } \\quad \n",
    "\\widehat{\\xi}^2_n = \\widehat{\\sigma}^2 \\left( \\frac{\\sum_{i=1}^n (X_i-X_*)^2}{n \\sum_{i=1}^n (X_i-\\overline{X})^2} + 1 \\right)\n",
    "}\n",
    "$$"
   ]
  },
  {
   "cell_type": "markdown",
   "metadata": {},
   "source": [
    "# Multiple Regression on 2018 Swedish Election Data\n",
    "\n",
    "If you are interested, you already have the basic skills to look at the data from Swedish election using these ideas.\n",
    "\n",
    "Try to model, say the $\\log$ of the number of district-level votes for the top two most voted parties.\n",
    "\n",
    "You can introduce latitude of the district centres (if you have such information from geospatial database you could join), distance of the district to one of the four largest cities in Sweden, or the socio-economic indicators of the district for Swedish Central Statistical Bureau, etc., as covariates.\n",
    "\n",
    "But this is a good project and beyond current scope (mainly due to time limitations)."
   ]
  },
  {
   "cell_type": "markdown",
   "metadata": {},
   "source": [
    "# Prelude to Statistical Machine Learning\n",
    "\n",
    "Here, we just start you off on the path to more statistical modeling for purposes of prediction.\n",
    "Now statistical learning from the 1970s is needed to mathematically justify the methods.\n",
    "\n",
    "The following is a teaser of what you will see in the first couple weeks of you course in 'statistical machine learning'.\n",
    "\n",
    "## Loss functions and gradient descent\n",
    "\n",
    "[this header was adapted from some notes by Benny Avelin]\n",
    "\n",
    "In the above example with linear regression we wanted to minimize the vertical distance between the fitted line and the data, this vertical distance is a prime example of a **loss function**. In general when we are faced with a regression problem we want a way of measure how good our model is, this quantity that we want to *minimise* is called the loss function and its expectation (over different sample data-points is called the **risk**). The mathematical statistical justification for this approach towards minimising expected loss or risk is called [empirical risk minimisation](https://en.wikipedia.org/wiki/Empirical_risk_minimization), as we will see in the sequel in more detail.\n",
    "\n",
    "Let us circle back to linear regression once again. The way the `np.argmin` method searched for the minimum of:\n",
    "\n",
    "$$L(a,b) = \\sum_{i=1}^N (y_i - f_{a,b}(x_i))^2$$\n",
    "\n",
    "was by simply evaluating $L(a,b)$ for each value of $a$ in the array `prop_a` with our guessed values for $a$ and picking the $a$ that minimised $L(a,b)$. Recall we fixed $b$ in the search.\n",
    "\n",
    "> np.argmin? # see the docstring for np.argmin and other functions/methods we are using throughout if you need to know right away.\n",
    "\n",
    "This approaching of evaluating the loss at a set of parameter values quickly becomes infeasible when the dimension of the problem is larger than $1$. \n",
    "\n",
    "Even if we just have two guess for each dimension of the parameter space with $d$ dimensions, then we will need to evaluate the loss at $2^d$ parameter values. When $d=10,100,1000$ the number of evaluation points become $1024$, $1.268e30, 1.072e301$, respectively.\n",
    "\n",
    "Often in big-data settings, the number of dimensions for the regression problem can easily extend over a few thousands. \n",
    "Thus, we need a systematic way to find the optimal parameters, i.e., the parameters that minimise the loss function.\n",
    "\n",
    "The iterative solution is called **gradient descent** and it goes like this: \n",
    "\n",
    "- *Initialise:* Let us start with some initial parameters, say in our linear regression example $(a,b) = (0,0)$, say at iteration $i=0$.\n",
    "- *Update:* then we construct an update rule like the following to update the parameter values at $i+1$ from those at iteration $i$:\n",
    "  - $a_i = a_{i-1}-l \\frac{dL}{da}(a_{i-1},b_{i-1})$\n",
    "  - $b_i = b_{i-1}-l \\frac{dL}{db}(a_{i-1},b_{i-1}) $\n",
    "  - where $l > 0$ is called the learning rate.\n",
    "- *Stop:* Finally we stop when a stopping rule like the following is satisfied:\n",
    "$$\\sqrt( ( L(a_{i+1},b_{i+1})- L(a_{i},b_{i}))^2) < \\tau, \\qquad \\text{ where, $\\tau$ is some tolerance threshold that says we are close enough to the minimum value found by our iteration}.$$\n"
   ]
  },
  {
   "cell_type": "markdown",
   "metadata": {},
   "source": [
    "# Introduction to R in SageMath Jupyter IPython Notebook\n",
    "\n",
    "1. How to run R commands in SageMath\n",
    "  * doing linear regression regression using R's builtin `lm` (linear model) package in SageMath/R\n",
    "  * installing non-builtin packages, loading libraries and data"
   ]
  },
  {
   "cell_type": "markdown",
   "metadata": {},
   "source": [
    "## Running R in SageMath is \"easy as\":\n",
    "\n",
    "- Use `%%r` to denote that the `Code` cell is of language `R`\n",
    "\n",
    "First note that SageMath/Python and R kernels will be available in the SageMath Jupyter notebook."
   ]
  },
  {
   "cell_type": "code",
   "execution_count": 20,
   "metadata": {},
   "outputs": [
    {
     "name": "stdout",
     "output_type": "stream",
     "text": [
      "[5.23 5.74 4.93 5.74 5.19 5.46 5.27 5.57 5.12 5.45 5.42 4.05 4.26 4.58\n",
      " 3.94 4.18 4.18 4.38 4.22 4.42 4.85 5.02 4.66 4.66 4.9  4.39 4.42 5.1\n",
      " 5.22 4.34 5.62 5.1  5.22 5.18 5.57 4.62 5.06 5.34 5.34 5.54 4.98 4.5 ]\n",
      "[4.37 4.56 4.26 4.56 4.3  4.46 4.57 4.26 4.37 4.43 4.48 4.01 4.29 4.42\n",
      " 4.23 4.42 4.23 4.29 4.29 4.42 4.49 4.38 4.42 4.29 4.38 4.22 4.38 4.56\n",
      " 4.45 4.23 4.62 4.53 4.45 4.53 4.43 4.38 4.45 4.5  4.45 4.55 4.45 4.42]\n"
     ]
    }
   ],
   "source": [
    "# this is x and y available as numpy arrays in SageMath/Python\n",
    "logLightIntens_logSurfTemp=[(4.37,5.23),(4.56,5.74),\n",
    "(4.26,4.93),(4.56,5.74),(4.30,5.19),(4.46,5.46),(3.84,4.65),(4.57,5.27),(4.26,5.57),(4.37,5.12),(3.49,5.73),\n",
    "(4.43,5.45),(4.48,5.42),(4.01,4.05),(4.29,4.26),(4.42,4.58),(4.23,3.94),(4.42,4.18),(4.23,4.18),(3.49,5.89),\n",
    "(4.29,4.38),(4.29,4.22),(4.42,4.42),(4.49,4.85),(4.38,5.02),(4.42,4.66),(4.29,4.66),(4.38,4.90),(4.22,4.39),\n",
    "(3.48,6.05),(4.38,4.42),(4.56,5.10),(4.45,5.22),(3.49,6.29),(4.23,4.34),(4.62,5.62),(4.53,5.10),(4.45,5.22),\n",
    "(4.53,5.18),(4.43,5.57),(4.38,4.62),(4.45,5.06),(4.50,5.34),(4.45,5.34),(4.55,5.54),(4.45,4.98),(4.42,4.50)]\n",
    "CleanedlogLightIntens_logSurfTemp=\\\n",
    "np.array([yx for yx in logLightIntens_logSurfTemp if yx[1]<5.9 and yx[0]>4]) # data range constraint\n",
    "x=CleanedlogLightIntens_logSurfTemp[:,1]\n",
    "y=CleanedlogLightIntens_logSurfTemp[:,0]\n",
    "print (x)\n",
    "print (y)"
   ]
  },
  {
   "cell_type": "markdown",
   "metadata": {},
   "source": [
    "### Assigning to `x` and `y` in SageMath/R\n",
    "\n",
    "We use the assignment operator, `<-`, in R, as follows:"
   ]
  },
  {
   "cell_type": "code",
   "execution_count": 21,
   "metadata": {},
   "outputs": [
    {
     "name": "stdout",
     "output_type": "stream",
     "text": [
      " [1] 4.37 4.56 4.26 4.56 4.30 4.46 4.57 4.26 4.37 4.43 4.48 4.01 4.29 4.42 4.23\n",
      "[16] 4.42 4.23 4.29 4.29 4.42 4.49 4.38 4.42 4.29 4.38 4.22 4.38 4.56 4.45 4.23\n",
      "[31] 4.62 4.53 4.45 4.53 4.43 4.38 4.45 4.50 4.45 4.55 4.45 4.42\n"
     ]
    }
   ],
   "source": [
    "%%r\n",
    "x <- c(5.23,  5.74,  4.93,  5.74,  5.19,  5.46,  5.27,  5.57,  5.12,\n",
    "         5.45,  5.42,  4.05,  4.26,  4.58,  3.94,  4.18,  4.18,  4.38,\n",
    "         4.22,  4.42,  4.85,  5.02,  4.66,  4.66,  4.9 ,  4.39,  4.42,\n",
    "         5.1 ,  5.22,  4.34,  5.62,  5.1 ,  5.22,  5.18,  5.57,  4.62,\n",
    "         5.06,  5.34,  5.34,  5.54,  4.98,  4.5)\n",
    "y <- c(4.37,  4.56,  4.26,  4.56,  4.3 ,  4.46,  4.57,  4.26,  4.37,\n",
    "         4.43,  4.48,  4.01,  4.29,  4.42,  4.23,  4.42,  4.23,  4.29,\n",
    "         4.29,  4.42,  4.49,  4.38,  4.42,  4.29,  4.38,  4.22,  4.38,\n",
    "         4.56,  4.45,  4.23,  4.62,  4.53,  4.45,  4.53,  4.43,  4.38,\n",
    "         4.45,  4.5 ,  4.45,  4.55,  4.45,  4.42)"
   ]
  },
  {
   "cell_type": "markdown",
   "metadata": {},
   "source": [
    "### Doing Linear Regression in SameMath/R"
   ]
  },
  {
   "cell_type": "code",
   "execution_count": 22,
   "metadata": {},
   "outputs": [
    {
     "name": "stdout",
     "output_type": "stream",
     "text": [
      "\n",
      "Call:\n",
      "lm(formula = y ~ x + I(x^2))\n",
      "\n",
      "Residuals:\n",
      "     Min       1Q   Median       3Q      Max \n",
      "-0.22916 -0.05145  0.01121  0.06263  0.16072 \n",
      "\n",
      "Coefficients:\n",
      "            Estimate Std. Error t value Pr(>|t|)\n",
      "(Intercept)  1.87480    1.44471   1.298    0.202\n",
      "x            0.87443    0.59759   1.463    0.151\n",
      "I(x^2)      -0.07272    0.06128  -1.187    0.243\n",
      "\n",
      "Residual standard error: 0.09108 on 39 degrees of freedom\n",
      "Multiple R-squared:  0.484,\tAdjusted R-squared:  0.4576 \n",
      "F-statistic: 18.29 on 2 and 39 DF,  p-value: 2.491e-06\n"
     ]
    }
   ],
   "source": [
    "%%r\n",
    "linearRegressionModel <- lm(formula = y ~ x + I(x^2))\n",
    "\n",
    "summary(linearRegressionModel)"
   ]
  },
  {
   "cell_type": "markdown",
   "metadata": {},
   "source": [
    "## Running R in SageMath is \"easy as\":\n",
    "\n",
    "Sometimes you need additional `R` packages.\n",
    "\n",
    "- Installing R packages with `install.packages(...)`\n",
    "\n",
    "**Note:** Once a package is installed on a particular machine using `install.packages(\"wantedpackage\")` then you only need to load that library using `library(wantedpackage)` when you are using the same machine.\n",
    "\n",
    "### Additional Packages\n",
    "\n",
    "One often needs several additional packages to run certain desired `R` commands. Let's get some such packages.\n",
    "\n",
    "\n",
    "In other words, you don't have to install packages that are already installed and thus can be automatically found by `R` in the default location it will be installed at. In the case below, you can see where the package was installed from the following line:\n",
    "\n",
    "-  `Installing package into ‘/some_path_to_where_the_package_is_installed’`"
   ]
  },
  {
   "cell_type": "code",
   "execution_count": 23,
   "metadata": {},
   "outputs": [
    {
     "name": "stdout",
     "output_type": "stream",
     "text": [
      "<rpy2.rinterface_lib.sexp.NULLType object at 0x33b8d4aa0> [RTYPES.NILSXP]\n"
     ]
    }
   ],
   "source": [
    "%%r\n",
    "# there will be further dependencies, you may need to recursively install...\n",
    "#install.packages(\"Flury\")\n",
    "#library(Flury)\n",
    "#data(dead.beetles)"
   ]
  },
  {
   "cell_type": "markdown",
   "metadata": {},
   "source": [
    "## SageMath/R docs\n",
    "\n",
    "For example, you can find in the docs more systematic/programmatic way to assign SageMath/Python objects to SageMath/R objects.\n",
    "\n",
    "- R:\n",
    "  - [https://cran.r-project.org/doc/manuals/R-intro.html](https://cran.r-project.org/doc/manuals/R-intro.html)\n",
    "- SageMath/R:\n",
    "  - [http://doc.sagemath.org/html/en/reference/interfaces/sage/interfaces/r.html](http://doc.sagemath.org/html/en/reference/interfaces/sage/interfaces/r.html)\n"
   ]
  }
 ],
 "metadata": {
  "kernelspec": {
   "display_name": "SageMath 9.1",
   "language": "sage",
   "name": "sagemath"
  },
  "language_info": {
   "codemirror_mode": {
    "name": "ipython",
    "version": 3
   },
   "file_extension": ".py",
   "mimetype": "text/x-python",
   "name": "python",
   "nbconvert_exporter": "python",
   "pygments_lexer": "ipython3",
   "version": "3.7.8"
  },
  "lx_course_instance": "2020",
  "lx_course_name": "Introduction to Data Science: A Comp-Math-Stat Approach",
  "lx_course_number": "1MS041"
 },
 "nbformat": 4,
 "nbformat_minor": 2
}
