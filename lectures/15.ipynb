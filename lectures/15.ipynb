{
 "cells": [
  {
   "cell_type": "markdown",
   "metadata": {
    "deletable": false
   },
   "source": [
    "# [Introduction to Data Science: A Comp-Math-Stat Approach](http://datascience-intro.github.io/1MS041-2020/)\n",
    "## 1MS041, 2020 \n",
    "&copy;2020 Raazesh Sainudiin, Benny Avelin. [Attribution 4.0 International (CC BY 4.0)](https://creativecommons.org/licenses/by/4.0/)"
   ]
  },
  {
   "cell_type": "markdown",
   "metadata": {},
   "source": [
    "# Supervised learning continued\n",
    "\n",
    "## Topics\n",
    "\n",
    "* Another viewpoint of classification (The perceptron)\n",
    "* The kernel trick\n",
    "* The learning problem\n",
    "* Uniform convergence of empirical mean (Finite) (PAC Learning)\n",
    "* Uniform convergence of empirical mean (Full) (PAC Learning)"
   ]
  },
  {
   "cell_type": "markdown",
   "metadata": {},
   "source": [
    "We have seen the probabilistic viewpoint of machine learning, by going from the Likelihood to the so called loss funcntion. Finding the MLE is finding the minima in the loss function.\n",
    "\n",
    "Traditionally however the machine learning started in principle with a single algorithm called the perceptron algorithm. The ideas come from computer science and as such the focus and terminology is different, but let us stick to the terminology used in the book \"Foundations of Data Science\" Chap 5.\n",
    "\n",
    "Let us say that we are trying to device a decision rule based on input data being in $\\mathbb{R}^d$, it could be binary or other. This input could be for instance the words being used in an email, where we have some form of dictionary where each word is represented by a dimension. The simplest form of decision problem is that of a binary decision, like in the case of logistic regression (the decision could be the most likely output). A commonly chosen example is that of email spam classification.\n",
    "\n",
    "> Goal: find a \"simple\" rule that performs well on training data\n",
    "\n",
    "## The perceptron algorithm\n",
    "\n",
    "The perceptron algorithm tries to find a linear separator, i.e. a plane in $\\mathbb{R}$ that separates the two classes. The task is thus to find $w$ and $t$ such that for the training data $S$, the data consists of pairs $(x_i,l_i)$ the $x_i$ represents our features and the $l_i$ our labels or target.\n",
    "\n",
    "$$\n",
    "\\begin{aligned}\n",
    "    w \\cdot x_i > t \\quad \\text{for each $x_i$ labeled $+1$} \\\\\n",
    "    w \\cdot x_i < t \\quad \\text{for each $x_i$ labeled $-1$}\n",
    "\\end{aligned}\n",
    "$$\n",
    "\n",
    "Adding a new coordinate to our space allows us to consider $\\hat x_i = (x_i,1)$ and $\\hat w = (w,t)$, this allows us to rewrite the inequalities above as\n",
    "\n",
    "$$\n",
    "    (\\hat w \\cdot \\hat x_i) l_i > 0.\n",
    "$$\n",
    "\n",
    "### The algorithm\n",
    "1. $w = 0$\n",
    "2. while there exists $x_i$ with $x_i l_i \\cdot w \\leq 0$, update $w := w+x_il_i$"
   ]
  },
  {
   "cell_type": "code",
   "execution_count": 5,
   "metadata": {},
   "outputs": [],
   "source": [
    "import numpy as np\n",
    "\n",
    "def gen_data(n_points=5,sep=1):\n",
    "    np.random.seed(3)\n",
    "    W = np.array([[1,-1],[1,1]])/np.sqrt(2)\n",
    "    rnd_pos_1 = np.random.uniform(0,1,size=(n_points,2))\n",
    "    X1 = (rnd_pos_1 + np.array([-1-sep,0]))@W\n",
    "    rnd_pos_2 = np.random.uniform(0,1,size=(n_points,2))\n",
    "    X2 = (rnd_pos_2 + np.array([+sep,0]))@W\n",
    "    \n",
    "    Xall = np.concatenate([X1,X2],axis=0)\n",
    "    y1 = np.ones(shape=n_points)\n",
    "    y2 = -np.ones(shape=n_points)\n",
    "    yall = np.concatenate([y1,y2])\n",
    "\n",
    "    X = np.concatenate([Xall,np.ones((n_points*2,1))],axis=1)\n",
    "    return X,X1,X2,Xall,yall\n",
    "X, X1, X2, Xall, yall = gen_data(n_points=100,sep=0.05)"
   ]
  },
  {
   "cell_type": "code",
   "execution_count": 6,
   "metadata": {},
   "outputs": [
    {
     "data": {
      "text/plain": [
       "<matplotlib.collections.PathCollection object at 0x2e6803a50>"
      ]
     },
     "execution_count": 6,
     "metadata": {},
     "output_type": "execute_result"
    },
    {
     "data": {
      "image/png": "[encoded data removed]",
      "text/plain": [
       "<Figure size 576x576 with 1 Axes>"
      ]
     },
     "metadata": {},
     "output_type": "display_data"
    }
   ],
   "source": [
    "%matplotlib inline\n",
    "import matplotlib.pyplot as plt\n",
    "plt.figure(figsize=(8,8))\n",
    "plt.scatter(X1[:,0],X1[:,1], color='red')\n",
    "plt.scatter(X2[:,0],X2[:,1], color='blue')"
   ]
  },
  {
   "cell_type": "code",
   "execution_count": 12,
   "metadata": {},
   "outputs": [
    {
     "data": {
      "application/vnd.jupyter.widget-view+json": {
       "model_id": "88c7c6d6067143399244c5b15ec3e316",
       "version_major": 2,
       "version_minor": 0
      },
      "text/plain": [
       "Interactive function <function _ at 0x2e6df7290> with 1 widget\n",
       "  n_steps: SelectionSlider(description='n_steps…"
      ]
     },
     "metadata": {},
     "output_type": "display_data"
    }
   ],
   "source": [
    "@interact\n",
    "def _(n_steps=(0,(0..63))):\n",
    "    # X = (n_points,3)\n",
    "    # W = (n_points,3)\n",
    "    n_points = X.shape[0]\n",
    "    W = np.array([0,0,0])\n",
    "    P=points(zip(X1[:,0],X1[:,1]),color='blue')\n",
    "    P+=points(zip(X2[:,0],X2[:,1]),color='red')\n",
    "    \n",
    "    k = 0\n",
    "    max_iter=10000\n",
    "    j = 0\n",
    "    while ((k < n_steps) and (j < max_iter)):\n",
    "        i = j % n_points\n",
    "        j+=1\n",
    "        if (X[i,:]@W * yall[i] <= 0):\n",
    "            W = W + X[i,:]*yall[i]\n",
    "            P+=points(X[i,:2],color='yellow')\n",
    "            k+=1\n",
    "    print(W)\n",
    "    \n",
    "    x_left = -2\n",
    "    x_right = 2\n",
    "    y_left = 0\n",
    "    y_right = 0\n",
    "    if (W[1] != 0):\n",
    "        y_left = (-W[2] - x_left*W[0])/W[1]\n",
    "        y_right = (-W[2] - x_right*W[0])/W[1]\n",
    "    P+=line([(x_left,y_left),(x_right,y_right)])\n",
    "    \n",
    "    show(P,xmin=-1,xmax=2,ymin=-1,ymax=2)"
   ]
  },
  {
   "cell_type": "markdown",
   "metadata": {},
   "source": [
    "### Theorem: Perceptron for linearly separable data\n",
    "> If there exists $w^\\ast$ such that $w^\\ast \\cdot x_i l_i \\geq 1$ for all $i$. Then the perceptron algorithm find a $w$ satisfying $w \\cdot x_i l_i \\geq 0$ for all $i$ in at most $r^2|w^\\ast|^2$ updates, where $r = \\max_i |x_i|$.\n",
    "\n",
    "So this theorem guarantees that if the two classes can be separated then the preceptron will also find a separator in finite time.\n",
    "\n",
    "### Kernels\n",
    "\n",
    "What about non-linearly separable data. Take for instance\n",
    "$$\n",
    "    X = (B_4 \\setminus B_3) \\cup B_1\n",
    "$$\n",
    "and let $c^\\ast = B_1$. We cannot separate these sets using a linear classifier"
   ]
  },
  {
   "cell_type": "code",
   "execution_count": 25,
   "metadata": {},
   "outputs": [
    {
     "data": {
      "image/png": "[encoded data removed]",
      "text/plain": [
       "Graphics object consisting of 2 graphics primitives"
      ]
     },
     "metadata": {},
     "output_type": "display_data"
    }
   ],
   "source": [
    "A = np.random.normal(size=(100,2))\n",
    "A_unit = A/(np.linalg.norm(A,axis=1).reshape(-1,1))\n",
    "radial_A = 3+np.random.uniform(size=(100,1))\n",
    "P=points(A_unit*radial_A,color='blue')\n",
    "\n",
    "B = np.random.normal(size=(100,2))\n",
    "B_unit = B/(np.linalg.norm(B,axis=1).reshape(-1,1))\n",
    "radial_B = np.random.uniform(size=(100,1))\n",
    "P+=points(B_unit*radial_B,color='red')\n",
    "P.show()"
   ]
  },
  {
   "cell_type": "markdown",
   "metadata": {},
   "source": [
    "we can however separate the following mapping of $X$. Namely in $\\mathbb R^2$ we can do\n",
    "$$\n",
    "    \\phi(x) = (x_1,x_2,x_1^2+x_2^2) \\in \\mathbb R^3\n",
    "$$\n",
    "This is clearly linearly separable as we can see in the following 3d plot"
   ]
  },
  {
   "cell_type": "code",
   "execution_count": 27,
   "metadata": {},
   "outputs": [
    {
     "data": {
      "text/html": [
       "\n",
       "<iframe srcdoc=\"<!DOCTYPE html>\n",
       "<html>\n",
       "<head>\n",
       "<title></title>\n",
       "<meta charset=&quot;utf-8&quot;>\n",
       "<meta name=viewport content=&quot;width=device-width, user-scalable=no, minimum-scale=1.0, maximum-scale=1.0&quot;>\n",
       "<style>\n",
       "\n",
       "    body { margin: 0px; overflow: hidden; }\n",
       "\n",
       "    #menu-container { position: absolute; bottom: 30px; right: 40px; cursor: default; }\n",
       "\n",
       "    #menu-message { position: absolute; bottom: 0px; right: 0px; white-space: nowrap;\n",
       "                    display: none; background-color: #F5F5F5; padding: 10px; }\n",
       "\n",
       "    #menu-content { position: absolute; bottom: 0px; right: 0px;\n",
       "                    display: none; background-color: #F5F5F5; border-bottom: 1px solid black;\n",
       "                    border-right: 1px solid black; border-left: 1px solid black; }\n",
       "\n",
       "    #menu-content div { border-top: 1px solid black; padding: 10px; white-space: nowrap; }\n",
       "\n",
       "    #menu-content div:hover { background-color: #FEFEFE;; }\n",
       "  \n",
       "</style>\n",
       "</head>\n",
       "\n",
       "<body>\n",
       "\n",
       "<script src=&quot;/nbextensions/threejs/build/three.min.js&quot;></script>\n",
       "<script src=&quot;/nbextensions/threejs/examples/js/controls/OrbitControls.js&quot;></script>\n",
       "<script>\n",
       "  if ( !window.THREE ) document.write(' \\\n",
       "<script src=&quot;https://cdn.jsdelivr.net/gh/mrdoob/three.js@r110/build/three.min.js&quot;><\\/script> \\\n",
       "<script src=&quot;https://cdn.jsdelivr.net/gh/mrdoob/three.js@r110/examples/js/controls/OrbitControls.js&quot;><\\/script> \\\n",
       "            ');\n",
       "</script>\n",
       "        \n",
       "<script>\n",
       "\n",
       "    var scene = new THREE.Scene();\n",
       "\n",
       "    var renderer = new THREE.WebGLRenderer( { antialias: true, preserveDrawingBuffer: true } );\n",
       "    renderer.setPixelRatio( window.devicePixelRatio );\n",
       "    renderer.setSize( window.innerWidth, window.innerHeight );\n",
       "    renderer.setClearColor( 0xffffff, 1 );\n",
       "    document.body.appendChild( renderer.domElement );\n",
       "\n",
       "    var options = {&quot;aspectRatio&quot;: [1.0, 1.0, 1.0], &quot;axes&quot;: false, &quot;axesLabels&quot;: [&quot;x&quot;, &quot;y&quot;, &quot;z&quot;], &quot;decimals&quot;: 2, &quot;frame&quot;: true, &quot;projection&quot;: &quot;perspective&quot;};\n",
       "\n",
       "    // When animations are supported by the viewer, the value 'false'\n",
       "    // will be replaced with an option set in Python by the user\n",
       "    var animate = false; // options.animate;\n",
       "\n",
       "    var b = [{&quot;x&quot;:-3.9849878210926355, &quot;y&quot;:-3.98642914758993, &quot;z&quot;:0.00023922540288327966}, {&quot;x&quot;:3.7754261303298406, &quot;y&quot;:3.9195041373363178, &quot;z&quot;:15.985820872330084}]; // bounds\n",
       "\n",
       "    if ( b[0].x === b[1].x ) {\n",
       "        b[0].x -= 1;\n",
       "        b[1].x += 1;\n",
       "    }\n",
       "    if ( b[0].y === b[1].y ) {\n",
       "        b[0].y -= 1;\n",
       "        b[1].y += 1;\n",
       "    }\n",
       "    if ( b[0].z === b[1].z ) {\n",
       "        b[0].z -= 1;\n",
       "        b[1].z += 1;\n",
       "    }\n",
       "\n",
       "    var rRange = Math.sqrt( Math.pow( b[1].x - b[0].x, 2 )\n",
       "                            + Math.pow( b[1].y - b[0].y, 2 ) );\n",
       "    var xRange = b[1].x - b[0].x;\n",
       "    var yRange = b[1].y - b[0].y;\n",
       "    var zRange = b[1].z - b[0].z;\n",
       "\n",
       "    var ar = options.aspectRatio;\n",
       "    var a = [ ar[0], ar[1], ar[2] ]; // aspect multipliers\n",
       "    var autoAspect = 2.5;\n",
       "    if ( zRange > autoAspect * rRange && a[2] === 1 ) a[2] = autoAspect * rRange / zRange;\n",
       "\n",
       "    // Distance from (xMid,yMid,zMid) to any corner of the bounding box, after applying aspectRatio\n",
       "    var midToCorner = Math.sqrt( a[0]*a[0]*xRange*xRange + a[1]*a[1]*yRange*yRange + a[2]*a[2]*zRange*zRange ) / 2;\n",
       "\n",
       "    var xMid = ( b[0].x + b[1].x ) / 2;\n",
       "    var yMid = ( b[0].y + b[1].y ) / 2;\n",
       "    var zMid = ( b[0].z + b[1].z ) / 2;\n",
       "\n",
       "    var box = new THREE.Geometry();\n",
       "    box.vertices.push( new THREE.Vector3( a[0]*b[0].x, a[1]*b[0].y, a[2]*b[0].z ) );\n",
       "    box.vertices.push( new THREE.Vector3( a[0]*b[1].x, a[1]*b[1].y, a[2]*b[1].z ) );\n",
       "    var boxMesh = new THREE.Line( box );\n",
       "    if ( options.frame ) scene.add( new THREE.BoxHelper( boxMesh, 'black' ) );\n",
       "\n",
       "    if ( options.axesLabels ) {\n",
       "\n",
       "        var d = options.decimals; // decimals\n",
       "        var offsetRatio = 0.1;\n",
       "        var al = options.axesLabels;\n",
       "\n",
       "        var offset = offsetRatio * a[1]*( b[1].y - b[0].y );\n",
       "        var xm = xMid.toFixed(d);\n",
       "        if ( /^-0.?0*$/.test(xm) ) xm = xm.substr(1);\n",
       "        addLabel( al[0] + '=' + xm, a[0]*xMid, a[1]*b[1].y+offset, a[2]*b[0].z );\n",
       "        addLabel( ( b[0].x ).toFixed(d), a[0]*b[0].x, a[1]*b[1].y+offset, a[2]*b[0].z );\n",
       "        addLabel( ( b[1].x ).toFixed(d), a[0]*b[1].x, a[1]*b[1].y+offset, a[2]*b[0].z );\n",
       "\n",
       "        var offset = offsetRatio * a[0]*( b[1].x - b[0].x );\n",
       "        var ym = yMid.toFixed(d);\n",
       "        if ( /^-0.?0*$/.test(ym) ) ym = ym.substr(1);\n",
       "        addLabel( al[1] + '=' + ym, a[0]*b[1].x+offset, a[1]*yMid, a[2]*b[0].z );\n",
       "        addLabel( ( b[0].y ).toFixed(d), a[0]*b[1].x+offset, a[1]*b[0].y, a[2]*b[0].z );\n",
       "        addLabel( ( b[1].y ).toFixed(d), a[0]*b[1].x+offset, a[1]*b[1].y, a[2]*b[0].z );\n",
       "\n",
       "        var offset = offsetRatio * a[1]*( b[1].y - b[0].y );\n",
       "        var zm = zMid.toFixed(d);\n",
       "        if ( /^-0.?0*$/.test(zm) ) zm = zm.substr(1);\n",
       "        addLabel( al[2] + '=' + zm, a[0]*b[1].x, a[1]*b[0].y-offset, a[2]*zMid );\n",
       "        addLabel( ( b[0].z ).toFixed(d), a[0]*b[1].x, a[1]*b[0].y-offset, a[2]*b[0].z );\n",
       "        addLabel( ( b[1].z ).toFixed(d), a[0]*b[1].x, a[1]*b[0].y-offset, a[2]*b[1].z );\n",
       "\n",
       "    }\n",
       "\n",
       "    function addLabel( text, x, y, z, color='black', fontsize=14  ) {\n",
       "\n",
       "        var canvas = document.createElement( 'canvas' );\n",
       "        var pixelRatio = Math.round( window.devicePixelRatio );\n",
       "        canvas.width = 128 * pixelRatio;\n",
       "        canvas.height = 32 * pixelRatio; // powers of two\n",
       "        canvas.style.width = '128px';\n",
       "        canvas.style.height = '32px';\n",
       "\n",
       "        var context = canvas.getContext( '2d' );\n",
       "        context.scale( pixelRatio, pixelRatio );\n",
       "        context.fillStyle = color;\n",
       "        context.font = fontsize + 'px monospace';\n",
       "        context.textAlign = 'center';\n",
       "        context.textBaseline = 'middle';\n",
       "        context.fillText( text, canvas.width/2/pixelRatio, canvas.height/2/pixelRatio );\n",
       "\n",
       "        var texture = new THREE.Texture( canvas );\n",
       "        texture.needsUpdate = true;\n",
       "\n",
       "        var sprite = new THREE.Sprite( new THREE.SpriteMaterial( { map: texture } ) );\n",
       "        sprite.position.set( x, y, z );\n",
       "\n",
       "        // Set the initial scale based on plot size to accomodate orthographic projection.\n",
       "        // For other projections, the scale will get reset each frame based on camera distance.\n",
       "        var scale = midToCorner/2;\n",
       "        sprite.scale.set( scale, scale*.25, 1 ); // ratio of canvas width to height\n",
       "\n",
       "        scene.add( sprite );\n",
       "\n",
       "    }\n",
       "\n",
       "    if ( options.axes ) scene.add( new THREE.AxesHelper( Math.min( a[0]*b[1].x, a[1]*b[1].y, a[2]*b[1].z ) ) );\n",
       "\n",
       "    var camera = createCamera();\n",
       "    camera.up.set( 0, 0, 1 );\n",
       "    camera.position.set( a[0]*(xMid+xRange), a[1]*(yMid+yRange), a[2]*(zMid+zRange) );\n",
       "\n",
       "    function createCamera() {\n",
       "\n",
       "        var aspect = window.innerWidth / window.innerHeight;\n",
       "\n",
       "        if ( options.projection === 'orthographic' ) {\n",
       "            var camera = new THREE.OrthographicCamera( -1, 1, 1, -1, -1000, 1000 );\n",
       "            updateCameraAspect( camera, aspect );\n",
       "            return camera;\n",
       "        }\n",
       "\n",
       "        return new THREE.PerspectiveCamera( 45, aspect, 0.1, 1000 );\n",
       "\n",
       "    }\n",
       "\n",
       "    function updateCameraAspect( camera, aspect ) {\n",
       "\n",
       "        if ( camera.isPerspectiveCamera ) {\n",
       "            camera.aspect = aspect;\n",
       "        } else if ( camera.isOrthographicCamera ) {\n",
       "            // Fit the camera frustum to the bounding box's diagonal so that the entire plot fits\n",
       "            // within at the default zoom level and camera position.\n",
       "            if ( aspect > 1 ) { // Wide window\n",
       "                camera.top = midToCorner;\n",
       "                camera.right = midToCorner * aspect;\n",
       "            } else { // Tall or square window\n",
       "                camera.top = midToCorner / aspect;\n",
       "                camera.right = midToCorner;\n",
       "            }\n",
       "            camera.bottom = -camera.top;\n",
       "            camera.left = -camera.right;\n",
       "        }\n",
       "\n",
       "        camera.updateProjectionMatrix();\n",
       "\n",
       "    }\n",
       "\n",
       "    var lights = [{&quot;x&quot;:-5, &quot;y&quot;:3, &quot;z&quot;:0, &quot;color&quot;:&quot;#7f7f7f&quot;, &quot;parent&quot;:&quot;camera&quot;}];\n",
       "    for ( var i=0 ; i < lights.length ; i++ ) {\n",
       "        var light = new THREE.DirectionalLight( lights[i].color, 1 );\n",
       "        light.position.set( a[0]*lights[i].x, a[1]*lights[i].y, a[2]*lights[i].z );\n",
       "        if ( lights[i].parent === 'camera' ) {\n",
       "            light.target.position.set( a[0]*xMid, a[1]*yMid, a[2]*zMid );\n",
       "            scene.add( light.target );\n",
       "            camera.add( light );\n",
       "        } else scene.add( light );\n",
       "    }\n",
       "    scene.add( camera );\n",
       "\n",
       "    var ambient = {&quot;color&quot;:&quot;#7f7f7f&quot;};\n",
       "    scene.add( new THREE.AmbientLight( ambient.color, 1 ) );\n",
       "\n",
       "    var controls = new THREE.OrbitControls( camera, renderer.domElement );\n",
       "    controls.target.set( a[0]*xMid, a[1]*yMid, a[2]*zMid );\n",
       "    controls.addEventListener( 'change', function() { if ( !animate ) render(); } );\n",
       "\n",
       "    window.addEventListener( 'resize', function() {\n",
       "        \n",
       "        renderer.setSize( window.innerWidth, window.innerHeight );\n",
       "        updateCameraAspect( camera, window.innerWidth / window.innerHeight );\n",
       "        if ( !animate ) render();\n",
       "        \n",
       "    } );\n",
       "\n",
       "    var texts = [];\n",
       "    for ( var i=0 ; i < texts.length ; i++ )\n",
       "        addLabel( texts[i].text, a[0]*texts[i].x, a[1]*texts[i].y, a[2]*texts[i].z, texts[i].color );\n",
       "\n",
       "    var points = [{&quot;point&quot;: [-3.19170224436023, 2.2396460554948443, 15.202977670547746], &quot;size&quot;: 20.0, &quot;color&quot;: &quot;#0000ff&quot;, &quot;opacity&quot;: 1.0}, {&quot;point&quot;: [2.9808800485228, -0.898949699343904, 9.693756425631786], &quot;size&quot;: 20.0, &quot;color&quot;: &quot;#0000ff&quot;, &quot;opacity&quot;: 1.0}, {&quot;point&quot;: [-3.4825807661795776, 0.9386799640479534, 13.009488867868999], &quot;size&quot;: 20.0, &quot;color&quot;: &quot;#0000ff&quot;, &quot;opacity&quot;: 1.0}, {&quot;point&quot;: [-2.728093763447594, 1.5324289811862954, 9.790834164541327], &quot;size&quot;: 20.0, &quot;color&quot;: &quot;#0000ff&quot;, &quot;opacity&quot;: 1.0}, {&quot;point&quot;: [-3.152132102699354, 1.5609712000080025, 12.37256788012227], &quot;size&quot;: 20.0, &quot;color&quot;: &quot;#0000ff&quot;, &quot;opacity&quot;: 1.0}, {&quot;point&quot;: [1.2613662769390883, 2.829483920959457, 9.597024143567278], &quot;size&quot;: 20.0, &quot;color&quot;: &quot;#0000ff&quot;, &quot;opacity&quot;: 1.0}, {&quot;point&quot;: [-0.20221974672932627, 3.5549519207655322, 12.67857598492182], &quot;size&quot;: 20.0, &quot;color&quot;: &quot;#0000ff&quot;, &quot;opacity&quot;: 1.0}, {&quot;point&quot;: [2.8858276356144192, 0.9335040403688468, 9.19943093586087], &quot;size&quot;: 20.0, &quot;color&quot;: &quot;#0000ff&quot;, &quot;opacity&quot;: 1.0}, {&quot;point&quot;: [2.2174488267142887, 3.00511753008463, 13.947810668718521], &quot;size&quot;: 20.0, &quot;color&quot;: &quot;#0000ff&quot;, &quot;opacity&quot;: 1.0}, {&quot;point&quot;: [1.5197912088832763, 3.2438113693663, 12.832077518628962], &quot;size&quot;: 20.0, &quot;color&quot;: &quot;#0000ff&quot;, &quot;opacity&quot;: 1.0}, {&quot;point&quot;: [0.8710203344430821, 2.975768608454646, 9.613875234077442], &quot;size&quot;: 20.0, &quot;color&quot;: &quot;#0000ff&quot;, &quot;opacity&quot;: 1.0}, {&quot;point&quot;: [3.258630699884863, 1.2322225427965225, 12.137046433208043], &quot;size&quot;: 20.0, &quot;color&quot;: &quot;#0000ff&quot;, &quot;opacity&quot;: 1.0}, {&quot;point&quot;: [2.7923173891716293, 2.7290195268940467, 15.24458398003927], &quot;size&quot;: 20.0, &quot;color&quot;: &quot;#0000ff&quot;, &quot;opacity&quot;: 1.0}, {&quot;point&quot;: [-3.9849878210926355, -0.32510450331155455, 15.985820872330084], &quot;size&quot;: 20.0, &quot;color&quot;: &quot;#0000ff&quot;, &quot;opacity&quot;: 1.0}, {&quot;point&quot;: [2.750973257489407, 1.3086360933885188, 9.280382288341043], &quot;size&quot;: 20.0, &quot;color&quot;: &quot;#0000ff&quot;, &quot;opacity&quot;: 1.0}, {&quot;point&quot;: [-2.636927991860223, -2.9123067700447147, 15.434919957104267], &quot;size&quot;: 20.0, &quot;color&quot;: &quot;#0000ff&quot;, &quot;opacity&quot;: 1.0}, {&quot;point&quot;: [-2.5681639337539464, -1.97166080275123, 10.48291231174017], &quot;size&quot;: 20.0, &quot;color&quot;: &quot;#0000ff&quot;, &quot;opacity&quot;: 1.0}, {&quot;point&quot;: [0.6009150341996465, 3.6434041635051932, 13.63549277697414], &quot;size&quot;: 20.0, &quot;color&quot;: &quot;#0000ff&quot;, &quot;opacity&quot;: 1.0}, {&quot;point&quot;: [-1.301261060081156, 3.692508736960337, 15.327901119011955], &quot;size&quot;: 20.0, &quot;color&quot;: &quot;#0000ff&quot;, &quot;opacity&quot;: 1.0}, {&quot;point&quot;: [-3.1314811544148364, 0.9485211626534376, 10.705866616456706], &quot;size&quot;: 20.0, &quot;color&quot;: &quot;#0000ff&quot;, &quot;opacity&quot;: 1.0}, {&quot;point&quot;: [0.0004571880044818194, 3.63531527418656, 13.215517351754977], &quot;size&quot;: 20.0, &quot;color&quot;: &quot;#0000ff&quot;, &quot;opacity&quot;: 1.0}, {&quot;point&quot;: [3.01722436791337, 1.0021807277788297, 10.108009097461544], &quot;size&quot;: 20.0, &quot;color&quot;: &quot;#0000ff&quot;, &quot;opacity&quot;: 1.0}, {&quot;point&quot;: [-0.6650979850016061, 3.749703619994857, 14.50263256745573], &quot;size&quot;: 20.0, &quot;color&quot;: &quot;#0000ff&quot;, &quot;opacity&quot;: 1.0}, {&quot;point&quot;: [1.9833616616505823, 2.397228544479691, 9.680428175373574], &quot;size&quot;: 20.0, &quot;color&quot;: &quot;#0000ff&quot;, &quot;opacity&quot;: 1.0}, {&quot;point&quot;: [0.4548383931026488, -3.68663322336501, 13.798142487458884], &quot;size&quot;: 20.0, &quot;color&quot;: &quot;#0000ff&quot;, &quot;opacity&quot;: 1.0}, {&quot;point&quot;: [3.0110026839220887, -2.036014932145337, 13.211493966504804], &quot;size&quot;: 20.0, &quot;color&quot;: &quot;#0000ff&quot;, &quot;opacity&quot;: 1.0}, {&quot;point&quot;: [2.3377809888059318, -2.6305463216993608, 12.384993902228475], &quot;size&quot;: 20.0, &quot;color&quot;: &quot;#0000ff&quot;, &quot;opacity&quot;: 1.0}, {&quot;point&quot;: [-0.7073270829810228, 3.7992021910117377, 14.934248890506833], &quot;size&quot;: 20.0, &quot;color&quot;: &quot;#0000ff&quot;, &quot;opacity&quot;: 1.0}, {&quot;point&quot;: [-2.6926015453159398, 1.6843194761369202, 10.087035179531936], &quot;size&quot;: 20.0, &quot;color&quot;: &quot;#0000ff&quot;, &quot;opacity&quot;: 1.0}, {&quot;point&quot;: [2.66299232499065, -2.1405968963209387, 11.673683195497945], &quot;size&quot;: 20.0, &quot;color&quot;: &quot;#0000ff&quot;, &quot;opacity&quot;: 1.0}, {&quot;point&quot;: [-2.308196703887443, 3.237262737200569, 15.807642053504175], &quot;size&quot;: 20.0, &quot;color&quot;: &quot;#0000ff&quot;, &quot;opacity&quot;: 1.0}, {&quot;point&quot;: [-3.2055414978166006, -2.1448825453552143, 14.876017427593757], &quot;size&quot;: 20.0, &quot;color&quot;: &quot;#0000ff&quot;, &quot;opacity&quot;: 1.0}, {&quot;point&quot;: [-3.5131591412933565, -1.3151340090415957, 14.071864613790897], &quot;size&quot;: 20.0, &quot;color&quot;: &quot;#0000ff&quot;, &quot;opacity&quot;: 1.0}, {&quot;point&quot;: [1.0291234677113148, -3.5746860995043286, 13.837475821783631], &quot;size&quot;: 20.0, &quot;color&quot;: &quot;#0000ff&quot;, &quot;opacity&quot;: 1.0}, {&quot;point&quot;: [-1.5454605692220678, 2.6050800653262574, 9.174890517780455], &quot;size&quot;: 20.0, &quot;color&quot;: &quot;#0000ff&quot;, &quot;opacity&quot;: 1.0}, {&quot;point&quot;: [3.0592067288059606, -2.122976153248995, 13.865773556835565], &quot;size&quot;: 20.0, &quot;color&quot;: &quot;#0000ff&quot;, &quot;opacity&quot;: 1.0}, {&quot;point&quot;: [-1.976481282030991, 2.6768974910366694, 11.072258435737286], &quot;size&quot;: 20.0, &quot;color&quot;: &quot;#0000ff&quot;, &quot;opacity&quot;: 1.0}, {&quot;point&quot;: [0.04663386285676067, -3.98642914758993, 15.893792065919516], &quot;size&quot;: 20.0, &quot;color&quot;: &quot;#0000ff&quot;, &quot;opacity&quot;: 1.0}, {&quot;point&quot;: [1.9327893627413804, 3.1026656364004177, 13.362208772026237], &quot;size&quot;: 20.0, &quot;color&quot;: &quot;#0000ff&quot;, &quot;opacity&quot;: 1.0}, {&quot;point&quot;: [-3.298880106808328, -0.26786245473164216, 10.954360253750586], &quot;size&quot;: 20.0, &quot;color&quot;: &quot;#0000ff&quot;, &quot;opacity&quot;: 1.0}, {&quot;point&quot;: [-3.7915765449349697, -1.2321193900195015, 15.89417088736303], &quot;size&quot;: 20.0, &quot;color&quot;: &quot;#0000ff&quot;, &quot;opacity&quot;: 1.0}, {&quot;point&quot;: [-0.6497081532487893, -3.213965189379485, 10.75169292294106], &quot;size&quot;: 20.0, &quot;color&quot;: &quot;#0000ff&quot;, &quot;opacity&quot;: 1.0}, {&quot;point&quot;: [3.7469429449827403, -1.0670870571811153, 15.178256220559383], &quot;size&quot;: 20.0, &quot;color&quot;: &quot;#0000ff&quot;, &quot;opacity&quot;: 1.0}, {&quot;point&quot;: [-0.14617779310351833, 3.279403423293689, 10.775854759906979], &quot;size&quot;: 20.0, &quot;color&quot;: &quot;#0000ff&quot;, &quot;opacity&quot;: 1.0}, {&quot;point&quot;: [0.1165758049959918, 3.531460977532106, 12.484806554142484], &quot;size&quot;: 20.0, &quot;color&quot;: &quot;#0000ff&quot;, &quot;opacity&quot;: 1.0}, {&quot;point&quot;: [0.32801082195700426, 3.9195041373363178, 15.470103781917423], &quot;size&quot;: 20.0, &quot;color&quot;: &quot;#0000ff&quot;, &quot;opacity&quot;: 1.0}, {&quot;point&quot;: [1.6758346090089011, -2.688215213484778, 10.034922670763025], &quot;size&quot;: 20.0, &quot;color&quot;: &quot;#0000ff&quot;, &quot;opacity&quot;: 1.0}, {&quot;point&quot;: [-3.6979236408835265, 0.5556096826511118, 13.983341373260945], &quot;size&quot;: 20.0, &quot;color&quot;: &quot;#0000ff&quot;, &quot;opacity&quot;: 1.0}, {&quot;point&quot;: [2.1501385362519674, 2.635737578265389, 11.570208306556053], &quot;size&quot;: 20.0, &quot;color&quot;: &quot;#0000ff&quot;, &quot;opacity&quot;: 1.0}, {&quot;point&quot;: [-0.05157600270895589, -3.3079989330128834, 10.945517024869808], &quot;size&quot;: 20.0, &quot;color&quot;: &quot;#0000ff&quot;, &quot;opacity&quot;: 1.0}, {&quot;point&quot;: [1.5309399692972478, -2.744712286585807, 9.877222725726945], &quot;size&quot;: 20.0, &quot;color&quot;: &quot;#0000ff&quot;, &quot;opacity&quot;: 1.0}, {&quot;point&quot;: [0.2863537212256021, -3.921347623668722, 15.458965639312085], &quot;size&quot;: 20.0, &quot;color&quot;: &quot;#0000ff&quot;, &quot;opacity&quot;: 1.0}, {&quot;point&quot;: [-1.2542851161430841, 2.7444434154868977, 9.105200813387459], &quot;size&quot;: 20.0, &quot;color&quot;: &quot;#0000ff&quot;, &quot;opacity&quot;: 1.0}, {&quot;point&quot;: [0.4171074625350342, -3.1727795673791666, 10.240508818481146], &quot;size&quot;: 20.0, &quot;color&quot;: &quot;#0000ff&quot;, &quot;opacity&quot;: 1.0}, {&quot;point&quot;: [3.380823122699903, -0.8786384390853654, 12.20197049362069], &quot;size&quot;: 20.0, &quot;color&quot;: &quot;#0000ff&quot;, &quot;opacity&quot;: 1.0}, {&quot;point&quot;: [-1.2191461279476747, 3.4287658415682705, 13.242752477595179], &quot;size&quot;: 20.0, &quot;color&quot;: &quot;#0000ff&quot;, &quot;opacity&quot;: 1.0}, {&quot;point&quot;: [1.9034844815312117, -2.887656349122474, 11.961812362057481], &quot;size&quot;: 20.0, &quot;color&quot;: &quot;#0000ff&quot;, &quot;opacity&quot;: 1.0}, {&quot;point&quot;: [-2.9606970371015464, 1.4020230056310368, 10.73139545382056], &quot;size&quot;: 20.0, &quot;color&quot;: &quot;#0000ff&quot;, &quot;opacity&quot;: 1.0}, {&quot;point&quot;: [-1.2056994233257228, 3.2848047265231664, 12.243653190796914], &quot;size&quot;: 20.0, &quot;color&quot;: &quot;#0000ff&quot;, &quot;opacity&quot;: 1.0}, {&quot;point&quot;: [-2.5146046011639727, -2.482516955972265, 12.486126736884822], &quot;size&quot;: 20.0, &quot;color&quot;: &quot;#0000ff&quot;, &quot;opacity&quot;: 1.0}, {&quot;point&quot;: [-3.238904466873585, 1.4483496082748095, 12.588218733323455], &quot;size&quot;: 20.0, &quot;color&quot;: &quot;#0000ff&quot;, &quot;opacity&quot;: 1.0}, {&quot;point&quot;: [0.22794466064564614, 3.311173693900681, 11.015829999496741], &quot;size&quot;: 20.0, &quot;color&quot;: &quot;#0000ff&quot;, &quot;opacity&quot;: 1.0}, {&quot;point&quot;: [-3.065172519790018, -2.4165296096762576, 15.234897930517976], &quot;size&quot;: 20.0, &quot;color&quot;: &quot;#0000ff&quot;, &quot;opacity&quot;: 1.0}, {&quot;point&quot;: [2.2081685889899245, -2.1376322584349694, 9.445480189703542], &quot;size&quot;: 20.0, &quot;color&quot;: &quot;#0000ff&quot;, &quot;opacity&quot;: 1.0}, {&quot;point&quot;: [-3.591345887743783, -0.7170297818496405, 13.411896993473526], &quot;size&quot;: 20.0, &quot;color&quot;: &quot;#0000ff&quot;, &quot;opacity&quot;: 1.0}, {&quot;point&quot;: [2.640185336936089, -1.7760152568391459, 10.124808805897745], &quot;size&quot;: 20.0, &quot;color&quot;: &quot;#0000ff&quot;, &quot;opacity&quot;: 1.0}, {&quot;point&quot;: [2.1946383821836317, 2.919474365096394, 13.33976819700858], &quot;size&quot;: 20.0, &quot;color&quot;: &quot;#0000ff&quot;, &quot;opacity&quot;: 1.0}, {&quot;point&quot;: [2.686472845088171, 1.8355472650122986, 10.586370109490263], &quot;size&quot;: 20.0, &quot;color&quot;: &quot;#0000ff&quot;, &quot;opacity&quot;: 1.0}, {&quot;point&quot;: [3.442864616741903, 1.3167908455344044, 13.587254900096584], &quot;size&quot;: 20.0, &quot;color&quot;: &quot;#0000ff&quot;, &quot;opacity&quot;: 1.0}, {&quot;point&quot;: [-2.5404619654495577, -1.956970135347211, 10.283679108536713], &quot;size&quot;: 20.0, &quot;color&quot;: &quot;#0000ff&quot;, &quot;opacity&quot;: 1.0}, {&quot;point&quot;: [3.4316815674734453, 0.6339032145088436, 12.17827166590165], &quot;size&quot;: 20.0, &quot;color&quot;: &quot;#0000ff&quot;, &quot;opacity&quot;: 1.0}, {&quot;point&quot;: [-0.16541265033064262, 3.5745007859308053, 12.80441721350935], &quot;size&quot;: 20.0, &quot;color&quot;: &quot;#0000ff&quot;, &quot;opacity&quot;: 1.0}, {&quot;point&quot;: [-1.060732492963675, 3.557116735134038, 13.778232888999566], &quot;size&quot;: 20.0, &quot;color&quot;: &quot;#0000ff&quot;, &quot;opacity&quot;: 1.0}, {&quot;point&quot;: [3.1840084237721915, -1.9022740645947105, 13.756556259481957], &quot;size&quot;: 20.0, &quot;color&quot;: &quot;#0000ff&quot;, &quot;opacity&quot;: 1.0}, {&quot;point&quot;: [-1.8556826148259868, -2.6721019713545457, 10.58368691228426], &quot;size&quot;: 20.0, &quot;color&quot;: &quot;#0000ff&quot;, &quot;opacity&quot;: 1.0}, {&quot;point&quot;: [2.242625360851541, -2.7369326054992924, 12.52016859617965], &quot;size&quot;: 20.0, &quot;color&quot;: &quot;#0000ff&quot;, &quot;opacity&quot;: 1.0}, {&quot;point&quot;: [-2.0830155724048813, 2.7128731828247266, 11.698634780970798], &quot;size&quot;: 20.0, &quot;color&quot;: &quot;#0000ff&quot;, &quot;opacity&quot;: 1.0}, {&quot;point&quot;: [3.572429607108733, 0.9140837016680998, 13.597802311402313], &quot;size&quot;: 20.0, &quot;color&quot;: &quot;#0000ff&quot;, &quot;opacity&quot;: 1.0}, {&quot;point&quot;: [2.004370113324183, -2.48522100434272, 10.19382299161344], &quot;size&quot;: 20.0, &quot;color&quot;: &quot;#0000ff&quot;, &quot;opacity&quot;: 1.0}, {&quot;point&quot;: [2.5674801339458098, 2.8087199310065247, 14.480861889039693], &quot;size&quot;: 20.0, &quot;color&quot;: &quot;#0000ff&quot;, &quot;opacity&quot;: 1.0}, {&quot;point&quot;: [-2.6956628202418296, 1.8373715893731557, 10.642532397869772], &quot;size&quot;: 20.0, &quot;color&quot;: &quot;#0000ff&quot;, &quot;opacity&quot;: 1.0}, {&quot;point&quot;: [1.7813087831420436, -3.263829408384518, 13.82564338793462], &quot;size&quot;: 20.0, &quot;color&quot;: &quot;#0000ff&quot;, &quot;opacity&quot;: 1.0}, {&quot;point&quot;: [-2.0788810200529473, -2.897120239353141, 12.715051976805986], &quot;size&quot;: 20.0, &quot;color&quot;: &quot;#0000ff&quot;, &quot;opacity&quot;: 1.0}, {&quot;point&quot;: [0.01920435468236094, -3.7818182399192035, 14.302518007024347], &quot;size&quot;: 20.0, &quot;color&quot;: &quot;#0000ff&quot;, &quot;opacity&quot;: 1.0}, {&quot;point&quot;: [3.7754261303298406, 0.35209336519450757, 14.377812203391349], &quot;size&quot;: 20.0, &quot;color&quot;: &quot;#0000ff&quot;, &quot;opacity&quot;: 1.0}, {&quot;point&quot;: [3.338144354671614, 0.23687803240149077, 11.199318934860367], &quot;size&quot;: 20.0, &quot;color&quot;: &quot;#0000ff&quot;, &quot;opacity&quot;: 1.0}, {&quot;point&quot;: [-0.7942537782923661, 3.8485562532671627, 15.44222429889348], &quot;size&quot;: 20.0, &quot;color&quot;: &quot;#0000ff&quot;, &quot;opacity&quot;: 1.0}, {&quot;point&quot;: [-1.4485321621789513, 3.5551870383935134, 14.73760030282807], &quot;size&quot;: 20.0, &quot;color&quot;: &quot;#0000ff&quot;, &quot;opacity&quot;: 1.0}, {&quot;point&quot;: [-3.8347879262194557, 0.9658963737730004, 15.638554243946343], &quot;size&quot;: 20.0, &quot;color&quot;: &quot;#0000ff&quot;, &quot;opacity&quot;: 1.0}, {&quot;point&quot;: [2.8136101682793315, 2.562444307526303, 14.482523008218802], &quot;size&quot;: 20.0, &quot;color&quot;: &quot;#0000ff&quot;, &quot;opacity&quot;: 1.0}, {&quot;point&quot;: [0.12715231561847823, -3.7254219096977668, 13.894936116623295], &quot;size&quot;: 20.0, &quot;color&quot;: &quot;#0000ff&quot;, &quot;opacity&quot;: 1.0}, {&quot;point&quot;: [-2.6678470837287334, 2.7478630091921104, 14.668159179446226], &quot;size&quot;: 20.0, &quot;color&quot;: &quot;#0000ff&quot;, &quot;opacity&quot;: 1.0}, {&quot;point&quot;: [3.661813499063857, -0.39145467373259213, 13.562114863513377], &quot;size&quot;: 20.0, &quot;color&quot;: &quot;#0000ff&quot;, &quot;opacity&quot;: 1.0}, {&quot;point&quot;: [-3.498738133590389, -0.4527880021452078, 12.446185502326207], &quot;size&quot;: 20.0, &quot;color&quot;: &quot;#0000ff&quot;, &quot;opacity&quot;: 1.0}, {&quot;point&quot;: [3.4079904570547104, 1.1030607823481113, 12.831142044930402], &quot;size&quot;: 20.0, &quot;color&quot;: &quot;#0000ff&quot;, &quot;opacity&quot;: 1.0}, {&quot;point&quot;: [3.655943855949086, -0.08974333383609358, 13.373979343819887], &quot;size&quot;: 20.0, &quot;color&quot;: &quot;#0000ff&quot;, &quot;opacity&quot;: 1.0}, {&quot;point&quot;: [1.8533436912539594, -2.4553248741030314, 9.46350307529992], &quot;size&quot;: 20.0, &quot;color&quot;: &quot;#0000ff&quot;, &quot;opacity&quot;: 1.0}, {&quot;point&quot;: [-1.2380078900584186, -3.4538116204571394, 13.461478245451667], &quot;size&quot;: 20.0, &quot;color&quot;: &quot;#0000ff&quot;, &quot;opacity&quot;: 1.0}, {&quot;point&quot;: [-1.5249526147611074, 2.585672081485488, 9.011180590240231], &quot;size&quot;: 20.0, &quot;color&quot;: &quot;#0000ff&quot;, &quot;opacity&quot;: 1.0}, {&quot;point&quot;: [3.7168617966255497, -0.2190143372358444, 13.863028895129364], &quot;size&quot;: 20.0, &quot;color&quot;: &quot;#0000ff&quot;, &quot;opacity&quot;: 1.0}, {&quot;point&quot;: [-0.15414584584320304, 0.16564838151679617, 0.05120032808985058], &quot;size&quot;: 20.0, &quot;color&quot;: &quot;#ff0000&quot;, &quot;opacity&quot;: 1.0}, {&quot;point&quot;: [-0.6998410496643854, -0.6402920339081577, 0.899751383481594], &quot;size&quot;: 20.0, &quot;color&quot;: &quot;#ff0000&quot;, &quot;opacity&quot;: 1.0}, {&quot;point&quot;: [0.13535356915033472, -0.21423375752563184, 0.06421669154528567], &quot;size&quot;: 20.0, &quot;color&quot;: &quot;#ff0000&quot;, &quot;opacity&quot;: 1.0}, {&quot;point&quot;: [-0.24021761932010277, -0.5773958423878547, 0.3910904634385982], &quot;size&quot;: 20.0, &quot;color&quot;: &quot;#ff0000&quot;, &quot;opacity&quot;: 1.0}, {&quot;point&quot;: [-0.7835112916256067, -0.47059968244098077, 0.8353540052183785], &quot;size&quot;: 20.0, &quot;color&quot;: &quot;#ff0000&quot;, &quot;opacity&quot;: 1.0}, {&quot;point&quot;: [0.3055218001672948, -0.08512652420660212, 0.10059009550096162], &quot;size&quot;: 20.0, &quot;color&quot;: &quot;#ff0000&quot;, &quot;opacity&quot;: 1.0}, {&quot;point&quot;: [0.640793563814873, 0.06937610681991889, 0.4154294356240544], &quot;size&quot;: 20.0, &quot;color&quot;: &quot;#ff0000&quot;, &quot;opacity&quot;: 1.0}, {&quot;point&quot;: [0.5208353627985254, 0.34441292145044294, 0.38988973560350043], &quot;size&quot;: 20.0, &quot;color&quot;: &quot;#ff0000&quot;, &quot;opacity&quot;: 1.0}, {&quot;point&quot;: [-0.3440578823799267, -0.6458218644907916, 0.5354617070821218], &quot;size&quot;: 20.0, &quot;color&quot;: &quot;#ff0000&quot;, &quot;opacity&quot;: 1.0}, {&quot;point&quot;: [-0.10376135608414376, -0.2224918518633992, 0.06026904316202524], &quot;size&quot;: 20.0, &quot;color&quot;: &quot;#ff0000&quot;, &quot;opacity&quot;: 1.0}, {&quot;point&quot;: [-0.9792265980984669, 0.13072602690457039, 0.9759740245337509], &quot;size&quot;: 20.0, &quot;color&quot;: &quot;#ff0000&quot;, &quot;opacity&quot;: 1.0}, {&quot;point&quot;: [0.07109474709966969, -0.08099387701775695, 0.01161447117953353], &quot;size&quot;: 20.0, &quot;color&quot;: &quot;#ff0000&quot;, &quot;opacity&quot;: 1.0}, {&quot;point&quot;: [0.007680193417627964, -0.33126316386269616, 0.10979426910325568], &quot;size&quot;: 20.0, &quot;color&quot;: &quot;#ff0000&quot;, &quot;opacity&quot;: 1.0}, {&quot;point&quot;: [0.07861429580517214, 0.16107416494443633, 0.03212509411749058], &quot;size&quot;: 20.0, &quot;color&quot;: &quot;#ff0000&quot;, &quot;opacity&quot;: 1.0}, {&quot;point&quot;: [0.2772934694346934, -0.2534329547894084, 0.1411199307644196], &quot;size&quot;: 20.0, &quot;color&quot;: &quot;#ff0000&quot;, &quot;opacity&quot;: 1.0}, {&quot;point&quot;: [-0.3188247926858102, 0.272014346278133, 0.1756410530122699], &quot;size&quot;: 20.0, &quot;color&quot;: &quot;#ff0000&quot;, &quot;opacity&quot;: 1.0}, {&quot;point&quot;: [0.13752725338299496, 0.32200705755137404, 0.12260229053596443], &quot;size&quot;: 20.0, &quot;color&quot;: &quot;#ff0000&quot;, &quot;opacity&quot;: 1.0}, {&quot;point&quot;: [-0.21836840621983147, -0.05878486673494594, 0.05114042139203468], &quot;size&quot;: 20.0, &quot;color&quot;: &quot;#ff0000&quot;, &quot;opacity&quot;: 1.0}, {&quot;point&quot;: [-0.7868321190751854, -0.5586543283842916, 0.9311994422308506], &quot;size&quot;: 20.0, &quot;color&quot;: &quot;#ff0000&quot;, &quot;opacity&quot;: 1.0}, {&quot;point&quot;: [0.011320880553412484, 0.010538646325721662, 0.00023922540288327966], &quot;size&quot;: 20.0, &quot;color&quot;: &quot;#ff0000&quot;, &quot;opacity&quot;: 1.0}, {&quot;point&quot;: [0.36519282338133335, -0.016123131907117155, 0.13362575363172402], &quot;size&quot;: 20.0, &quot;color&quot;: &quot;#ff0000&quot;, &quot;opacity&quot;: 1.0}, {&quot;point&quot;: [0.21121881146724003, 0.003387254528227409, 0.04462485981087248], &quot;size&quot;: 20.0, &quot;color&quot;: &quot;#ff0000&quot;, &quot;opacity&quot;: 1.0}, {&quot;point&quot;: [0.023017667263133847, -0.019651715744083136, 0.0009160029379225885], &quot;size&quot;: 20.0, &quot;color&quot;: &quot;#ff0000&quot;, &quot;opacity&quot;: 1.0}, {&quot;point&quot;: [-0.04237883973998389, 0.7574383347197519, 0.5755087969607381], &quot;size&quot;: 20.0, &quot;color&quot;: &quot;#ff0000&quot;, &quot;opacity&quot;: 1.0}, {&quot;point&quot;: [-0.055078963689020766, 0.4287832598988172, 0.18688877621051309], &quot;size&quot;: 20.0, &quot;color&quot;: &quot;#ff0000&quot;, &quot;opacity&quot;: 1.0}, {&quot;point&quot;: [0.7454684051656364, -0.4031438785486371, 0.7182481299114356], &quot;size&quot;: 20.0, &quot;color&quot;: &quot;#ff0000&quot;, &quot;opacity&quot;: 1.0}, {&quot;point&quot;: [0.45729631143991417, -0.12405625628563317, 0.2245098711801577], &quot;size&quot;: 20.0, &quot;color&quot;: &quot;#ff0000&quot;, &quot;opacity&quot;: 1.0}, {&quot;point&quot;: [-0.37683338960871243, -0.39558479140727376, 0.2984907307167279], &quot;size&quot;: 20.0, &quot;color&quot;: &quot;#ff0000&quot;, &quot;opacity&quot;: 1.0}, {&quot;point&quot;: [0.07089448779006913, 0.07185037878501027, 0.010188505330565714], &quot;size&quot;: 20.0, &quot;color&quot;: &quot;#ff0000&quot;, &quot;opacity&quot;: 1.0}, {&quot;point&quot;: [-0.05997344587149486, -0.39297390429469214, 0.15802530366631495], &quot;size&quot;: 20.0, &quot;color&quot;: &quot;#ff0000&quot;, &quot;opacity&quot;: 1.0}, {&quot;point&quot;: [0.08410656824382623, -0.8350949131976507, 0.7044574288703451], &quot;size&quot;: 20.0, &quot;color&quot;: &quot;#ff0000&quot;, &quot;opacity&quot;: 1.0}, {&quot;point&quot;: [0.04443019335054983, -0.253857206813893, 0.0664175235325189], &quot;size&quot;: 20.0, &quot;color&quot;: &quot;#ff0000&quot;, &quot;opacity&quot;: 1.0}, {&quot;point&quot;: [-0.0511199148325695, -0.29592830258536135, 0.09018680596354237], &quot;size&quot;: 20.0, &quot;color&quot;: &quot;#ff0000&quot;, &quot;opacity&quot;: 1.0}, {&quot;point&quot;: [-0.068712383548311, -0.25975039285594936, 0.07219165824171024], &quot;size&quot;: 20.0, &quot;color&quot;: &quot;#ff0000&quot;, &quot;opacity&quot;: 1.0}, {&quot;point&quot;: [0.05058267640858616, 0.5809314494492086, 0.34003995611181415], &quot;size&quot;: 20.0, &quot;color&quot;: &quot;#ff0000&quot;, &quot;opacity&quot;: 1.0}, {&quot;point&quot;: [-0.5865614369178271, -0.8069257048833726, 0.9951834124806338], &quot;size&quot;: 20.0, &quot;color&quot;: &quot;#ff0000&quot;, &quot;opacity&quot;: 1.0}, {&quot;point&quot;: [-0.15834937943616914, 0.0526930046148227, 0.02785107870315759], &quot;size&quot;: 20.0, &quot;color&quot;: &quot;#ff0000&quot;, &quot;opacity&quot;: 1.0}, {&quot;point&quot;: [-0.7316340637441497, -0.541253641126248, 0.8282439072631997], &quot;size&quot;: 20.0, &quot;color&quot;: &quot;#ff0000&quot;, &quot;opacity&quot;: 1.0}, {&quot;point&quot;: [0.10513999841232713, 0.5521819134532628, 0.31595928481105073], &quot;size&quot;: 20.0, &quot;color&quot;: &quot;#ff0000&quot;, &quot;opacity&quot;: 1.0}, {&quot;point&quot;: [-0.10457538096057749, -0.7041525395548595, 0.5067668092646078], &quot;size&quot;: 20.0, &quot;color&quot;: &quot;#ff0000&quot;, &quot;opacity&quot;: 1.0}, {&quot;point&quot;: [-0.1688799657469459, 0.3176995760031693, 0.12945346342328315], &quot;size&quot;: 20.0, &quot;color&quot;: &quot;#ff0000&quot;, &quot;opacity&quot;: 1.0}, {&quot;point&quot;: [-0.07425471196947414, -0.06060384449870531, 0.009186588217692821], &quot;size&quot;: 20.0, &quot;color&quot;: &quot;#ff0000&quot;, &quot;opacity&quot;: 1.0}, {&quot;point&quot;: [0.37712589884903264, 0.15963731787284, 0.167708016840325], &quot;size&quot;: 20.0, &quot;color&quot;: &quot;#ff0000&quot;, &quot;opacity&quot;: 1.0}, {&quot;point&quot;: [0.1338946623306238, 0.08812281505971148, 0.025693411134679874], &quot;size&quot;: 20.0, &quot;color&quot;: &quot;#ff0000&quot;, &quot;opacity&quot;: 1.0}, {&quot;point&quot;: [0.09326601307922944, 0.0027323346895172275, 0.008706014848550535], &quot;size&quot;: 20.0, &quot;color&quot;: &quot;#ff0000&quot;, &quot;opacity&quot;: 1.0}, {&quot;point&quot;: [0.3520442380829939, 0.22232507438835689, 0.17336358426922407], &quot;size&quot;: 20.0, &quot;color&quot;: &quot;#ff0000&quot;, &quot;opacity&quot;: 1.0}, {&quot;point&quot;: [-0.1278699881398946, -0.11952461545304698, 0.03063686756609554], &quot;size&quot;: 20.0, &quot;color&quot;: &quot;#ff0000&quot;, &quot;opacity&quot;: 1.0}, {&quot;point&quot;: [0.2557597549411214, -0.5359617705941297, 0.35266807178593695], &quot;size&quot;: 20.0, &quot;color&quot;: &quot;#ff0000&quot;, &quot;opacity&quot;: 1.0}, {&quot;point&quot;: [0.9623915007883906, 0.1321933331284396, 0.9436724781133374], &quot;size&quot;: 20.0, &quot;color&quot;: &quot;#ff0000&quot;, &quot;opacity&quot;: 1.0}, {&quot;point&quot;: [0.5932496646284865, 0.028772276848231203, 0.35277300849684295], &quot;size&quot;: 20.0, &quot;color&quot;: &quot;#ff0000&quot;, &quot;opacity&quot;: 1.0}, {&quot;point&quot;: [0.44531113420636204, -0.1697076114611039, 0.2271026796359896], &quot;size&quot;: 20.0, &quot;color&quot;: &quot;#ff0000&quot;, &quot;opacity&quot;: 1.0}, {&quot;point&quot;: [-0.4877538530698452, -0.3172893805424887, 0.3385763721895163], &quot;size&quot;: 20.0, &quot;color&quot;: &quot;#ff0000&quot;, &quot;opacity&quot;: 1.0}, {&quot;point&quot;: [-0.03999599772425843, -0.13570906419595175, 0.020016629938899834], &quot;size&quot;: 20.0, &quot;color&quot;: &quot;#ff0000&quot;, &quot;opacity&quot;: 1.0}, {&quot;point&quot;: [0.895300364706514, 0.12438633189862015, 0.8170347026068107], &quot;size&quot;: 20.0, &quot;color&quot;: &quot;#ff0000&quot;, &quot;opacity&quot;: 1.0}, {&quot;point&quot;: [0.8722988012239794, -0.47836617624722244, 0.9897393971941801], &quot;size&quot;: 20.0, &quot;color&quot;: &quot;#ff0000&quot;, &quot;opacity&quot;: 1.0}, {&quot;point&quot;: [-0.014267446290051085, -0.034128450424033355, 0.001368311151985195], &quot;size&quot;: 20.0, &quot;color&quot;: &quot;#ff0000&quot;, &quot;opacity&quot;: 1.0}, {&quot;point&quot;: [0.5949669721483127, -0.3632824604624691, 0.4859598440269966], &quot;size&quot;: 20.0, &quot;color&quot;: &quot;#ff0000&quot;, &quot;opacity&quot;: 1.0}, {&quot;point&quot;: [0.11251381410846041, -0.22364450836942187, 0.0626762244890336], &quot;size&quot;: 20.0, &quot;color&quot;: &quot;#ff0000&quot;, &quot;opacity&quot;: 1.0}, {&quot;point&quot;: [0.0476516015627782, 0.17365616788682006, 0.0324271397766332], &quot;size&quot;: 20.0, &quot;color&quot;: &quot;#ff0000&quot;, &quot;opacity&quot;: 1.0}, {&quot;point&quot;: [0.08434672573449287, -0.5338737124242446, 0.2921355109597749], &quot;size&quot;: 20.0, &quot;color&quot;: &quot;#ff0000&quot;, &quot;opacity&quot;: 1.0}, {&quot;point&quot;: [0.1568198192554147, -0.34997520476480887, 0.14707509966147084], &quot;size&quot;: 20.0, &quot;color&quot;: &quot;#ff0000&quot;, &quot;opacity&quot;: 1.0}, {&quot;point&quot;: [-0.48969986546515265, 0.5352086298036267, 0.5262542356528642], &quot;size&quot;: 20.0, &quot;color&quot;: &quot;#ff0000&quot;, &quot;opacity&quot;: 1.0}, {&quot;point&quot;: [-0.30552405363225105, -0.5312488949564287, 0.3755703357403093], &quot;size&quot;: 20.0, &quot;color&quot;: &quot;#ff0000&quot;, &quot;opacity&quot;: 1.0}, {&quot;point&quot;: [0.17429655619643308, 0.31525335279687583, 0.12976396595160783], &quot;size&quot;: 20.0, &quot;color&quot;: &quot;#ff0000&quot;, &quot;opacity&quot;: 1.0}, {&quot;point&quot;: [-0.30248922239852927, 0.48213147919025195, 0.3239504928934473], &quot;size&quot;: 20.0, &quot;color&quot;: &quot;#ff0000&quot;, &quot;opacity&quot;: 1.0}, {&quot;point&quot;: [0.08763186514263763, 0.013042020103695328, 0.00784943807676262], &quot;size&quot;: 20.0, &quot;color&quot;: &quot;#ff0000&quot;, &quot;opacity&quot;: 1.0}, {&quot;point&quot;: [-0.03768948489917524, -0.058461552986753935, 0.004838250449588197], &quot;size&quot;: 20.0, &quot;color&quot;: &quot;#ff0000&quot;, &quot;opacity&quot;: 1.0}, {&quot;point&quot;: [0.6174893846672764, 0.5405529338420823, 0.6734906144620544], &quot;size&quot;: 20.0, &quot;color&quot;: &quot;#ff0000&quot;, &quot;opacity&quot;: 1.0}, {&quot;point&quot;: [-0.6869383452832356, 0.5913423784880915, 0.821570098816423], &quot;size&quot;: 20.0, &quot;color&quot;: &quot;#ff0000&quot;, &quot;opacity&quot;: 1.0}, {&quot;point&quot;: [0.1719319047541922, -0.0631289252769328, 0.03354584107902519], &quot;size&quot;: 20.0, &quot;color&quot;: &quot;#ff0000&quot;, &quot;opacity&quot;: 1.0}, {&quot;point&quot;: [0.004979983534799672, 0.11503478065785783, 0.013257800997008337], &quot;size&quot;: 20.0, &quot;color&quot;: &quot;#ff0000&quot;, &quot;opacity&quot;: 1.0}, {&quot;point&quot;: [0.4605512959380729, -0.6510502496638307, 0.6359739237775747], &quot;size&quot;: 20.0, &quot;color&quot;: &quot;#ff0000&quot;, &quot;opacity&quot;: 1.0}, {&quot;point&quot;: [0.05318285348239956, 0.04483926713682668, 0.004838975781898084], &quot;size&quot;: 20.0, &quot;color&quot;: &quot;#ff0000&quot;, &quot;opacity&quot;: 1.0}, {&quot;point&quot;: [0.5843629260356981, 0.25496510183218585, 0.4064872324772996], &quot;size&quot;: 20.0, &quot;color&quot;: &quot;#ff0000&quot;, &quot;opacity&quot;: 1.0}, {&quot;point&quot;: [0.43684645228592367, 0.8198229887593301, 0.8629445557730785], &quot;size&quot;: 20.0, &quot;color&quot;: &quot;#ff0000&quot;, &quot;opacity&quot;: 1.0}, {&quot;point&quot;: [-0.09268310618918682, -0.065459035681209, 0.012875043525189875], &quot;size&quot;: 20.0, &quot;color&quot;: &quot;#ff0000&quot;, &quot;opacity&quot;: 1.0}, {&quot;point&quot;: [0.8517679761638927, 0.29280564884167587, 0.8112438332119285], &quot;size&quot;: 20.0, &quot;color&quot;: &quot;#ff0000&quot;, &quot;opacity&quot;: 1.0}, {&quot;point&quot;: [0.3751599296826105, 0.2676297051928497, 0.21237063194107292], &quot;size&quot;: 20.0, &quot;color&quot;: &quot;#ff0000&quot;, &quot;opacity&quot;: 1.0}, {&quot;point&quot;: [0.30777013655959096, 0.02708049113000872, 0.09545580995775176], &quot;size&quot;: 20.0, &quot;color&quot;: &quot;#ff0000&quot;, &quot;opacity&quot;: 1.0}, {&quot;point&quot;: [0.30921587695322256, -0.1660090590057655, 0.12317346623193019], &quot;size&quot;: 20.0, &quot;color&quot;: &quot;#ff0000&quot;, &quot;opacity&quot;: 1.0}, {&quot;point&quot;: [0.0042036703672464195, -0.014927828980414821, 0.00024051092262497825], &quot;size&quot;: 20.0, &quot;color&quot;: &quot;#ff0000&quot;, &quot;opacity&quot;: 1.0}, {&quot;point&quot;: [-0.22947874497027188, 0.83680630794477, 0.7529052914092882], &quot;size&quot;: 20.0, &quot;color&quot;: &quot;#ff0000&quot;, &quot;opacity&quot;: 1.0}, {&quot;point&quot;: [0.6343921516316214, 0.36228991999590915, 0.5337073881824406], &quot;size&quot;: 20.0, &quot;color&quot;: &quot;#ff0000&quot;, &quot;opacity&quot;: 1.0}, {&quot;point&quot;: [-0.3805575544914173, 0.4756173899393571, 0.37103595389321453], &quot;size&quot;: 20.0, &quot;color&quot;: &quot;#ff0000&quot;, &quot;opacity&quot;: 1.0}, {&quot;point&quot;: [0.2719817851245013, -0.4952691481338186, 0.3192656205327088], &quot;size&quot;: 20.0, &quot;color&quot;: &quot;#ff0000&quot;, &quot;opacity&quot;: 1.0}, {&quot;point&quot;: [-0.6598399764329042, 0.27276927085683544, 0.5097918696227451], &quot;size&quot;: 20.0, &quot;color&quot;: &quot;#ff0000&quot;, &quot;opacity&quot;: 1.0}, {&quot;point&quot;: [0.047090605000739624, 0.9553808273243307, 0.9149700502982583], &quot;size&quot;: 20.0, &quot;color&quot;: &quot;#ff0000&quot;, &quot;opacity&quot;: 1.0}, {&quot;point&quot;: [0.08614590420449737, -0.22664766122489263, 0.058790279149924136], &quot;size&quot;: 20.0, &quot;color&quot;: &quot;#ff0000&quot;, &quot;opacity&quot;: 1.0}, {&quot;point&quot;: [-0.466117723549752, -0.14201785181739865, 0.23743480244203166], &quot;size&quot;: 20.0, &quot;color&quot;: &quot;#ff0000&quot;, &quot;opacity&quot;: 1.0}, {&quot;point&quot;: [0.7165203657232434, -0.5531084996487826, 0.819330446879898], &quot;size&quot;: 20.0, &quot;color&quot;: &quot;#ff0000&quot;, &quot;opacity&quot;: 1.0}, {&quot;point&quot;: [-0.5433410843761164, -0.6870070054087721, 0.7671981594517426], &quot;size&quot;: 20.0, &quot;color&quot;: &quot;#ff0000&quot;, &quot;opacity&quot;: 1.0}, {&quot;point&quot;: [-0.6895313096590853, -0.3391258213694511, 0.5904597497196782], &quot;size&quot;: 20.0, &quot;color&quot;: &quot;#ff0000&quot;, &quot;opacity&quot;: 1.0}, {&quot;point&quot;: [-0.1916681382085453, 0.17612639987964424, 0.06775718393889436], &quot;size&quot;: 20.0, &quot;color&quot;: &quot;#ff0000&quot;, &quot;opacity&quot;: 1.0}, {&quot;point&quot;: [0.07150559293191248, -0.1873665681711866, 0.04021928068879229], &quot;size&quot;: 20.0, &quot;color&quot;: &quot;#ff0000&quot;, &quot;opacity&quot;: 1.0}, {&quot;point&quot;: [0.1081910606017996, 0.7399975506830869, 0.5593016806111101], &quot;size&quot;: 20.0, &quot;color&quot;: &quot;#ff0000&quot;, &quot;opacity&quot;: 1.0}, {&quot;point&quot;: [-0.08559811234145609, 0.26784852279687293, 0.07906986800088751], &quot;size&quot;: 20.0, &quot;color&quot;: &quot;#ff0000&quot;, &quot;opacity&quot;: 1.0}, {&quot;point&quot;: [0.4410914761793126, 0.22858835402854072, 0.24681432595552255], &quot;size&quot;: 20.0, &quot;color&quot;: &quot;#ff0000&quot;, &quot;opacity&quot;: 1.0}, {&quot;point&quot;: [0.13851378900674785, 0.15872209947870647, 0.04437877460793425], &quot;size&quot;: 20.0, &quot;color&quot;: &quot;#ff0000&quot;, &quot;opacity&quot;: 1.0}, {&quot;point&quot;: [0.4675795784826831, 0.3961248645001939, 0.3755455704893406], &quot;size&quot;: 20.0, &quot;color&quot;: &quot;#ff0000&quot;, &quot;opacity&quot;: 1.0}, {&quot;point&quot;: [-0.007077666544846862, -0.6445135895761945, 0.41544786051211136], &quot;size&quot;: 20.0, &quot;color&quot;: &quot;#ff0000&quot;, &quot;opacity&quot;: 1.0}];\n",
       "    for ( var i=0 ; i < points.length ; i++ ) addPoint( points[i] );\n",
       "\n",
       "    function addPoint( json ) {\n",
       "\n",
       "        var geometry = new THREE.Geometry();\n",
       "        var v = json.point;\n",
       "        geometry.vertices.push( new THREE.Vector3( a[0]*v[0], a[1]*v[1], a[2]*v[2] ) );\n",
       "\n",
       "        var canvas = document.createElement( 'canvas' );\n",
       "        canvas.width = 128;\n",
       "        canvas.height = 128;\n",
       "\n",
       "        var context = canvas.getContext( '2d' );\n",
       "        context.arc( 64, 64, 64, 0, 2 * Math.PI );\n",
       "        context.fillStyle = json.color;\n",
       "        context.fill();\n",
       "\n",
       "        var texture = new THREE.Texture( canvas );\n",
       "        texture.needsUpdate = true;\n",
       "\n",
       "        var transparent = json.opacity < 1 ? true : false;\n",
       "        var size = camera.isOrthographicCamera ? json.size : json.size/100;\n",
       "        var material = new THREE.PointsMaterial( { size: size, map: texture,\n",
       "                                                   transparent: transparent, opacity: json.opacity,\n",
       "                                                   alphaTest: .1 } );\n",
       "\n",
       "        var c = new THREE.Vector3();\n",
       "        geometry.computeBoundingBox();\n",
       "        geometry.boundingBox.getCenter( c );\n",
       "        geometry.translate( -c.x, -c.y, -c.z );\n",
       "\n",
       "        var mesh = new THREE.Points( geometry, material );\n",
       "        mesh.position.set( c.x, c.y, c.z );\n",
       "        scene.add( mesh );\n",
       "\n",
       "    }\n",
       "\n",
       "    var lines = [];\n",
       "    for ( var i=0 ; i < lines.length ; i++ ) addLine( lines[i] );\n",
       "\n",
       "    function addLine( json ) {\n",
       "\n",
       "        var geometry = new THREE.Geometry();\n",
       "        for ( var i=0 ; i < json.points.length ; i++ ) {\n",
       "            var v = json.points[i];\n",
       "            geometry.vertices.push( new THREE.Vector3( a[0]*v[0], a[1]*v[1], a[2]*v[2] ) );\n",
       "        }\n",
       "\n",
       "        var transparent = json.opacity < 1 ? true : false;\n",
       "        var material = new THREE.LineBasicMaterial( { color: json.color, linewidth: json.linewidth,\n",
       "                                                      transparent: transparent, opacity: json.opacity } );\n",
       "\n",
       "        var c = new THREE.Vector3();\n",
       "        geometry.computeBoundingBox();\n",
       "        geometry.boundingBox.getCenter( c );\n",
       "        geometry.translate( -c.x, -c.y, -c.z );\n",
       "\n",
       "        var mesh = new THREE.Line( geometry, material );\n",
       "        mesh.position.set( c.x, c.y, c.z );\n",
       "        scene.add( mesh );\n",
       "\n",
       "    }\n",
       "\n",
       "    var surfaces = [];\n",
       "    for ( var i=0 ; i < surfaces.length ; i++ ) addSurface( surfaces[i] );\n",
       "\n",
       "    function addSurface( json ) {\n",
       "\n",
       "        var useFaceColors = 'faceColors' in json ? true : false;\n",
       "\n",
       "        var geometry = new THREE.Geometry();\n",
       "        for ( var i=0 ; i < json.vertices.length ; i++ ) {\n",
       "            var v = json.vertices[i];\n",
       "            geometry.vertices.push( new THREE.Vector3( a[0]*v.x, a[1]*v.y, a[2]*v.z ) );\n",
       "        }\n",
       "        for ( var i=0 ; i < json.faces.length ; i++ ) {\n",
       "            var f = json.faces[i];\n",
       "            for ( var j=0 ; j < f.length - 2 ; j++ ) {\n",
       "                var face = new THREE.Face3( f[0], f[j+1], f[j+2] );\n",
       "                if ( useFaceColors ) face.color.set( json.faceColors[i] );\n",
       "                geometry.faces.push( face );\n",
       "            }\n",
       "        }\n",
       "        geometry.computeVertexNormals();\n",
       "\n",
       "        var side = json.singleSide ? THREE.FrontSide : THREE.DoubleSide;\n",
       "        var transparent = json.opacity < 1 ? true : false;\n",
       "\n",
       "        var material = new THREE.MeshPhongMaterial( { side: side,\n",
       "                                     color: useFaceColors ? 'white' : json.color,\n",
       "                                     vertexColors: useFaceColors ? THREE.FaceColors : THREE.NoColors,\n",
       "                                     transparent: transparent, opacity: json.opacity,\n",
       "                                     shininess: 20, flatShading: json.useFlatShading } );\n",
       "\n",
       "        var c = new THREE.Vector3();\n",
       "        geometry.computeBoundingBox();\n",
       "        geometry.boundingBox.getCenter( c );\n",
       "        geometry.translate( -c.x, -c.y, -c.z );\n",
       "\n",
       "        var mesh = new THREE.Mesh( geometry, material );\n",
       "        mesh.position.set( c.x, c.y, c.z );\n",
       "        if ( transparent && json.renderOrder ) mesh.renderOrder = json.renderOrder;\n",
       "        scene.add( mesh );\n",
       "\n",
       "        if ( json.showMeshGrid ) {\n",
       "\n",
       "            var geometry = new THREE.Geometry();\n",
       "\n",
       "            for ( var i=0 ; i < json.faces.length ; i++ ) {\n",
       "                var f = json.faces[i];\n",
       "                for ( var j=0 ; j < f.length ; j++ ) {\n",
       "                    var k = j === f.length-1 ? 0 : j+1;\n",
       "                    var v1 = json.vertices[f[j]];\n",
       "                    var v2 = json.vertices[f[k]];\n",
       "                    // vertices in opposite directions on neighboring faces\n",
       "                    var nudge = f[j] < f[k] ? .0005*zRange : -.0005*zRange;\n",
       "                    geometry.vertices.push( new THREE.Vector3( a[0]*v1.x, a[1]*v1.y, a[2]*(v1.z+nudge) ) );\n",
       "                    geometry.vertices.push( new THREE.Vector3( a[0]*v2.x, a[1]*v2.y, a[2]*(v2.z+nudge) ) );\n",
       "                }\n",
       "            }\n",
       "\n",
       "            var material = new THREE.LineBasicMaterial( { color: 'black', linewidth: 1 } );\n",
       "\n",
       "            var c = new THREE.Vector3();\n",
       "            geometry.computeBoundingBox();\n",
       "            geometry.boundingBox.getCenter( c );\n",
       "            geometry.translate( -c.x, -c.y, -c.z );\n",
       "\n",
       "            var mesh = new THREE.LineSegments( geometry, material );\n",
       "            mesh.position.set( c.x, c.y, c.z );\n",
       "            scene.add( mesh );\n",
       "\n",
       "        }\n",
       "\n",
       "    }\n",
       "\n",
       "    var scratch = new THREE.Vector3();\n",
       "\n",
       "    function render() {\n",
       "\n",
       "        if ( animate ) requestAnimationFrame( render );\n",
       "        renderer.render( scene, camera );\n",
       "\n",
       "        // Resize text based on distance from camera.\n",
       "        // Not neccessary for orthographic due to the nature of the projection (preserves sizes).\n",
       "        if ( !camera.isOrthographicCamera ) {\n",
       "            for ( var i=0 ; i < scene.children.length ; i++ ) {\n",
       "                if ( scene.children[i].type === 'Sprite' ) {\n",
       "                    var sprite = scene.children[i];\n",
       "                    var adjust = scratch.addVectors( sprite.position, scene.position )\n",
       "                                    .sub( camera.position ).length() / 5;\n",
       "                    sprite.scale.set( adjust, .25*adjust, 1 ); // ratio of canvas width to height\n",
       "                }\n",
       "            }\n",
       "        }\n",
       "    }\n",
       "    \n",
       "    render();\n",
       "    controls.update();\n",
       "    if ( !animate ) render();\n",
       "\n",
       "\n",
       "    // menu functions\n",
       "\n",
       "    function toggleMenu() {\n",
       "\n",
       "        var m = document.getElementById( 'menu-content' );\n",
       "        if ( m.style.display === 'block' ) m.style.display = 'none'\n",
       "        else m.style.display = 'block';\n",
       "\n",
       "    }\n",
       "\n",
       "\n",
       "    function saveAsPNG() {\n",
       "\n",
       "        var a = document.body.appendChild( document.createElement( 'a' ) );\n",
       "        a.href = renderer.domElement.toDataURL( 'image/png' );\n",
       "        a.download = 'screenshot';\n",
       "        a.click();\n",
       "\n",
       "    }\n",
       "\n",
       "    function saveAsHTML() {\n",
       "\n",
       "        toggleMenu(); // otherwise visible in output\n",
       "        event.stopPropagation();\n",
       "\n",
       "        var blob = new Blob( [ '<!DOCTYPE html>\\n' + document.documentElement.outerHTML ] );\n",
       "        var a = document.body.appendChild( document.createElement( 'a' ) );\n",
       "        a.href = window.URL.createObjectURL( blob );\n",
       "        a.download = 'graphic.html';\n",
       "        a.click();\n",
       "\n",
       "    }\n",
       "\n",
       "    function getViewpoint() {\n",
       "\n",
       "        function roundTo( x, n ) { return +x.toFixed(n); }\n",
       "\n",
       "        var v = camera.quaternion.inverse();\n",
       "        var r = Math.sqrt( v.x*v.x + v.y*v.y + v.z*v.z );\n",
       "        var axis = [ roundTo( v.x / r, 4 ), roundTo( v.y / r, 4 ), roundTo( v.z / r, 4 ) ];\n",
       "        var angle = roundTo( 2 * Math.atan2( r, v.w ) * 180 / Math.PI, 2 );\n",
       "\n",
       "        var textArea = document.createElement( 'textarea' );\n",
       "        textArea.textContent = JSON.stringify( axis ) + ',' + angle;\n",
       "        textArea.style.csstext = 'position: absolute; top: -100%';\n",
       "        document.body.append( textArea );\n",
       "        textArea.select();\n",
       "        document.execCommand( 'copy' );\n",
       "\n",
       "        var m = document.getElementById( 'menu-message' );\n",
       "        m.innerHTML = 'Viewpoint copied to clipboard';\n",
       "        m.style.display = 'block';\n",
       "        setTimeout( function() { m.style.display = 'none'; }, 2000 );\n",
       "\n",
       "    }\n",
       "\n",
       "</script>\n",
       "\n",
       "<div id=&quot;menu-container&quot; onclick=&quot;toggleMenu()&quot;>&#x24d8;\n",
       "<div id=&quot;menu-message&quot;></div>\n",
       "<div id=&quot;menu-content&quot;>\n",
       "<div onclick=&quot;saveAsPNG()&quot;>Save as PNG</div>\n",
       "<div onclick=&quot;saveAsHTML()&quot;>Save as HTML</div>\n",
       "<div onclick=&quot;getViewpoint()&quot;>Get Viewpoint</div>\n",
       "<div>Close Menu</div>\n",
       "</div></div>\n",
       "\n",
       "</body>\n",
       "</html>\n",
       "\"\n",
       "        width=\"100%\"\n",
       "        height=\"400\"\n",
       "        style=\"border: 0;\">\n",
       "</iframe>\n"
      ],
      "text/plain": [
       "Graphics3d Object"
      ]
     },
     "metadata": {},
     "output_type": "display_data"
    }
   ],
   "source": [
    "A_2d = A_unit*radial_A\n",
    "A_3d = np.concatenate([A_2d,np.linalg.norm(A_2d,axis=1).reshape(-1,1)^2],axis=1)\n",
    "B_2d = B_unit*radial_B\n",
    "B_3d = np.concatenate([B_2d,np.linalg.norm(B_2d,axis=1).reshape(-1,1)^2],axis=1)\n",
    "\n",
    "P=points(A_3d,size=20,color='blue')\n",
    "P+=points(B_3d,size=20,color='red')\n",
    "P.show()"
   ]
  },
  {
   "cell_type": "markdown",
   "metadata": {},
   "source": [
    "> Remember the extra dimension that we always add to simplify notation. Therefore the full $\\phi$ in the above examples is $\\hat \\phi(x) = (x_1,x_2,x_1^2+x_2^2,1)$.\n",
    "\n",
    "So if we transform the $x \\to \\phi(x)$ for some good transformation $\\phi$ then our perceptron will try to solve\n",
    "$$\n",
    "    w \\cdot \\phi(x_i)l_i > 0\n",
    "$$\n",
    "furthermore, remember how we constructed $w$ using the perceptron algorithms, i.e. using additions of $x_i l_i$, which transforms into $\\phi(x_i)l_i$, and we start with $w=0$, this gives that the weight has the form\n",
    "$$\n",
    "    w = \\sum_{i=1}^n c_i \\phi(x_i)\n",
    "$$\n",
    "for numbers $c_i$. The perceptron algorithm becomes just addition and subtraction of certain $c_i$'s by 1."
   ]
  },
  {
   "cell_type": "markdown",
   "metadata": {},
   "source": [
    "Furthermore\n",
    "$$\n",
    "    w \\cdot \\phi(x_i) = \\sum_{i=1}^n c_j \\phi(x_j) \\cdot \\phi(x_i) = \\sum_{i=1}^n c_i k_{ij}\n",
    "$$\n",
    "where $k_{ij} = \\phi(x_i) \\cdot \\phi(x_j)$."
   ]
  },
  {
   "cell_type": "markdown",
   "metadata": {},
   "source": [
    "Is it easy to find such a mapping $\\phi$? No, it is actually quite difficult. Furthermore, if the mapping $\\phi$ is high dimensional we might need to do alot of computation, which is not so efficient. What if we had a function $k(x,y)$ that could be written as\n",
    "$$\n",
    "    k(x,y) = \\phi(x) \\cdot \\phi(y)\n",
    "$$\n",
    "for some $\\phi$ and $k$ is easier to compute, then our life would be simpler. Also, what if we are given a function $k(x,y)$ and we would like to know if it is a \"kernel function\".\n",
    "\n",
    "### Lemma\n",
    "If $k_{ij}$ is symmetric and positive semidefinite, then there is a mapping $\\phi$ such that\n",
    "$k_{ij} = \\phi(x_i)\\phi(x_j)$.\n",
    "\n",
    "### Proof\n",
    "1. $k = Q \\Lambda Q^T$ (eigendecomposition)\n",
    "2. $k$ is positive definite, all eigenvalues $\\geq 0$, so we can define $B = Q \\Lambda^{1/2}$.\n",
    "3. $k = B B^T$\n",
    "4. define $\\phi(x_i) = B_{i\\cdot}$, i.e. the $i$:th row of $B$, then $k_{ij} = \\phi(x_i)\\cdot \\phi(x_j)$.\n",
    "\n",
    "\n",
    "We now have a way to identify whenever a matrix $k$ is a kernel matrix. There are some standard choices of kernel functions one could try, that produces positive semi-definite matrices whenever all points $x_i$ are distinct.\n",
    "1. $k(x,y) = e^{-\\gamma |x-y|}$, called Radial Basis Function\n",
    "2. $k(x,y) = (\\gamma x \\cdot y + r)^d$, polynomial\n",
    "3. $k(x,y) = x \\cdot y$, linear\n",
    "4. $k(x,y) = \\tanh(\\gamma x \\cdot y + r)$, sigmoidal\n",
    "\n",
    "\n",
    "### Definition\n",
    "> We call a function $k(x,y)$ a kernel function if there is a mapping $\\phi$ such that $k(x,y) = \\phi(x) \\cdot \\phi(y)$.\n",
    "\n",
    "### Theorem (properties)\n",
    "Suppose $k_1,k_2$ are kernel functions. Then\n",
    "1. For any constant $c \\geq 0$, $c k_1$ is a kernel function.\n",
    "2. For any scalar function $f$, $k(x,y) = f(x)f(y)k_1(x,y)$ is a kernel function.\n",
    "3. $k_1 + k_2$ is a kernel function.\n",
    "4. $k_1k_2$ is a kernel function."
   ]
  },
  {
   "cell_type": "markdown",
   "metadata": {},
   "source": [
    "## Let me cheat a bit\n",
    "\n",
    "As we have noted, the perceptron converges in finite time if the set is linearly separable. The way to solve this problem is to introduce a \"cost function\" that penalizes misses in classification, the goal is then to minimize the total cost. The perceptron becomes the Support Vector Machine in this case, the loss is the so called \"hinge loss\"\n",
    "$$\n",
    "    \\min(0,1-w \\cdot x_i l_i)\n",
    "$$\n",
    "this means that if $w \\cdot x_i l_i \\geq 1$ (which is the requirement for the perceptron) we have 0 cost, but if we are closer to the plane $w \\cdot x = 0$ then there is a cost proportional to 1 - distance.\n",
    "\n",
    "Consider the problem of differentiating between the following handwritten digits, where $c^\\ast$ is the set of digits greater than or equal to 5."
   ]
  },
  {
   "cell_type": "code",
   "execution_count": 28,
   "metadata": {},
   "outputs": [
    {
     "data": {
      "image/png": "[encoded data removed]",
      "text/plain": [
       "<Figure size 432x288 with 10 Axes>"
      ]
     },
     "metadata": {},
     "output_type": "display_data"
    }
   ],
   "source": [
    "from sklearn.datasets import load_digits\n",
    "import matplotlib.pyplot as plt\n",
    "from sklearn.datasets import load_digits\n",
    "digits = load_digits()\n",
    "fig, ax = plt.subplots(2,5)\n",
    "plt.gray()\n",
    "for i in range(10):\n",
    "    row = floor(i/5)\n",
    "    column = i % 5\n",
    "    ax[row,column].imshow(digits['data'][i,:].reshape(8,8))"
   ]
  },
  {
   "cell_type": "code",
   "execution_count": 29,
   "metadata": {},
   "outputs": [
    {
     "data": {
      "text/plain": [
       "SVC(kernel='linear')"
      ]
     },
     "execution_count": 29,
     "metadata": {},
     "output_type": "execute_result"
    }
   ],
   "source": [
    "from sklearn.svm import SVC\n",
    "\n",
    "labels = digits['target'] > 5\n",
    "\n",
    "X = digits['data']\n",
    "\n",
    "from sklearn.model_selection import train_test_split\n",
    "X_train, X_test, Y_train, Y_test = train_test_split(X,labels)\n",
    "\n",
    "per = SVC(kernel='linear')\n",
    "\n",
    "per.fit(X_train,Y_train)"
   ]
  },
  {
   "cell_type": "code",
   "execution_count": 30,
   "metadata": {},
   "outputs": [
    {
     "name": "stdout",
     "output_type": "stream",
     "text": [
      "Training precision: \t 0.9012620638455828\n",
      "Test precision: \t 0.88\n"
     ]
    }
   ],
   "source": [
    "print(\"Training precision: \\t\", per.score(X_train,Y_train))\n",
    "\n",
    "print(\"Test precision: \\t\", per.score(X_test,Y_test))"
   ]
  },
  {
   "cell_type": "markdown",
   "metadata": {},
   "source": [
    "This is really interesting right? With just a linear classifier we can differentiate between digits less than and larger than 5 using a linear classifier up to 88% correct..."
   ]
  },
  {
   "cell_type": "markdown",
   "metadata": {},
   "source": [
    "But, we talked about the fact that different kernels might improve things. A famous kernel is the Radial Basis Function kernel, which we showed above. Lets try it"
   ]
  },
  {
   "cell_type": "markdown",
   "metadata": {},
   "source": [
    "### The Radial Basis Function Kernel"
   ]
  },
  {
   "cell_type": "code",
   "execution_count": 31,
   "metadata": {},
   "outputs": [
    {
     "name": "stdout",
     "output_type": "stream",
     "text": [
      "Training precision: \t 0.991833704528582\n",
      "Test precision: \t 0.9822222222222222\n"
     ]
    }
   ],
   "source": [
    "from sklearn.svm import SVC\n",
    "\n",
    "labels = digits['target'] > 5\n",
    "\n",
    "X = digits['data']\n",
    "\n",
    "from sklearn.model_selection import train_test_split\n",
    "X_train, X_test, Y_train, Y_test = train_test_split(X,labels)\n",
    "\n",
    "per = SVC(kernel='rbf')\n",
    "\n",
    "per.fit(X_train,Y_train)\n",
    "\n",
    "print(\"Training precision: \\t\", per.score(X_train,Y_train))\n",
    "\n",
    "print(\"Test precision: \\t\", per.score(X_test,Y_test))"
   ]
  },
  {
   "cell_type": "markdown",
   "metadata": {},
   "source": [
    "This is borderline crazy, how can we differentiate between these digits at 98% accuracy?\n",
    "I would leave this up to you to think about. But the fact is that it does work well."
   ]
  },
  {
   "cell_type": "markdown",
   "metadata": {},
   "source": [
    "## The underlying problem\n",
    "\n",
    "Consider a probability space $(\\Omega,P,F)$ where $\\Omega$ is the sample space and $P$ is the probability measure. In the theory of classifiers we often use the idea that $\\Omega$ is split into two parts, one part which corresponds to class  $1$ and one part which corresponds to class $-1$ (or 0). Let us call the subset of $\\Omega$ that is labeled as class $1$ the target concept.\n",
    "\n",
    "> The target concept $c^\\ast \\subset \\Omega$ is the set of outcomes which are labeled $1$, all other are labeled $-1$ (or zero)\n",
    "\n",
    "Often the sample space $\\Omega \\subset \\mathbb{R}^d$ and as such, each choice of weights $\\hat w$ would produce two a split of $\\Omega$ into two sets, i.e. the part of $\\Omega$ that is one one side of the plane and one which is on the other side of the plane. When we worked with kernel functions we can have a non-linear separating boundary. The point being that we can abstract our idea of a model as being a set.\n",
    "\n",
    "> A model in our view, i.e. a choice of weights for instance, is the same as a set in $\\Omega$, we can denote this set as $h \\subset \\Omega$.\n",
    "\n",
    "If $x \\in h$ we say that $h$ predicts $x$ as being in $c^\\ast$, but it can of-course be wrong. The error we are interested in is the missclassification rate, i.e.\n",
    "\n",
    "> False positive (FP) $x \\in h$ but $x \\not \\in c^\\ast$, and the other which is False Negative (FN) $x \\not \\in h$ but $x \\in c^\\ast$. \n",
    "\n",
    "The set of miscalssified samples can be written as the symmetric difference of the set $h$ and $c^\\ast$, i.e.\n",
    "\n",
    "$$\n",
    "    h \\Delta c^\\ast = (h \\setminus c^\\ast) \\cup (c^\\ast \\setminus h)\n",
    "$$\n",
    "\n",
    "<img src=\"images/symmetric-difference.jpg\"></img>"
   ]
  },
  {
   "cell_type": "markdown",
   "metadata": {},
   "source": [
    "The true error rate that we are interested in is the probability of a missclassification, i.e.\n",
    "\n",
    "$$\n",
    "    P(h \\Delta c^\\ast) = P(\\text{\"h classifying x wrongly, i.e. FP or FN\"})\n",
    "$$\n",
    "\n",
    "This is what we want, but remember that we are taking a training set $S$ and building $h$ on that set. Perhaps  we can find a small training error, which would be\n",
    "\n",
    "$$\n",
    "    err(S) = \\frac{1}{n} \\sum_{i=1}^n \\mathbf{1}_{h \\Delta c^\\ast}(x_i), \\quad S = \\{x_1,\\ldots,x_n\\}\n",
    "$$"
   ]
  },
  {
   "cell_type": "markdown",
   "metadata": {},
   "source": [
    "# Understanding model fit and generalization\n",
    "\n",
    "So far we have only considered quite simple models, we did however touch upon polynomial regression back in `12.ipynb`. The point I want to make here is that we can make the ansatz for the regression function $r(x) = E(Y \\mid X=x)$ arbitrarily complicated, think for instance of polynomials of arbitrarily high order.\n",
    "\n",
    "Let us highlight the problem with a simple example of polynomial regression using `scikit-learn`.\n",
    "\n",
    "Let us assume that $r(x) = -x^2$ and that $Y \\mid X \\sim N(r(x),0.1^2)$."
   ]
  },
  {
   "cell_type": "code",
   "execution_count": 98,
   "metadata": {},
   "outputs": [
    {
     "data": {
      "image/png": "[encoded data removed]",
      "text/plain": [
       "Graphics object consisting of 1 graphics primitive"
      ]
     },
     "execution_count": 98,
     "metadata": {},
     "output_type": "execute_result"
    }
   ],
   "source": [
    "import numpy as np\n",
    "n_samples = 20\n",
    "sigma=0.3\n",
    "np.random.seed(6)\n",
    "X = np.random.uniform(size=n_samples)*2-1\n",
    "Y = -X**2 + np.random.normal(size=n_samples)*sigma\n",
    "points(zip(X,Y))"
   ]
  },
  {
   "cell_type": "markdown",
   "metadata": {},
   "source": [
    "Ok, so our goal is to find the function $r(x)=-x^2$, but we do not now beforehand which power it is, so we have to make an ansatz. Perhaps our ansatz is the either it is linear, second or third order polynomial. Lets try all these and see what happens."
   ]
  },
  {
   "cell_type": "code",
   "execution_count": 99,
   "metadata": {},
   "outputs": [],
   "source": [
    "# We will be trying all models on the same training data and hold out some as test-data\n",
    "from sklearn.model_selection import train_test_split\n",
    "X_train,X_test,Y_train,Y_test = train_test_split(X,Y,test_size=0.5)"
   ]
  },
  {
   "cell_type": "code",
   "execution_count": 100,
   "metadata": {},
   "outputs": [],
   "source": [
    "X_lin_train = X_train.reshape(-1,1)\n",
    "X_second_train = np.stack([X_train,X_train^2],axis=1)\n",
    "X_third_train = np.stack([X_train,X_train^2,X_train^3],axis=1)"
   ]
  },
  {
   "cell_type": "code",
   "execution_count": 101,
   "metadata": {},
   "outputs": [
    {
     "data": {
      "text/plain": [
       "LinearRegression()"
      ]
     },
     "execution_count": 101,
     "metadata": {},
     "output_type": "execute_result"
    }
   ],
   "source": [
    "from sklearn.linear_model import LinearRegression\n",
    "lr_lin = LinearRegression()\n",
    "lr_second = LinearRegression()\n",
    "lr_third = LinearRegression()\n",
    "\n",
    "lr_lin.fit(X_lin_train,Y_train)\n",
    "lr_second.fit(X_second_train,Y_train)\n",
    "lr_third.fit(X_third_train,Y_train)"
   ]
  },
  {
   "cell_type": "code",
   "execution_count": 104,
   "metadata": {},
   "outputs": [
    {
     "data": {
      "image/png": "[encoded data removed]",
      "text/plain": [
       "Graphics object consisting of 5 graphics primitives"
      ]
     },
     "metadata": {},
     "output_type": "display_data"
    }
   ],
   "source": [
    "x_plot = np.linspace(-1,1,100).reshape(-1,1)\n",
    "P = line(zip(x_plot,lr_lin.predict(x_plot)),color='brown')\n",
    "P+= line(zip(x_plot,lr_second.predict(np.concatenate([x_plot,x_plot^2],axis=1))),color='green')\n",
    "P+= line(zip(x_plot,lr_third.predict(np.concatenate([x_plot,x_plot^2,x_plot^3],axis=1))),color='blue')\n",
    "P+= points(zip(X_train,Y_train),color='black')\n",
    "P+= points(zip(X_test,Y_test),color='red')\n",
    "show(P)"
   ]
  },
  {
   "cell_type": "markdown",
   "metadata": {},
   "source": [
    "Since our dataset is not very large, i.e. we had only 10 points and 10 of those we trained on, the estimation problem will be noisy. But what we can tell from the picture above is that the green curve is doing best in terms of the red points which is the test-data. This is called the problem of generalization. Let us formalize this problem as follows\n",
    "\n",
    "## Formalizing the problem\n",
    "\n",
    "1. Our training set $S$ consists of points drawn IID from a distribution $D$\n",
    "2. Our objective is to predict well on new points that are also drawn IID from $D$.\n",
    "\n",
    "With this statement of the problem it becomes clear that if we can simulate the training-test split, train a model on the training data and test on the testing data, then we can get a measure of the generalization performance of the model itself on the distribution $D$."
   ]
  },
  {
   "cell_type": "markdown",
   "metadata": {},
   "source": [
    "## The issue of overfitting and what to do about it?\n",
    "\n",
    "To analyze overfitting we have to dig into the ideas of learning theory. As such we need some definitions\n",
    "\n",
    "> A hypothesis class $\\mathcal H$ over $\\Omega$ is a collection of subsets of $\\Omega$, called hypothesises or concepts.\n",
    "\n",
    "### Example\n",
    "In the case of a linear classifier we have \n",
    "$$\\mathcal{H} = \\{\\{x \\in \\Omega: w \\cdot x \\geq 0\\}: w \\in \\mathbb R^d\\}.$$\n",
    "That is, the set of all half-spaces in $\\Omega \\subset \\mathbb R^d$.\n",
    "\n",
    "### Uniform convergence\n",
    "\n",
    "The goal of our algorithm can now be stated as the problem of finding an $h \\in \\mathcal H$ such that the true error is small, i.e. $P(h \\Delta c^\\ast)$ is small.\n",
    "\n",
    "The idea for us today is to start with a finite $\\mathcal H$, why?"
   ]
  },
  {
   "cell_type": "markdown",
   "metadata": {},
   "source": [
    "<img src=\"images/Linear3pts.png\"></img>"
   ]
  },
  {
   "cell_type": "markdown",
   "metadata": {},
   "source": [
    "Three points can always be split in any possible way so for 3 points we have for a linear classifier $|\\mathcal H| = 2^3$."
   ]
  },
  {
   "cell_type": "markdown",
   "metadata": {},
   "source": [
    "<img width=200px src=\"images/Linear4pts.png\"></img>"
   ]
  },
  {
   "cell_type": "markdown",
   "metadata": {},
   "source": [
    "For 4 points, we can no longer split every possible combination, for instance the one in the image above cannot be produced. Therefore $|H| < 2^4$. In fact there is a lemma called Sauer-Shelah lemma that states (in our case of linear problems in $\\mathbb R^2$)\n",
    "$$\n",
    "    |\\mathcal H_n| \\leq n^3 + 1\n",
    "$$\n",
    "\n",
    "So, with this motivation let us continue with finite set of $\\mathcal H$."
   ]
  },
  {
   "cell_type": "markdown",
   "metadata": {},
   "source": [
    "We start with the theorem 5.4 from the book, but rephrased using our language\n",
    "\n",
    "### Theorem [Finite hypothesis class]\n",
    "> Let $(\\Omega,P,F)$ be a probability space, and let $\\mathcal{H}$ be a finite hypothesis class. Fix $\\epsilon > 0$ and let $S = \\{X_1,\\ldots,X_n\\}$ be IID sampled from $P$. Define $\\mathcal{H}_\\epsilon = \\{h \\in \\mathcal{H}, err(h) \\geq \\epsilon\\}$, then\n",
    ">$$P(\\{\\exists h_i \\in \\mathcal{H}_\\epsilon : err_S(h_i) = 0\\}) \\leq |\\mathcal{H}|(1-\\epsilon)^n$$\n",
    ">or equivalently\n",
    ">$$P(\\{err_S(h_i) > 0, \\forall h_i \\in \\mathcal{H}_\\epsilon\\}) \\geq 1-|\\mathcal{H}|(1-\\epsilon)^n.$$\n",
    ">If\n",
    ">$$n \\geq \\frac{1}{\\epsilon}(\\ln |\\mathcal H| + \\ln(1/\\delta)) $$\n",
    ">then\n",
    ">$$P(\\{err_S(h_i) > 0, \\forall h_i \\in \\mathcal{H}_\\epsilon\\}) \\geq 1-\\delta$$"
   ]
  },
  {
   "cell_type": "markdown",
   "metadata": {},
   "source": [
    "In words, for a hypothesis $h$ with large true error, if the training set is large enough there is a high chance that the training set will also contain some missclassified items."
   ]
  },
  {
   "cell_type": "markdown",
   "metadata": {},
   "source": [
    "### Proof\n",
    "\n",
    "The idea is as follows, if we know that $err(h) = P(h \\Delta c^\\ast) \\geq \\epsilon$, then define the random variable $Y(X) = \\mathbf{1}_{h \\Delta c^\\ast}(X)$ for $X \\sim P$. This r.v. $Y$ is either 1 or 0, and we know that\n",
    "$$\n",
    "    P(Y = 1) = P(X \\in h\\Delta c^\\ast) = P(h \\Delta c^\\ast) \\geq \\epsilon\n",
    "$$\n",
    "thus we know that $Y \\sim Bernoulli(\\theta)$ where $\\theta \\geq \\epsilon$. We can do the same of the entire sample $S$, and define a $Y_i$ for all $X_i$, and note that since $X_i$ is IID, then $Y_i$ is IID, and thus\n",
    "$$\n",
    "    P(err_S(h) = 0) = P(\\{Y_i = 0: \\forall i = 1,\\ldots,n\\}) = P(Y_1 = 0)^n \\leq (1-\\epsilon)^n.\n",
    "$$\n",
    "That is we can now do the following bound\n",
    "$$\n",
    "    P(\\cup_{h \\in \\mathcal{H_\\epsilon}} \\{err_S(h) = 0\\}) \\leq \\sum_{h \\in \\mathcal{H_\\epsilon}}P(err_S(h) = 0) \\leq |\\mathcal{H}_\\epsilon|(1-\\epsilon)^n \\leq |\\mathcal{H}|(1-\\epsilon)^n\n",
    "$$\n",
    "This proves the first statements, the second follow from taking the complement of the first. The last statement follows from plugging in the bound for $n$ and doing some simple estimation (See book)."
   ]
  },
  {
   "cell_type": "markdown",
   "metadata": {},
   "source": [
    "Say that we had a way of finding for each $S$ a $h_S$ such that $err(h_S) = 0$, for each $S$? Think of the perceptron for instance."
   ]
  },
  {
   "cell_type": "markdown",
   "metadata": {},
   "source": [
    "Then we can say that\n",
    "$$P(err(h_S) > \\epsilon) \\leq P(\\{\\exists h_i \\in \\mathcal{H}_\\epsilon : err_S(h_i) = 0\\})$$\n",
    "Note that in the above we have inequality because the event $\\{err(h_S) > \\epsilon\\} \\subset \\{\\exists h_i \\in \\mathcal{H}_\\epsilon : err_S(h_i) = 0\\}$. The conclusion is that\n",
    "\n",
    "### Theorem [PAC Learnability of Empirical Risk Minimization]\n",
    "> Let $(\\Omega,P,F)$ be a probability space, and let $\\mathcal{H}$ be a finite hypothesis class. Fix $\\epsilon > 0$ and let $S = \\{X_1,\\ldots,X_n\\}$ be IID sampled from $P$. Further assume that we have a way to construct $h_S \\in \\mathcal{H}$ such that $err_S(h_S) = 0$, then\n",
    ">$$P(err(e_S) > \\epsilon) \\leq |\\mathcal{H}|(1-\\epsilon)^n.$$\n",
    ">Again if \n",
    ">$$n \\geq \\frac{1}{\\epsilon}(\\ln |\\mathcal H| + \\ln(1/\\delta)) $$\n",
    ">then\n",
    ">$$P(err(h_S) < \\epsilon) \\geq 1-\\delta$$"
   ]
  },
  {
   "cell_type": "markdown",
   "metadata": {},
   "source": [
    "That is with high probability the method which minimizes the training error has good true error. This ofcourse assumes that there is $h \\in \\mathcal{H}$ such that $err(h) = 0$. Which is not always the case, take the example of a curved decision boundary, and our hypothesis space consists of linear boundaries. This can happen if our kernel choice is not correct concerning the true $c^\\ast$. In that case, the above argument does not work and we have to use other tools.\n",
    "\n",
    "### Theorem (Hoeffding bounds)\n",
    ">Let $X_1,\\ldots, X_n$ be IID Bernoulli$(\\theta)$ r.v.. Let $\\overline{X}_n = \\sum_{i=1}^n X_i$. Now for any $0 \\leq \\alpha \\leq 1$\n",
    ">$$P(\\overline{X}_n > \\theta+\\alpha) \\leq e^{-2n\\alpha^2} $$\n",
    ">$$P(\\overline{X}_n < \\theta-\\alpha) \\leq e^{-2n\\alpha^2} $$\n",
    "\n",
    "We will not prove this now, but using this we can get the following result concerning uniform convergence of the error.\n",
    "\n",
    "### Theorem (Uniform convergence)\n",
    "> Let $(\\Omega,P,F)$ be a probability space, and let $\\mathcal{H}$ be a finite hypothesis class. Fix $\\epsilon > 0$ and let $S = \\{X_1,\\ldots,X_n\\}$ be IID sampled from $P$. Then\n",
    "> $$P(\\{|err(h) - err_S(h)| \\leq \\epsilon, \\forall h \\in \\mathcal{H}\\}) > 1-2|\\mathcal{H}|e^{-2n\\epsilon^2}$$\n",
    "\n",
    ">This tells us that the convergence in probability has a uniform rate!!!"
   ]
  },
  {
   "cell_type": "markdown",
   "metadata": {},
   "source": [
    "### Proof\n",
    "Fix the hypothesis $h \\in \\mathcal{H}$, define $Y_i$ as in the proof of `Finite hypothesis class`, then $Y_i \\sim$ Bernoulli$(\\theta)$ and $\\theta = err(h)$, is one if $h$ makes a mistake and $0$ if not. For a single hypothesis we thus have $err_S(h) = \\overline{Y}_n$ and using the Hoeffding bound gives us\n",
    "$$\n",
    "    P(\\overline{Y_n} > err(h) + \\epsilon) \\leq e^{-2n\\epsilon^2}\n",
    "$$\n",
    "$$\n",
    "    P(\\overline{Y_n} > err(h) - \\epsilon) \\leq e^{-2n\\epsilon^2}\n",
    "$$\n",
    "i.e.\n",
    "$$\n",
    "    P(|err_S(h) - err(h)| > \\epsilon) \\leq 2 e^{-2n\\epsilon^2}\n",
    "$$\n",
    "since this holds for a single hypothesis we can again use the union bound to get\n",
    "$$\n",
    "    P(\\{|err_S(h) - err(h)| > \\epsilon, \\exists h \\in \\mathcal{H}) \\leq 2 |\\mathcal{H}| e^{-2n\\epsilon^2}\n",
    "$$\n",
    "taking the complement event we get the result of our theorem."
   ]
  },
  {
   "cell_type": "markdown",
   "metadata": {
    "lx_assignment_number": "4",
    "lx_problem_cell_type": "PROBLEM"
   },
   "source": [
    "---\n",
    "## Assignment 4, PROBLEM 2\n",
    "Maximum Points = 1"
   ]
  },
  {
   "cell_type": "markdown",
   "metadata": {
    "deletable": false,
    "lx_assignment_number": "4",
    "lx_assignment_type": "ASSIGNMENT",
    "lx_assignment_type2print": "Assignment",
    "lx_problem_cell_type": "PROBLEM",
    "lx_problem_number": "2",
    "lx_problem_points": "1"
   },
   "source": [
    "\n",
    "Consider an instance space $X$ consisting of integers $1$ to $1000$ and a target concept $c^\\ast = \\{x: 501 \\leq x \\leq 1000\\}$. If your hypothesis class $\\mathcal H$ is $\\{h_j:\\, h_j=\\{x: j \\leq x \\leq 1000\\}, j=1,\\ldots,1000\\}$. How large must the training set $S$ be to ensure that with probability $99\\%$ any consistent hypothesis (training error 0) will have a true error less than $10\\%$. (Hint: use the theorem above)."
   ]
  },
  {
   "cell_type": "code",
   "execution_count": null,
   "metadata": {
    "deletable": false,
    "lx_assignment_number": "4",
    "lx_assignment_type": "ASSIGNMENT",
    "lx_assignment_type2print": "Assignment",
    "lx_problem_cell_type": "PROBLEM",
    "lx_problem_number": "2",
    "lx_problem_points": "1"
   },
   "outputs": [],
   "source": [
    "# Replace the XXX below with the number of training samples needed to satisfy the problem\n",
    "N2 = XXX"
   ]
  },
  {
   "cell_type": "markdown",
   "metadata": {
    "lx_assignment_number": "4",
    "lx_problem_cell_type": "Test"
   },
   "source": [
    "---\n",
    "#### Local Test for Assignment 4, PROBLEM 2\n",
    "Evaluate cell below to make sure your answer is valid.                         You **should not** modify anything in the cell below when evaluating it to do a local test of                         your solution.\n",
    "You may need to include and evaluate code snippets from lecture notebooks in cells above to make the local test work correctly sometimes (see error messages for clues). This is meant to help you become efficient at recalling materials covered in lectures that relate to this problem. Such local tests will generally not be available in the exam."
   ]
  },
  {
   "cell_type": "code",
   "execution_count": 2,
   "metadata": {
    "deletable": false,
    "lx_assignment_number": "4",
    "lx_assignment_type": "ASSIGNMENT",
    "lx_assignment_type2print": "Assignment",
    "lx_problem_cell_type": "Test",
    "lx_problem_number": "2",
    "lx_problem_points": "1"
   },
   "outputs": [
    {
     "name": "stdout",
     "output_type": "stream",
     "text": [
      "Your answer is an integer, hopefully it is correct.\n"
     ]
    }
   ],
   "source": [
    "# test that your answer is indeed a number by evaluating this cell after you replaced XXX above and evaluated it.\n",
    "try:\n",
    "    assert((type(N2) is Integer) or (type(N2) is int))\n",
    "    print(\"Your answer is an integer, hopefully it is correct.\")\n",
    "except AssertionError:\n",
    "    print(\"Try again! and make sure you are producing an integer of class Integer or int\")"
   ]
  },
  {
   "cell_type": "markdown",
   "metadata": {
    "lx_assignment_number": "4",
    "lx_problem_cell_type": "PROBLEM"
   },
   "source": [
    "---\n",
    "## Assignment 4, PROBLEM 3\n",
    "Maximum Points = 3"
   ]
  },
  {
   "cell_type": "markdown",
   "metadata": {
    "deletable": false,
    "lx_assignment_number": "4",
    "lx_assignment_type": "ASSIGNMENT",
    "lx_assignment_type2print": "Assignment",
    "lx_problem_cell_type": "PROBLEM",
    "lx_problem_number": "3",
    "lx_problem_points": "3"
   },
   "source": [
    "\n",
    "The following datasets are subsets of $d$-dimensional '0/1' vectors with label +1. The remaining '0/1' vectors are '-1'. Determine if the following three problems are linearly separable:\n",
    "\n",
    "1. $c^\\ast = \\{(0,1,0),(0,1,1),(1,0,0),(1,1,1)\\}$, and $X$ is all $0/1$ vectors in 3 dimensions.\n",
    "2. $c^\\ast = \\{(0,1,1),(0,1,0),(1,1,0),(1,1,1)\\}$, and $X$ is all $0/1$ vectors in 3 dimensions.\n",
    "3. $$\\begin{align*}\n",
    "      c^\\ast = \\{(0,1,0,0),(0,1,0,1),(0,1,1,0),(1,0,0,0)\\\\\n",
    "      ,(1,1,0,0),(1,1,0,1),(1,1,1,0),(1,1,1,1)\\}\n",
    "    \\end{align*}$$\n",
    "    and $X$ is all $0/1$ vectors in 4 dimensions."
   ]
  },
  {
   "cell_type": "code",
   "execution_count": null,
   "metadata": {
    "deletable": false,
    "lx_assignment_number": "4",
    "lx_assignment_type": "ASSIGNMENT",
    "lx_assignment_type2print": "Assignment",
    "lx_problem_cell_type": "PROBLEM",
    "lx_problem_number": "3",
    "lx_problem_points": "3"
   },
   "outputs": [],
   "source": [
    "# Replace XXX, YYY, ZZZ with True if true and False if false, they represent the three problems\n",
    "Solution_Q1 = XXX\n",
    "Solution_Q2 = YYY\n",
    "Solution_Q3 = ZZZ"
   ]
  },
  {
   "cell_type": "markdown",
   "metadata": {
    "lx_assignment_number": "4",
    "lx_problem_cell_type": "Test"
   },
   "source": [
    "---\n",
    "#### Local Test for Assignment 4, PROBLEM 3\n",
    "Evaluate cell below to make sure your answer is valid.                         You **should not** modify anything in the cell below when evaluating it to do a local test of                         your solution.\n",
    "You may need to include and evaluate code snippets from lecture notebooks in cells above to make the local test work correctly sometimes (see error messages for clues). This is meant to help you become efficient at recalling materials covered in lectures that relate to this problem. Such local tests will generally not be available in the exam."
   ]
  },
  {
   "cell_type": "code",
   "execution_count": 8,
   "metadata": {
    "deletable": false,
    "lx_assignment_number": "4",
    "lx_assignment_type": "ASSIGNMENT",
    "lx_assignment_type2print": "Assignment",
    "lx_problem_cell_type": "Test",
    "lx_problem_number": "3",
    "lx_problem_points": "3"
   },
   "outputs": [
    {
     "name": "stdout",
     "output_type": "stream",
     "text": [
      "Your answer Q1 is a boolean, hopefully it is correct.\n",
      "Your answer Q2 is a boolean, hopefully it is correct.\n",
      "Your answer Q3 is a boolean, hopefully it is correct.\n"
     ]
    }
   ],
   "source": [
    "# test that your answer is indeed booleans by evaluating this cell after you replaced XXX, YYY, ZZZ above and evaluated it.\n",
    "try:\n",
    "    assert(type(Solution_Q1) is bool)\n",
    "    print(\"Your answer Q1 is a boolean, hopefully it is correct.\")\n",
    "except AssertionError:\n",
    "    print(\"Try again! and make sure you are producing a boolean (True or False)\")\n",
    "try:\n",
    "    assert(type(Solution_Q2) is bool)\n",
    "    print(\"Your answer Q2 is a boolean, hopefully it is correct.\")\n",
    "except AssertionError:\n",
    "    print(\"Try again! and make sure you are producing a boolean (True or False)\")\n",
    "try:\n",
    "    assert(type(Solution_Q3) is bool)\n",
    "    print(\"Your answer Q3 is a boolean, hopefully it is correct.\")\n",
    "except AssertionError:\n",
    "    print(\"Try again! and make sure you are producing a boolean (True or False)\")"
   ]
  },
  {
   "cell_type": "markdown",
   "metadata": {},
   "source": [
    "### The case of infinite hypothesis spaces\n",
    "\n",
    "How do we generalize this to infinite hypothesis classes?\n",
    "\n",
    "The first thing we are going to do is to define data dependent equivalence classes.\n",
    "\n",
    "We start with a symmetrization lemma by Vapnik and Chervonenkis, in the book you can find this hidden in the proof of Theorem 5.14.\n",
    "\n",
    "**Symmetrization Lemma (Vapnik, Chervonenkis, 1971):** Let $D$ and $D'$ be two different sample data-sets from $\\mu$ then for $n \\epsilon^2 \\geq 2$\n",
    "$$\\begin{multline}\n",
    "    \\mathbb{P}\\left[\\sup_{h \\in \\mathcal{H}}\\left|err(h) - err_D(h)\\right| > \\epsilon\\right] \n",
    "    \\leq 2\\mathbb{P}\\left[\\sup_{h \\in \\mathcal{H}}\\left|err_D(h) - err_{D'}(h)\\right| > \\frac{\\epsilon}{2}\\right]\n",
    "\\end{multline}\n",
    "$$"
   ]
  },
  {
   "cell_type": "markdown",
   "metadata": {},
   "source": [
    "* Define data-dependent equivalence classes on $\\mathcal{H}$ with respect to $D$\n",
    "$$h_1 = h_2, \\iff h_1(x) = h_2(x), \\forall (x,.) \\in D$$\n",
    "i.e. they produce the same labels.\n",
    "* The set of classes is denoted $\\mathcal{H}_D$, note that $|\\mathcal{H}_D| < \\infty$."
   ]
  },
  {
   "cell_type": "markdown",
   "metadata": {},
   "source": [
    "Now by the union bound we get\n",
    "$$\n",
    "\\begin{multline}\n",
    "    \\mathbb{P}\\left[\\sup_{h \\in \\mathcal{H}_{D\\cup D'}}\\left|err_D(h) - err_{D'}(h)\\right|>\\frac{\\epsilon}{2}\\right] \n",
    "    \\leq s(\\mathcal{H},N) \\sup_{h \\in \\mathcal{H}} \\mathbb{P}\\left[\\left|err_D(h) - err_{D'}(h)\\right|>\\frac{\\epsilon}{2}\\right]\n",
    "\\end{multline}\n",
    "$$\n",
    "where $s(\\mathcal{H},N)$ is an upper bound on $|\\mathcal{H}_{D \\cup D'}|$, called $\\pi_{\\mathcal H}(n)$ in the book."
   ]
  },
  {
   "cell_type": "markdown",
   "metadata": {},
   "source": [
    "# Growth function (shattering number)\n",
    "\n",
    "The largest size of $\\mathcal{H}_D$ for a given $N$ is called the shattering number for $\\mathcal{H}$ given $N$\n",
    "$$s(\\mathcal{H},N) = \\sup_{x_1,\\ldots, x_N} |\\mathcal{H}_{\\{x_1,\\ldots,x_N\\}}|$$\n",
    "> **Note:** this is a combinatorial number and does not depend on $\\mu$. "
   ]
  },
  {
   "cell_type": "markdown",
   "metadata": {},
   "source": [
    "# Can we bound $s(\\mathcal{H},N)$?\n",
    "\n",
    "* If we knew nothing then the best we can do is (binary classification)\n",
    "$$s(\\mathcal{H},N) \\leq 2^N$$\n",
    "Remember: Hoeffdings inequality gave a decay of $\\exp(-2N\\epsilon^2)$. **Too weak**\n",
    "\n",
    "* This is where **VC**(Vapnik Chervonenkis)-dimension comes in!\n",
    "\n",
    "# Vapnik Chervonenkis dimension\n",
    "**Def:** We say that $\\mathcal{H}$ **shatters** a set $D = \\{x_i,i=1,\\ldots, N\\}$ for any disjoint split $D_1,D_{-1}$ of $D$ we can find $h \\in \\mathcal{H}$ such that $h(D_1) = 1$, $h(D_{-1})=-1$.\n",
    "\n",
    "**Def:** The VC-dimension of $\\mathcal{H}$, denoted by $\\text{VC-dim}(\\mathcal{H})$ , equals the largest integer $n$ such that there exists a set of cardinality $n$ that is shattered by $\\mathcal{H}$.\n",
    "\n",
    "# Sauer–Shelah lemma (1972)\n",
    "Let $k = \\text{VC-dim}(\\mathcal{H})$ then for $N > 0$ we have\n",
    "$$\n",
    "    s(\\mathcal{H},N) \\leq \\sum_{i=0}^{k-1} {N \\choose i}\n",
    "$$\n",
    "\n",
    "* Independently proved by Sauer and Shelah in 1972\n",
    "* Actually proved slightly before by Vapnik and Chervonenkis (1971?)\n",
    "\n",
    "This is polynomial:\n",
    "$$s(\\mathcal{H},N) \\leq \\left ( \\frac{Ne}{k}\\right )^k $$\n",
    "\n",
    "Proof: Let $\\lambda \\in (0,1)$ then\n",
    "$$\n",
    "\\begin{align}\n",
    "    1 &= (\\lambda + (1-\\lambda))^N \\\\\n",
    "    &\\geq \\sum_{i=1}^{\\lambda N} {N \\choose i} \\lambda^i(1-\\lambda)^{n-1} \\\\\n",
    "    &\\geq \\sum_{i=1}^{\\lambda N} {N \\choose i} \\left (\\frac{\\lambda}{1-\\lambda} \\right )^{\\lambda n} (1-\\lambda)^n\n",
    "\\end{align}\n",
    "$$\n",
    "Thus\n",
    "$$\n",
    "\\begin{align}\n",
    "    \\sum_{i=1}^{\\lambda N} {N \\choose i} &\\leq e^{N((\\lambda-1)\\log(1-\\lambda)-\\lambda \\log(1-\\lambda))} \\\\\n",
    "    &\\leq e^{N(\\lambda-\\lambda \\log(1-\\lambda))} \\\\\n",
    "    &= \\left ( \\frac{e N}{\\lambda N} \\right )^{\\lambda N}\n",
    "\\end{align}\n",
    "$$\n",
    "Then for $k = \\lambda N$ we have our result."
   ]
  },
  {
   "cell_type": "markdown",
   "metadata": {},
   "source": [
    "# Putting it all together\n",
    "\n",
    "$$\n",
    "\\begin{align}\n",
    "    \\mathbb{P}&\\left[\\sup_{h \\in \\mathcal{H}}\\left|err(h) - err_{D}(h)\\right| > \\epsilon\\right] \\\\\n",
    "    &\\leq 2\\mathbb{P}\\left[\\sup_{h \\in \\mathcal{H}}\\left|err_{D}(h) - err_{D'}(h)\\right| > \\frac{\\epsilon}{2}\\right] \\quad \\text{(Symmetrization Lemma)}\\\\\n",
    "    &\\leq 2 s(\\mathcal{H},2 N) \\sup_{h \\in \\mathcal{H}}  \\mathbb{P}\\left[\\left|err_{D}(h) - err_{D'}(h)\\right|>\\frac{\\epsilon}{2}\\right] \\text{(Shattering number + Classes)}\\\\\n",
    "    &\\leq 2 s(\\mathcal{H},2 N) \\sup_{h \\in \\mathcal{H}}   \\left ( \\mathbb{P}\\left[\\left|err(h) - err_{D}(h)\\right|>\\frac{\\epsilon}{4}\\right] + \\mathbb{P}\\left[\\left|err(h) - err_{D'}(h)\\right|>\\frac{\\epsilon}{4}\\right] \\right ) \\\\\n",
    "    &\\leq 8 s(\\mathcal{H}, 2N)\\exp \\left (-\\frac{N\\epsilon^2}{8} \\right ) \\quad \\text{(Hoeffdings Inequality)} \n",
    "\\end{align}\n",
    "$$"
   ]
  },
  {
   "cell_type": "markdown",
   "metadata": {},
   "source": [
    "Finally we have proved the VC inequality\n",
    "\n",
    "# VC inequality (1971)\n",
    "\n",
    "$$\n",
    "\\begin{multline}\n",
    "    \\mathbb{P}\\left[\\sup_{h \\in \\mathcal{H}}\\left|err(h) - err_D(h)\\right| > \\epsilon\\right] \n",
    "    \\leq 8 s(\\mathcal{H},2N) \\exp \\left (-\\frac{N\\epsilon^2}{8} \\right )\n",
    "\\end{multline}\n",
    "$$\n",
    "\n",
    "Choosing the values of $\\epsilon$ wisely we can get\n",
    "\n",
    "# VC generalization bound\n",
    "Thus we can for any $\\delta$ find that with probability $(1-\\delta)$ the following estimate holds\n",
    "\n",
    "$$\n",
    "    err(h) \\leq err_{D} + \\sqrt{\\frac{8 \\ln(s(\\mathcal{H},2N))+8\\ln\\frac{8}{\\delta}}{N}}\n",
    "$$\n",
    "\n",
    "for any $h \\in \\mathcal{H}$.\n",
    "\n",
    "Using the bound on the growth function when we have a fixed VC dimension, the above bound becomes\n",
    "\n",
    "# VC generalization bound\n",
    "We can for any $\\delta$ find that with probability $(1-\\delta)$ the following estimate holds\n",
    "$k = \\text{VC-dim}(\\mathcal{H})$\n",
    "$$\n",
    "    err(h) \\leq err_{D} + \\sqrt{\\frac{8 k\\ln\\left ( \\frac{2Ne}{k}\\right )+8\\ln\\frac{8}{\\delta}}{N}}\n",
    "$$\n",
    "We need $k \\lesssim N$ in order for the estimate to be useful."
   ]
  },
  {
   "cell_type": "markdown",
   "metadata": {},
   "source": [
    "We can plot how many data-points are needed just to make the quantity on the right hand side less than $1$."
   ]
  },
  {
   "cell_type": "code",
   "execution_count": 11,
   "metadata": {},
   "outputs": [
    {
     "data": {
      "image/png": "[encoded data removed]",
      "text/plain": [
       "<Figure size 504x504 with 1 Axes>"
      ]
     },
     "metadata": {},
     "output_type": "display_data"
    }
   ],
   "source": [
    "from scipy.optimize import fsolve\n",
    "import numpy as np\n",
    "import matplotlib.pyplot as plt\n",
    "\n",
    "def find_N(k=1,prec=0.1):\n",
    "    delta=0.1\n",
    "    c = 8*k\n",
    "    t = 8*k*np.log(2*np.e/k)+8*np.log(8/delta)\n",
    "    func = lambda x: t+c*np.log(x)-prec*x\n",
    "    x_init = k*1000\n",
    "    return fsolve(func,x_init)\n",
    "\n",
    "k = np.arange(1,100)\n",
    "N = np.array([find_N(k0,1) for k0 in k]).ravel()\n",
    "def plot_numreq():\n",
    "    plt.figure(figsize=(7,7))\n",
    "    plt.plot(k,N)\n",
    "    plt.xlabel(\"VC-dimension = $k$\")\n",
    "    plt.ylabel(\"Datapoints required = $N$\")\n",
    "    plt.title(\"$\\\\frac{8 k\\\\ln\\\\left ( \\\\frac{2Ne}{k}\\\\right )+8\\\\ln\\\\frac{8}{\\\\delta}}{N} = 1, \\\\delta = 0.1$\",fontsize=15,pad=10)\n",
    "    plt.show()\n",
    "\n",
    "plot_numreq()"
   ]
  },
  {
   "cell_type": "markdown",
   "metadata": {},
   "source": [
    "The above implies that for a model that has many parameters, we need a vast amount of data-points. Thus theoretical guarantees are quite lax."
   ]
  },
  {
   "cell_type": "markdown",
   "metadata": {
    "lx_assignment_number": "4",
    "lx_problem_cell_type": "PROBLEM"
   },
   "source": [
    "---\n",
    "## Assignment 4, PROBLEM 4\n",
    "Maximum Points = 1"
   ]
  },
  {
   "cell_type": "markdown",
   "metadata": {
    "deletable": false,
    "lx_assignment_number": "4",
    "lx_assignment_type": "ASSIGNMENT",
    "lx_assignment_type2print": "Assignment",
    "lx_problem_cell_type": "PROBLEM",
    "lx_problem_number": "4",
    "lx_problem_points": "1"
   },
   "source": [
    "\n",
    "In Problem 1 we looked at the following problem:\n",
    "Consider an instance space $X$ consisting of integers $1$ to $1000$ and a target concept $c^\\ast = \\{x: 501 \\leq x \\leq 1000\\}$. If your hypothesis class $\\mathcal H$ is $\\{h_j:\\, h_j=\\{x: j \\leq x \\leq 1000\\}, j=1,\\ldots,1000\\}$. \n",
    "\n",
    "What is the VC-dimension of our hypothesis class? That is, what is the maximum number of points such that $\\mathcal H$ shatters that set?"
   ]
  },
  {
   "cell_type": "code",
   "execution_count": null,
   "metadata": {
    "deletable": false,
    "lx_assignment_number": "4",
    "lx_assignment_type": "ASSIGNMENT",
    "lx_assignment_type2print": "Assignment",
    "lx_problem_cell_type": "PROBLEM",
    "lx_problem_number": "4",
    "lx_problem_points": "1"
   },
   "outputs": [],
   "source": [
    "# Replace XXX with the VC dimension\n",
    "VC_dimension = XXX"
   ]
  },
  {
   "cell_type": "markdown",
   "metadata": {
    "lx_assignment_number": "4",
    "lx_problem_cell_type": "Test"
   },
   "source": [
    "---\n",
    "#### Local Test for Assignment 4, PROBLEM 4\n",
    "Evaluate cell below to make sure your answer is valid.                         You **should not** modify anything in the cell below when evaluating it to do a local test of                         your solution.\n",
    "You may need to include and evaluate code snippets from lecture notebooks in cells above to make the local test work correctly sometimes (see error messages for clues). This is meant to help you become efficient at recalling materials covered in lectures that relate to this problem. Such local tests will generally not be available in the exam."
   ]
  },
  {
   "cell_type": "code",
   "execution_count": 14,
   "metadata": {
    "deletable": false,
    "lx_assignment_number": "4",
    "lx_assignment_type": "ASSIGNMENT",
    "lx_assignment_type2print": "Assignment",
    "lx_problem_cell_type": "Test",
    "lx_problem_number": "4",
    "lx_problem_points": "1"
   },
   "outputs": [
    {
     "name": "stdout",
     "output_type": "stream",
     "text": [
      "Your answer is an integer, hopefully it is correct.\n"
     ]
    }
   ],
   "source": [
    "# test that your answer is indeed a number by evaluating this cell after you replaced XXX above and evaluated it.\n",
    "\n",
    "try:\n",
    "    assert((type(VC_dimension) is Integer) or (type(VC_dimension) is int))\n",
    "    print(\"Your answer is an integer, hopefully it is correct.\")\n",
    "except AssertionError:\n",
    "    print(\"Try again! and make sure you are producing an integer of class Integer or int\")"
   ]
  },
  {
   "cell_type": "markdown",
   "metadata": {
    "lx_assignment_number": "4",
    "lx_problem_cell_type": "PROBLEM"
   },
   "source": [
    "---\n",
    "## Assignment 4, PROBLEM 5\n",
    "Maximum Points = 1"
   ]
  },
  {
   "cell_type": "markdown",
   "metadata": {
    "deletable": false,
    "lx_assignment_number": "4",
    "lx_assignment_type": "ASSIGNMENT",
    "lx_assignment_type2print": "Assignment",
    "lx_problem_cell_type": "PROBLEM",
    "lx_problem_number": "5",
    "lx_problem_points": "1"
   },
   "source": [
    "\n",
    "Revisit problem 1 using the VC_dimension that you used in Problem 3, by instead applying the VC-bound.\n",
    "Consider an instance space $X$ consisting of integers $1$ to $1000$ and a target concept $c^\\ast = \\{x: 501 \\leq x \\leq 1000\\}$. If your hypothesis class $\\mathcal H$ is $\\{h_j:\\, h_j=\\{x: j \\leq x \\leq 1000\\}, j=1,\\ldots,1000\\}$. How large must the training set $S$ be to ensure that with probability $99\\%$ any consistent hypothesis (training error 0) will have a true error less than $10\\%$."
   ]
  },
  {
   "cell_type": "code",
   "execution_count": 4,
   "metadata": {
    "deletable": false,
    "lx_assignment_number": "4",
    "lx_assignment_type": "ASSIGNMENT",
    "lx_assignment_type2print": "Assignment",
    "lx_problem_cell_type": "PROBLEM",
    "lx_problem_number": "5",
    "lx_problem_points": "1"
   },
   "outputs": [
    {
     "ename": "NameError",
     "evalue": "name 'XXX' is not defined",
     "output_type": "error",
     "traceback": [
      "\u001b[0;31m---------------------------------------------------------------------------\u001b[0m",
      "\u001b[0;31mNameError\u001b[0m                                 Traceback (most recent call last)",
      "\u001b[0;32m<ipython-input-4-b9af76d6abd5>\u001b[0m in \u001b[0;36m<module>\u001b[0;34m()\u001b[0m\n\u001b[1;32m      1\u001b[0m \u001b[0;31m# ASSIGNMENT 4, PROBLEM 5, POINTS 1\u001b[0m\u001b[0;34m\u001b[0m\u001b[0;34m\u001b[0m\u001b[0;34m\u001b[0m\u001b[0m\n\u001b[1;32m      2\u001b[0m \u001b[0;31m# Replace the XXX below with the number of training samples needed to satisfy the problem\u001b[0m\u001b[0;34m\u001b[0m\u001b[0;34m\u001b[0m\u001b[0;34m\u001b[0m\u001b[0m\n\u001b[0;32m----> 3\u001b[0;31m \u001b[0mN5\u001b[0m \u001b[0;34m=\u001b[0m \u001b[0mXXX\u001b[0m\u001b[0;34m\u001b[0m\u001b[0;34m\u001b[0m\u001b[0m\n\u001b[0m",
      "\u001b[0;31mNameError\u001b[0m: name 'XXX' is not defined"
     ]
    }
   ],
   "source": [
    "# Replace the XXX below with the number of training samples needed to satisfy the problem\n",
    "N5 = XXX"
   ]
  },
  {
   "cell_type": "markdown",
   "metadata": {
    "lx_assignment_number": "4",
    "lx_problem_cell_type": "Test"
   },
   "source": [
    "---\n",
    "#### Local Test for Assignment 4, PROBLEM 5\n",
    "Evaluate cell below to make sure your answer is valid.                         You **should not** modify anything in the cell below when evaluating it to do a local test of                         your solution.\n",
    "You may need to include and evaluate code snippets from lecture notebooks in cells above to make the local test work correctly sometimes (see error messages for clues). This is meant to help you become efficient at recalling materials covered in lectures that relate to this problem. Such local tests will generally not be available in the exam."
   ]
  },
  {
   "cell_type": "code",
   "execution_count": 7,
   "metadata": {
    "deletable": false,
    "lx_assignment_number": "4",
    "lx_assignment_type": "ASSIGNMENT",
    "lx_assignment_type2print": "Assignment",
    "lx_problem_cell_type": "Test",
    "lx_problem_number": "5",
    "lx_problem_points": "1"
   },
   "outputs": [
    {
     "name": "stdout",
     "output_type": "stream",
     "text": [
      "Your answer is an integer, hopefully it is correct.\n"
     ]
    }
   ],
   "source": [
    "# test that your answer is indeed a number by evaluating this cell after you replaced XXX above and evaluated it.\n",
    "try:\n",
    "    assert((type(N5) is Integer) or (type(N5) is int))\n",
    "    print(\"Your answer is an integer, hopefully it is correct.\")\n",
    "except AssertionError:\n",
    "    print(\"Try again! and make sure you are producing an integer of class Integer or int\")"
   ]
  }
 ],
 "metadata": {
  "kernelspec": {
   "display_name": "SageMath 9.1",
   "language": "sage",
   "name": "sagemath"
  },
  "language_info": {
   "codemirror_mode": {
    "name": "ipython",
    "version": 3
   },
   "file_extension": ".py",
   "mimetype": "text/x-python",
   "name": "python",
   "nbconvert_exporter": "python",
   "pygments_lexer": "ipython3",
   "version": "3.7.8"
  },
  "lx_course_instance": "2020",
  "lx_course_name": "Introduction to Data Science: A Comp-Math-Stat Approach",
  "lx_course_number": "1MS041"
 },
 "nbformat": 4,
 "nbformat_minor": 2
}
