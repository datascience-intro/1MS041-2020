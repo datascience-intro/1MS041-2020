{
 "cells": [
  {
   "cell_type": "markdown",
   "metadata": {
    "deletable": false
   },
   "source": [
    "# [Introduction to Data Science: A Comp-Math-Stat Approach](https://lamastex.github.io/scalable-data-science/as/2019/)\n",
    "## 1MS041, 2020 \n",
    "&copy;2020 Raazesh Sainudiin, Benny Avelin. [Attribution 4.0 International (CC BY 4.0)](https://creativecommons.org/licenses/by/4.0/)"
   ]
  },
  {
   "cell_type": "markdown",
   "metadata": {
    "deletable": false
   },
   "source": [
    "# Assignment 1 for Course 1MS041\n",
    "Make     sure you pass the `# ... Test` cells and\n",
    " submit your solution notebook in the corresponding assignment on the course website. You can submit multiple times before the deadline     and your highest score will be used."
   ]
  },
  {
   "cell_type": "markdown",
   "metadata": {
    "lx_assignment_number": "1",
    "lx_problem_cell_type": "PROBLEM"
   },
   "source": [
    "---\n",
    "## Assignment 1, PROBLEM 1\n",
    "Maximum Points = 2"
   ]
  },
  {
   "cell_type": "markdown",
   "metadata": {
    "deletable": false,
    "lx_assignment_number": "1",
    "lx_assignment_type": "ASSIGNMENT",
    "lx_assignment_type2print": "Assignment",
    "lx_problem_cell_type": "PROBLEM",
    "lx_problem_number": "1",
    "lx_problem_points": "2"
   },
   "source": [
    "\n",
    "### Finding out the number of lines and characters in a file\n",
    "\n",
    "Evaluate the following two cells by replacing `X` with the right command-line option to `wc` command in order to find:\n",
    "\n",
    "1. the number of lines in `data/earthquakes_small.csv` and \n",
    "2. the number of characters in `data/earthquakes_small.csv` \n",
    "\n",
    "Finally, update the following cell by replacing `XXX` with the right integer answers, respectively, for:\n",
    "\n",
    "1. `NumberOfLinesIn_earthquakes_small_csv_file` and \n",
    "2. `NumberOfCharactersIn_earthquakes_small_csv_file` \n",
    "\n",
    "Here is a brief synopsis of `wc` that you would get from running `man wc` as follows:\n",
    "```\n",
    "%%sh\n",
    "man wc\n",
    "```\n",
    "\n",
    "```\n",
    "WC(1)                     BSD General Commands Manual                    WC(1)\n",
    "\n",
    "NAME\n",
    "     wc -- word, line, character, and byte count\n",
    "\n",
    "SYNOPSIS\n",
    "     wc [-clmw] [file ...]\n",
    "\n",
    "DESCRIPTION\n",
    "     The wc utility displays the number of lines, words, and bytes contained in each input file, or standard input (if no file is specified) to the standard output.  A line is defined as a string of characters delimited by a <newline> character.  Characters beyond the final <newline> character will not be included in the line count.\n",
    "\n",
    "     A word is defined as a string of characters delimited by white space characters.  White space characters are the set of characters for which the iswspace(3) function returns true.  If more than one input file is specified, a line of cumulative counts for all the files is displayed on a separate line after the output for the last file.\n",
    "\n",
    "     The following options are available:\n",
    "\n",
    "     -c      The number of bytes in each input file is written to the standard output.  This will cancel out any prior usage of the -m option.\n",
    "\n",
    "     -l      The number of lines in each input file is written to the standard output.\n",
    "\n",
    "     -m      The number of characters in each input file is written to the standard output.  If the current locale does not support multibyte\n",
    "             characters, this is equivalent to the -c option.  This will cancel out any prior usage of the -c option.\n",
    "\n",
    "     -w      The number of words in each input file is written to the standard output.\n",
    "\n",
    "     When an option is specified, wc only reports the information requested by that option.  The order of output always takes the form of line, word, byte, and file name.  The default action is equivalent to specifying the -c, -l and -w options.\n",
    "```"
   ]
  },
  {
   "cell_type": "code",
   "execution_count": 1,
   "metadata": {
    "deletable": false,
    "lx_assignment_number": "1",
    "lx_assignment_type": "ASSIGNMENT",
    "lx_assignment_type2print": "Assignment",
    "lx_problem_cell_type": "PROBLEM",
    "lx_problem_number": "1",
    "lx_problem_points": "2"
   },
   "outputs": [
    {
     "ename": "SyntaxError",
     "evalue": "invalid syntax (<ipython-input-1-90a1f9066310>, line 2)",
     "output_type": "error",
     "traceback": [
      "\u001b[0;36m  File \u001b[0;32m\"<ipython-input-1-90a1f9066310>\"\u001b[0;36m, line \u001b[0;32m2\u001b[0m\n\u001b[0;31m    %%sh\u001b[0m\n\u001b[0m    ^\u001b[0m\n\u001b[0;31mSyntaxError\u001b[0m\u001b[0;31m:\u001b[0m invalid syntax\n"
     ]
    }
   ],
   "source": [
    "%%sh\n",
    "# replace X in the next line with the right option to find the number of lines\n",
    "wc -X data/earthquakes_small.csv"
   ]
  },
  {
   "cell_type": "code",
   "execution_count": 2,
   "metadata": {
    "deletable": false,
    "lx_assignment_number": "1",
    "lx_assignment_type": "ASSIGNMENT",
    "lx_assignment_type2print": "Assignment",
    "lx_problem_cell_type": "PROBLEM",
    "lx_problem_number": "1",
    "lx_problem_points": "2"
   },
   "outputs": [
    {
     "ename": "SyntaxError",
     "evalue": "invalid syntax (<ipython-input-2-3c5b3f117d23>, line 2)",
     "output_type": "error",
     "traceback": [
      "\u001b[0;36m  File \u001b[0;32m\"<ipython-input-2-3c5b3f117d23>\"\u001b[0;36m, line \u001b[0;32m2\u001b[0m\n\u001b[0;31m    %%sh\u001b[0m\n\u001b[0m    ^\u001b[0m\n\u001b[0;31mSyntaxError\u001b[0m\u001b[0;31m:\u001b[0m invalid syntax\n"
     ]
    }
   ],
   "source": [
    "%%sh\n",
    "# replace X in the next line with the right option to find the number of characters\n",
    "wc -X data/earthquakes_small.csv"
   ]
  },
  {
   "cell_type": "code",
   "execution_count": null,
   "metadata": {
    "deletable": false,
    "lx_assignment_number": "1",
    "lx_assignment_type": "ASSIGNMENT",
    "lx_assignment_type2print": "Assignment",
    "lx_problem_cell_type": "PROBLEM",
    "lx_problem_number": "1",
    "lx_problem_points": "2"
   },
   "outputs": [],
   "source": [
    "# write your answer below by replacing XXX don't modify anything else! \n",
    "\n",
    "NumberOfLinesIn_earthquakes_small_csv_file = XXX\n",
    "NumberOfCharactersIn_earthquakes_small_csv_file = XXX"
   ]
  },
  {
   "cell_type": "code",
   "execution_count": null,
   "metadata": {
    "deletable": false,
    "lx_assignment_number": "1",
    "lx_assignment_type": "ASSIGNMENT",
    "lx_assignment_type2print": "Assignment",
    "lx_problem_cell_type": "PROBLEM",
    "lx_problem_number": "1",
    "lx_problem_points": "2"
   },
   "outputs": [],
   "source": [
    "NumberOfLinesIn_earthquakes_small_csv_file = 411\n",
    "NumberOfCharactersIn_earthquakes_small_csv_file = 77786"
   ]
  },
  {
   "cell_type": "markdown",
   "metadata": {
    "lx_assignment_number": "1",
    "lx_problem_cell_type": "Test"
   },
   "source": [
    "---\n",
    "#### Local Test for Assignment 1, PROBLEM 1\n",
    "Evaluate cell below to make sure your answer is valid.                         You **should not** modify anything in the cell below when evaluating it to do a local test of                         your solution.\n",
    "You may need to include and evaluate code snippets from lecture notebooks in cells above to make the local test work correctly sometimes (see error messages for clues). This is meant to help you become efficient at recalling materials covered in lectures that relate to this problem. Such local tests will generally not be available in the exam."
   ]
  },
  {
   "cell_type": "code",
   "execution_count": null,
   "metadata": {
    "deletable": false,
    "lx_assignment_number": "1",
    "lx_assignment_type": "ASSIGNMENT",
    "lx_assignment_type2print": "Assignment",
    "lx_problem_cell_type": "Test",
    "lx_problem_number": "1",
    "lx_problem_points": "2"
   },
   "outputs": [],
   "source": [
    "# Evaluate this cell locally to make sure you have the answer as a non-negative integer\n",
    "try:\n",
    "    assert(NumberOfLinesIn_earthquakes_small_csv_file > -1)\n",
    "    print(\"Good! You have 0 or more lines as your answer. Hopefully it is the correct!\")\n",
    "except AssertionError:\n",
    "    print(\"Try Again. You seem to not have a valid number of lines as your answer.\")\n",
    "try:\n",
    "    assert(NumberOfCharactersIn_earthquakes_small_csv_file > -1)\n",
    "    print(\"Good! You have 0 or more characters as your answer. Hopefully it is the correct!\")\n",
    "except AssertionError:\n",
    "    print(\"Try Again. You seem to not have a valid number of characters as your answer.\")"
   ]
  },
  {
   "cell_type": "code",
   "execution_count": null,
   "metadata": {
    "deletable": false,
    "lx_assignment_number": "1",
    "lx_assignment_type": "ASSIGNMENT",
    "lx_assignment_type2print": "Assignment",
    "lx_problem_cell_type": "Test",
    "lx_problem_number": "1",
    "lx_problem_points": "2"
   },
   "outputs": [],
   "source": [
    "\n",
    "local_points=0\n",
    "\n",
    "try:\n",
    "    assert(NumberOfLinesIn_earthquakes_small_csv_file==411)\n",
    "except:\n",
    "    print \"You have not found the correct number of lines. See the solution notebook.\"\n",
    "else:\n",
    "    print \"You have the correct number of lines, congratulations!\"\n",
    "    local_points +=  1\n",
    "finally:\n",
    "    print(\"The number of points you have scored for this problem so far = \"+str(local_points))\n",
    "    \n",
    "try:\n",
    "    assert(NumberOfCharactersIn_earthquakes_small_csv_file==77786)\n",
    "    # print point for this problem\n",
    "except:\n",
    "    print \"You have not found the correct number of characters. See the solution notebook.\"\n",
    "else:\n",
    "    print \"You have the correct number of characters, congratulations!\"\n",
    "    local_points +=  1\n",
    "finally:\n",
    "    print(\"The number of points you have scored for this problem so far = \"+str(local_points))\n",
    "    "
   ]
  },
  {
   "cell_type": "markdown",
   "metadata": {
    "lx_assignment_number": "1",
    "lx_problem_cell_type": "PROBLEM"
   },
   "source": [
    "---\n",
    "## Assignment 1, PROBLEM 2\n",
    "Maximum Points = 1"
   ]
  },
  {
   "cell_type": "markdown",
   "metadata": {
    "deletable": false,
    "lx_assignment_number": "1",
    "lx_assignment_type": "ASSIGNMENT",
    "lx_assignment_type2print": "Assignment",
    "lx_problem_cell_type": "PROBLEM",
    "lx_problem_number": "2",
    "lx_problem_points": "1"
   },
   "source": [
    "\n",
    "Consider the experiment where we roll two fair dice independently. \n",
    "\n",
    "Let $D$ be the event that \"the sum of the two dice is 8\" and let $C$ be the event that \"the first die is 2\".\n",
    "\n",
    "What is the probability of D given C, i.e. what is $P(D|C)$?\n",
    "\n",
    "Do the calculation by hand and write the answer in the next cell by assigning the variable `ProbOfDGivenC`. "
   ]
  },
  {
   "cell_type": "code",
   "execution_count": 3,
   "metadata": {
    "deletable": false,
    "lx_assignment_number": "1",
    "lx_assignment_type": "ASSIGNMENT",
    "lx_assignment_type2print": "Assignment",
    "lx_problem_cell_type": "PROBLEM",
    "lx_problem_number": "2",
    "lx_problem_points": "1"
   },
   "outputs": [
    {
     "ename": "NameError",
     "evalue": "name 'XXX' is not defined",
     "output_type": "error",
     "traceback": [
      "\u001b[0;31m---------------------------------------------------------------------------\u001b[0m",
      "\u001b[0;31mNameError\u001b[0m                                 Traceback (most recent call last)",
      "\u001b[0;32m<ipython-input-3-a8212807c17c>\u001b[0m in \u001b[0;36m<module>\u001b[0;34m()\u001b[0m\n\u001b[1;32m      2\u001b[0m \u001b[0;31m# Replace XXX below with the correct answer to Assignment 1 Problem 3\u001b[0m\u001b[0;34m\u001b[0m\u001b[0;34m\u001b[0m\u001b[0;34m\u001b[0m\u001b[0m\n\u001b[1;32m      3\u001b[0m \u001b[0;31m# Do NOT change the name of the variable ProbOfDGivenC\u001b[0m\u001b[0;34m\u001b[0m\u001b[0;34m\u001b[0m\u001b[0;34m\u001b[0m\u001b[0m\n\u001b[0;32m----> 4\u001b[0;31m \u001b[0mProbOfDGivenC\u001b[0m \u001b[0;34m=\u001b[0m \u001b[0mXXX\u001b[0m\u001b[0;34m\u001b[0m\u001b[0;34m\u001b[0m\u001b[0m\n\u001b[0m",
      "\u001b[0;31mNameError\u001b[0m: name 'XXX' is not defined"
     ]
    }
   ],
   "source": [
    "# Replace XXX below with the correct answer to Assignment 1 Problem 3\n",
    "# Do NOT change the name of the variable ProbOfDGivenC\n",
    "ProbOfDGivenC = XXX"
   ]
  },
  {
   "cell_type": "markdown",
   "metadata": {
    "lx_assignment_number": "1",
    "lx_problem_cell_type": "Test"
   },
   "source": [
    "---\n",
    "#### Local Test for Assignment 1, PROBLEM 2\n",
    "Evaluate cell below to make sure your answer is valid.                         You **should not** modify anything in the cell below when evaluating it to do a local test of                         your solution.\n",
    "You may need to include and evaluate code snippets from lecture notebooks in cells above to make the local test work correctly sometimes (see error messages for clues). This is meant to help you become efficient at recalling materials covered in lectures that relate to this problem. Such local tests will generally not be available in the exam."
   ]
  },
  {
   "cell_type": "code",
   "execution_count": 4,
   "metadata": {
    "deletable": false,
    "lx_assignment_number": "1",
    "lx_assignment_type": "ASSIGNMENT",
    "lx_assignment_type2print": "Assignment",
    "lx_problem_cell_type": "Test",
    "lx_problem_number": "2",
    "lx_problem_points": "1"
   },
   "outputs": [
    {
     "ename": "NameError",
     "evalue": "name 'ProbOfDGivenC' is not defined",
     "output_type": "error",
     "traceback": [
      "\u001b[0;31m---------------------------------------------------------------------------\u001b[0m",
      "\u001b[0;31mNameError\u001b[0m                                 Traceback (most recent call last)",
      "\u001b[0;32m<ipython-input-4-323b37913737>\u001b[0m in \u001b[0;36m<module>\u001b[0;34m()\u001b[0m\n\u001b[1;32m      2\u001b[0m \u001b[0;31m# test that your answer is indeed a probability by evaluating this cell after you replaced XXX above and evaluated it.\u001b[0m\u001b[0;34m\u001b[0m\u001b[0;34m\u001b[0m\u001b[0;34m\u001b[0m\u001b[0m\n\u001b[1;32m      3\u001b[0m \u001b[0;32mtry\u001b[0m\u001b[0;34m:\u001b[0m\u001b[0;34m\u001b[0m\u001b[0;34m\u001b[0m\u001b[0m\n\u001b[0;32m----> 4\u001b[0;31m     \u001b[0;32massert\u001b[0m\u001b[0;34m(\u001b[0m\u001b[0mProbOfDGivenC\u001b[0m \u001b[0;34m>=\u001b[0m \u001b[0mInteger\u001b[0m\u001b[0;34m(\u001b[0m\u001b[0;36m0\u001b[0m\u001b[0;34m)\u001b[0m \u001b[0;32mand\u001b[0m \u001b[0mProbOfDGivenC\u001b[0m \u001b[0;34m<=\u001b[0m \u001b[0mInteger\u001b[0m\u001b[0;34m(\u001b[0m\u001b[0;36m1\u001b[0m\u001b[0;34m)\u001b[0m\u001b[0;34m)\u001b[0m\u001b[0;34m\u001b[0m\u001b[0;34m\u001b[0m\u001b[0m\n\u001b[0m\u001b[1;32m      5\u001b[0m     \u001b[0mprint\u001b[0m\u001b[0;34m(\u001b[0m\u001b[0;34m\"Your answer is a probability, hopefully it is correct.\"\u001b[0m\u001b[0;34m)\u001b[0m\u001b[0;34m\u001b[0m\u001b[0;34m\u001b[0m\u001b[0m\n\u001b[1;32m      6\u001b[0m \u001b[0;32mexcept\u001b[0m \u001b[0mAssertionError\u001b[0m\u001b[0;34m:\u001b[0m\u001b[0;34m\u001b[0m\u001b[0;34m\u001b[0m\u001b[0m\n",
      "\u001b[0;31mNameError\u001b[0m: name 'ProbOfDGivenC' is not defined"
     ]
    }
   ],
   "source": [
    "# test that your answer is indeed a probability by evaluating this cell after you replaced XXX above and evaluated it.\n",
    "try:\n",
    "    assert(ProbOfDGivenC >= 0 and ProbOfDGivenC <= 1)\n",
    "    print(\"Your answer is a probability, hopefully it is correct.\")\n",
    "except AssertionError:\n",
    "    print(\"Try again! and make sure you are actually producing a valid probability, i.e., a real number in [0,1]\")"
   ]
  },
  {
   "cell_type": "code",
   "execution_count": 5,
   "metadata": {
    "deletable": false,
    "lx_assignment_number": "1",
    "lx_assignment_type": "ASSIGNMENT",
    "lx_assignment_type2print": "Assignment",
    "lx_problem_cell_type": "Test",
    "lx_problem_number": "2",
    "lx_problem_points": "1"
   },
   "outputs": [],
   "source": [
    "# This answer can be arrived by following the exact same reasoning in 04.ipynb about throwing two independent dice\n",
    "ProbOfDGivenC = 1/5"
   ]
  },
  {
   "cell_type": "code",
   "execution_count": 8,
   "metadata": {
    "deletable": false,
    "lx_assignment_number": "1",
    "lx_assignment_type": "ASSIGNMENT",
    "lx_assignment_type2print": "Assignment",
    "lx_problem_cell_type": "Test",
    "lx_problem_number": "2",
    "lx_problem_points": "1"
   },
   "outputs": [
    {
     "name": "stdout",
     "output_type": "stream",
     "text": [
      "You have passed the test for this problem, congratulations!\n",
      "The number of points you have scored for this problem so far = 1\n"
     ]
    }
   ],
   "source": [
    "\n",
    "local_points=0\n",
    "\n",
    "try:\n",
    "    assert(ProbOfDGivenC == 1/5)\n",
    "except:\n",
    "    print(\"You have failed to pass the test for this problem. See solution.\")\n",
    "else:\n",
    "    print(\"You have passed the test for this problem, congratulations!\")\n",
    "    local_points += 1\n",
    "finally:\n",
    "    print(\"The number of points you have scored for this problem so far = \"+str(local_points))"
   ]
  },
  {
   "cell_type": "markdown",
   "metadata": {
    "lx_assignment_number": "1",
    "lx_problem_cell_type": "PROBLEM"
   },
   "source": [
    "---\n",
    "## Assignment 1, PROBLEM 3\n",
    "Maximum Points = 2"
   ]
  },
  {
   "cell_type": "markdown",
   "metadata": {
    "deletable": false,
    "lx_assignment_number": "1",
    "lx_assignment_type": "ASSIGNMENT",
    "lx_assignment_type2print": "Assignment",
    "lx_problem_cell_type": "PROBLEM",
    "lx_problem_number": "3",
    "lx_problem_points": "2"
   },
   "source": [
    "\n",
    "Recall that for a given parameter $\\theta \\in [0,1]$, the probability mass function (PMF) for the $Bernoulli(\\theta)$ RV $X$ is:\n",
    "\n",
    "$$\n",
    "\\begin{equation}\n",
    "f(x;\\theta)= \\theta^x (1-\\theta)^{1-x} \\mathbf{1}_{\\{0,1\\}}(x) =\n",
    "\\begin{cases}\n",
    "\\theta & \\text{if $x=1$,}\\\\\n",
    "1-\\theta & \\text{if $x=0$,}\\\\\n",
    "0 & \\text{otherwise}\n",
    "\\end{cases}\n",
    "\\end{equation}\n",
    "$$\n",
    "\n",
    "In the next cell write a function named `pmfOfBernoulli` that takes in two arguments:\n",
    "\n",
    "- the first argument is `x` and \n",
    "- the second argument is `theta`\n",
    "\n",
    "and returns the value for $f(x; \\theta)$."
   ]
  },
  {
   "cell_type": "code",
   "execution_count": 1,
   "metadata": {
    "deletable": false,
    "lx_assignment_number": "1",
    "lx_assignment_type": "ASSIGNMENT",
    "lx_assignment_type2print": "Assignment",
    "lx_problem_cell_type": "PROBLEM",
    "lx_problem_number": "3",
    "lx_problem_points": "2"
   },
   "outputs": [],
   "source": [
    "# Replace RRR...RRR below Do NOT change the name of the function `pmfOfBernoulli`!\n",
    "\n",
    "def pmfOfBernoulli(x, theta):\n",
    "    '''RRR ... RRR'''\n",
    "    RRR\n",
    "    RRR\n",
    "    RRR\n",
    "    ...\n",
    "    RRR"
   ]
  },
  {
   "cell_type": "code",
   "execution_count": 82,
   "metadata": {
    "deletable": false,
    "lx_assignment_number": "1",
    "lx_assignment_type": "ASSIGNMENT",
    "lx_assignment_type2print": "Assignment",
    "lx_problem_cell_type": "PROBLEM",
    "lx_problem_number": "3",
    "lx_problem_points": "2"
   },
   "outputs": [],
   "source": [
    "\n",
    "local_points=0\n",
    "\n",
    "# This is just one possible solution to pass the hidden tests to get all 2 points\n",
    "# You may have written it differently and as long as you passed the test it is fine.\n",
    "def pmfOfBernoulli(x, theta):\n",
    "    '''return the probability of a Bernoulli(theta) RV with outcome x, i.e., the PMF f(x; theta)'''\n",
    "    pmfValue = 0 # pmf value is 0 for all x except when x=0 or x=1\n",
    "    if x == 0:\n",
    "        pmfValue = 1-theta\n",
    "    if x == 1:\n",
    "        pmfValue = theta\n",
    "    return pmfValue\n",
    "\n",
    "# the above function is good enough for now, but those who want to put Try-Catch we saw later to use see below!\n",
    "def pmfOfBernoulliInReallyAppliedStatistics(x, theta):\n",
    "    '''return the probability of a Bernoulli(theta) RV with outcome x, i.e., the PMF f(x; theta) more properly'''\n",
    "    ##################################################################################################################\n",
    "    # you'll get credits without try-catch; in \"Really Applied Stats\" it's important to check edge cases & constraints\n",
    "    # first try-catch to check that theta is a real number and in the allowed parameter range [0,1]\n",
    "    try: \n",
    "        assert isinstance(theta.n(digits=6), sage.rings.real_mpfr.RealNumber) and (theta >= 0.0 or theta >= 1.0)\n",
    "    except AssertionError:\n",
    "        print(\"Input Error: parameter theta should be a real number in [0,1]\")\n",
    "        pmfValue = None # return Python type 'None' as pmf value when theta is undefined\n",
    "    # second try-catch to see if the outcome_x is convertible into a real number\n",
    "    try: \n",
    "        assert isinstance(x.n(digits=6), sage.rings.real_mpfr.RealNumber)\n",
    "    except AssertionError:\n",
    "        print(\"Input Error: Bernoulli outcome x should be a real number as it is a real-valued random variable\")\n",
    "        pmfValue = None # return Python type 'None' as pmf value when theta is undefined\n",
    "    ################################################################################################################## \n",
    "    pmfValue = 0 # pmf value is 0 for all x except when x=0 or x=1\n",
    "    if x == 0:\n",
    "        pmfValue = 1-theta\n",
    "    if x == 1:\n",
    "        pmfValue = theta\n",
    "    return pmfValue\n",
    "\n",
    "### for example the following inputs will be flagged as input errors now for Try-Catch'd version\n",
    "# pmfOfBernoulliInReallyAppliedStatistics(1, -0.5)\n",
    "# pmfOfBernoulliInReallyAppliedStatistics('b', 0.5)\n",
    "### but NOT for the quick version - which is good enough to pass all tests for us now, \n",
    "### since we as users of this function know types and constraints need to be put into the input parameters\n",
    "# pmfOfBernoulli(1, -0.5) # gives -0.5 as the pmf value! this is mathematically incorrect\n",
    "# pmfOfBernoulli('hahaha', -0.5) # gives 0 as the pmf value! mathematically incorrect"
   ]
  },
  {
   "cell_type": "markdown",
   "metadata": {
    "lx_assignment_number": "1",
    "lx_problem_cell_type": "Test"
   },
   "source": [
    "---\n",
    "#### Local Test for Assignment 1, PROBLEM 3\n",
    "Evaluate cell below to make sure your answer is valid.                         You **should not** modify anything in the cell below when evaluating it to do a local test of                         your solution.\n",
    "You may need to include and evaluate code snippets from lecture notebooks in cells above to make the local test work correctly sometimes (see error messages for clues). This is meant to help you become efficient at recalling materials covered in lectures that relate to this problem. Such local tests will generally not be available in the exam."
   ]
  },
  {
   "cell_type": "code",
   "execution_count": 83,
   "metadata": {
    "deletable": false,
    "lx_assignment_number": "1",
    "lx_assignment_type": "ASSIGNMENT",
    "lx_assignment_type2print": "Assignment",
    "lx_problem_cell_type": "Test",
    "lx_problem_number": "3",
    "lx_problem_points": "2"
   },
   "outputs": [
    {
     "name": "stdout",
     "output_type": "stream",
     "text": [
      "You seem to have a valid probability for your answer. Hopefully it is correct!\n"
     ]
    }
   ],
   "source": [
    "# Evaluate this to locally test that your solution is returning probabilities\n",
    "try:\n",
    "    assert (pmfOfBernoulli(0, 1/2) >=0) and (pmfOfBernoulli(1, 1/2) <=1)\n",
    "    print(\"You seem to have a valid probability for your answer. Hopefully it is correct!\")\n",
    "except:\n",
    "    print(\"Try again. You don't have a valid probability,\\n \\\n",
    "           i.e., a real number in the unit interval [0,1] for your answer\")"
   ]
  }
 ],
 "metadata": {
  "kernelspec": {
   "display_name": "SageMath 9.1",
   "language": "sage",
   "name": "sagemath"
  },
  "language_info": {
   "codemirror_mode": {
    "name": "ipython",
    "version": 3
   },
   "file_extension": ".py",
   "mimetype": "text/x-python",
   "name": "python",
   "nbconvert_exporter": "python",
   "pygments_lexer": "ipython3",
   "version": "3.7.8"
  },
  "lx_assignment_number": "1",
  "lx_course_instance": "2020",
  "lx_course_name": "Introduction to Data Science: A Comp-Math-Stat Approach",
  "lx_course_number": "1MS041"
 },
 "nbformat": 4,
 "nbformat_minor": 2
}
